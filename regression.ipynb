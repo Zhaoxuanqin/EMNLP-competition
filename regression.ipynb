{
  "cells": [
    {
      "cell_type": "code",
      "execution_count": null,
      "metadata": {
        "id": "AnktrduOniFa"
      },
      "outputs": [],
      "source": [
        "! pip install transformers\n",
        "! pip install datasets\n",
        "import warnings\n",
        "warnings.filterwarnings('ignore')\n",
        "from sklearn.metrics import f1_score\n"
      ]
    },
    {
      "cell_type": "code",
      "source": [
        "!pip install torchmetrics"
      ],
      "metadata": {
        "colab": {
          "base_uri": "https://localhost:8080/"
        },
        "id": "-Os5P1YhzhKW",
        "outputId": "3acc4a79-136f-4a3b-c50a-3383df35f7ed"
      },
      "execution_count": 2,
      "outputs": [
        {
          "output_type": "stream",
          "name": "stdout",
          "text": [
            "Looking in indexes: https://pypi.org/simple, https://us-python.pkg.dev/colab-wheels/public/simple/\n",
            "Collecting torchmetrics\n",
            "  Downloading torchmetrics-0.9.3-py3-none-any.whl (419 kB)\n",
            "\u001b[K     |████████████████████████████████| 419 kB 17.9 MB/s \n",
            "\u001b[?25hRequirement already satisfied: typing-extensions in /usr/local/lib/python3.7/dist-packages (from torchmetrics) (4.1.1)\n",
            "Requirement already satisfied: numpy>=1.17.2 in /usr/local/lib/python3.7/dist-packages (from torchmetrics) (1.21.6)\n",
            "Requirement already satisfied: torch>=1.3.1 in /usr/local/lib/python3.7/dist-packages (from torchmetrics) (1.12.1+cu113)\n",
            "Requirement already satisfied: packaging in /usr/local/lib/python3.7/dist-packages (from torchmetrics) (21.3)\n",
            "Requirement already satisfied: pyparsing!=3.0.5,>=2.0.2 in /usr/local/lib/python3.7/dist-packages (from packaging->torchmetrics) (3.0.9)\n",
            "Installing collected packages: torchmetrics\n",
            "Successfully installed torchmetrics-0.9.3\n"
          ]
        }
      ]
    },
    {
      "cell_type": "code",
      "execution_count": 3,
      "metadata": {
        "id": "XypgnHCEnnXt"
      },
      "outputs": [],
      "source": [
        "\n",
        "from transformers import AutoTokenizer, AutoModel, AdamW\n",
        "from collections import defaultdict\n",
        "from transformers import get_linear_schedule_with_warmup\n",
        "import time\n",
        "from torchmetrics import MeanSquaredError\n",
        "import torch"
      ]
    },
    {
      "cell_type": "code",
      "execution_count": 4,
      "metadata": {
        "id": "HCm106FxnohQ"
      },
      "outputs": [],
      "source": [
        "\n",
        "import numpy as np\n",
        "\n",
        "from sklearn.metrics import f1_score\n",
        "import datasets\n",
        "import torch\n",
        "from torch.utils.data import Dataset, DataLoader\n",
        "import torch.nn as nn\n",
        "from tensorflow.keras.preprocessing.sequence import pad_sequences\n",
        "import pandas as pd\n",
        "from transformers import BertModel, BertTokenizer\n",
        "from numpy import *\n",
        "from torch import nn, optim"
      ]
    },
    {
      "cell_type": "code",
      "execution_count": 7,
      "metadata": {
        "colab": {
          "base_uri": "https://localhost:8080/"
        },
        "id": "BbUCUJJQnp1j",
        "outputId": "d87c14fa-972d-4620-b3b4-fff36d3437d8"
      },
      "outputs": [
        {
          "output_type": "stream",
          "name": "stdout",
          "text": [
            "Drive already mounted at /content/drive; to attempt to forcibly remount, call drive.mount(\"/content/drive\", force_remount=True).\n",
            "/content/drive/MyDrive/Colab Notebooks/新建文件夹/ERAI Dataset_with_translation\n"
          ]
        }
      ],
      "source": [
        "from google.colab import drive\n",
        "drive.mount('/content/drive')\n",
        "%cd /content/drive/MyDrive/Colab Notebooks/新建文件夹/ERAI Dataset_with_translation"
      ]
    },
    {
      "cell_type": "code",
      "source": [
        "pd.set_option('display.max_rows', None)\n",
        "\n"
      ],
      "metadata": {
        "id": "ik9XajY6yGqJ"
      },
      "execution_count": 6,
      "outputs": []
    },
    {
      "cell_type": "code",
      "source": [
        "\n",
        "df_unsupervised = pd.read_json('/content/drive/MyDrive/Colab Notebooks/新建文件夹/ERAI_Dataset_unsupervised.json')"
      ],
      "metadata": {
        "id": "Zd-hD40Wnfhq"
      },
      "execution_count": null,
      "outputs": []
    },
    {
      "cell_type": "code",
      "source": [
        "df = pd.read_json('ERAI_Dataset_pairwise_train_with_translation.json')\n",
        "# df2 = pd.read_json('ERAI_Dataset_pairwise_test.json')\n",
        "\n",
        "from sklearn.utils import shuffle\n",
        "df = shuffle(df)\n",
        "# df2 = shuffle(df2)\n",
        "\n",
        "\n",
        "df['post1_en']=df['post1'].apply(lambda x:x.replace('\\n',''))\n",
        "df['post2_en']=df['post2'].apply(lambda x:x.replace('\\n',''))\n",
        "# df2['post1']=df2['post1'].apply(lambda x:x.replace('\\n',''))\n",
        "# df2['post2']=df2['post2'].apply(lambda x:x.replace('\\n',''))"
      ],
      "metadata": {
        "id": "kMP47MjBohHg"
      },
      "execution_count": 9,
      "outputs": []
    },
    {
      "cell_type": "code",
      "source": [
        "df = df.dropna(axis = 0)"
      ],
      "metadata": {
        "id": "IE6oCGqdqs1P"
      },
      "execution_count": 10,
      "outputs": []
    },
    {
      "cell_type": "code",
      "source": [
        "# df['MPP1'] = df['MPP1'].apply(lambda x:x*10)\n",
        "# df['MPP2'] = df['MPP2'].apply(lambda x:x*10)\n",
        "# df['ML1'] = df['ML1'].apply(lambda x:x*10)\n",
        "# df['ML2'] = df['ML2'].apply(lambda x:x*10)"
      ],
      "metadata": {
        "id": "rbn4uh_SSWED"
      },
      "execution_count": null,
      "outputs": []
    },
    {
      "cell_type": "code",
      "source": [
        "PRETRAINED_MODEL_NAME = \"nlpaueb/sec-bert-shape\"  \n",
        "# 获取预测模型所使用的tokenizer\n",
        "# AutoTokenizer, AutoModel,\n",
        "tokenizer = AutoTokenizer.from_pretrained(PRETRAINED_MODEL_NAME)"
      ],
      "metadata": {
        "colab": {
          "base_uri": "https://localhost:8080/",
          "height": 113,
          "referenced_widgets": [
            "82471dc0f1894c2f9ef9b87348125219",
            "53cc269cc6ae4e30802c040381e1b5af",
            "5b1eb6caec574efb8390e6b3fb6ae500",
            "51bddd1e033d41c48d9dc93fb3ba1d62",
            "3b757347fee1493282e6164a074246ba",
            "a682681e81304e8bae7fdbb24a369113",
            "33669ea6cc3940ca9589d30d81dcb9ff",
            "b17e6e78e1894fb495c2b9bbf7d7517b",
            "27b1a7767b7844f8be1bd1cee0e74353",
            "bb23b6ae17de48b78ea6878fdee3a10d",
            "f745688bc6034e80a6a60a555679dc04",
            "1b3f80fe75094e7fa08c5c09b6aad119",
            "5eeb4d4cf0ff4b8eae95df7a2170b43d",
            "5ae9e312bace4752ba3583dcb1671960",
            "c6e740da77094f5d8d9482ef14be04e2",
            "c79abd2bb51943deaa83eabde1248a98",
            "ed80a99160874571b89efc8d56e92015",
            "8e736d261a86475786a32eb7bd50c61a",
            "04ccca1b28a54549a5bd1687085b53f4",
            "171c823b0db6497e8c8e0e43e25bfe78",
            "42e3f749e2ef4c16a0df6169fd819ed5",
            "dcf0d177b2544866aa5d1e20498974a8",
            "f6edeafae6764ce4bc77808c1a8cc42b",
            "872afbdc34944febb81139665ec7f249",
            "8ead5550e7ad4fa59d0e7d30738ea734",
            "6e93ce6f2c31481ba22e8663ba131b4b",
            "eb5d392632814e67a685a24c8d12d436",
            "9e28617b17dc466496bf95f567e9f951",
            "a4d703c529c44b469ddcd77de8a8940e",
            "af205cd252b5445ab39c37ba8da41944",
            "b35c0452b36d4fac9984dde3f18d0ab3",
            "bd115ddb646845b7bd417b893561ebcc",
            "d84e9f0df70c4d7eb5db22e78908e3ad"
          ]
        },
        "id": "5EubtdoGFG1F",
        "outputId": "b6a02e2e-11c8-428a-e823-df1fecc605bf"
      },
      "execution_count": 12,
      "outputs": [
        {
          "output_type": "display_data",
          "data": {
            "text/plain": [
              "Downloading tokenizer_config.json:   0%|          | 0.00/3.93k [00:00<?, ?B/s]"
            ],
            "application/vnd.jupyter.widget-view+json": {
              "version_major": 2,
              "version_minor": 0,
              "model_id": "82471dc0f1894c2f9ef9b87348125219"
            }
          },
          "metadata": {}
        },
        {
          "output_type": "display_data",
          "data": {
            "text/plain": [
              "Downloading vocab.txt:   0%|          | 0.00/222k [00:00<?, ?B/s]"
            ],
            "application/vnd.jupyter.widget-view+json": {
              "version_major": 2,
              "version_minor": 0,
              "model_id": "1b3f80fe75094e7fa08c5c09b6aad119"
            }
          },
          "metadata": {}
        },
        {
          "output_type": "display_data",
          "data": {
            "text/plain": [
              "Downloading special_tokens_map.json:   0%|          | 0.00/3.69k [00:00<?, ?B/s]"
            ],
            "application/vnd.jupyter.widget-view+json": {
              "version_major": 2,
              "version_minor": 0,
              "model_id": "f6edeafae6764ce4bc77808c1a8cc42b"
            }
          },
          "metadata": {}
        }
      ]
    },
    {
      "cell_type": "code",
      "source": [
        "\n",
        "def generate_input_data(post,mpp_all_value,ml_all_value,max_len):\n",
        "\n",
        "  # mpp_all_value = np.array(mpp_all_value)\n",
        "  # ml_all_value = np.arrary(ml_all_value)\n",
        "  # all_value = mpp_all_value+ml_all_value\n",
        "  all_value = pd.concat([mpp_all_value,ml_all_value],axis=1)\n",
        "  \n",
        "  \n",
        "  full_text = []\n",
        "  attention_mask = []\n",
        "  # token_type_ids = []\n",
        "  for i in post:\n",
        "    if len(i)>max_len:\n",
        "      i = i[:max_len]\n",
        "    \n",
        "    i = tokenizer.tokenize(i)\n",
        "    \n",
        "    text = ['[CLS]']+i+['[SEP]']\n",
        "    full_text.append(tokenizer.convert_tokens_to_ids(text))\n",
        "    attention_mask.append(np.ones_like(text))\n",
        "    # token_type_id = [0]*(len(i)+2) + [1]*(len(j)+1)\n",
        "    # token_type_ids.append(token_type_id)\n",
        "  all_pad_tokens = pad_sequences(full_text, maxlen=max_len, padding='post', truncating='post')\n",
        "  all_mask = pad_sequences(attention_mask, maxlen=max_len, padding='post', truncating='post')\n",
        "  # token_type_ids = pad_sequences(token_type_ids, maxlen=max_len*2, padding='post', truncating='post')\n",
        "  \n",
        "  return {\n",
        "      'input_ids': torch.tensor(all_pad_tokens,dtype=torch.long),\n",
        "      'attention_mask': torch.tensor(all_mask, dtype=torch.long),\n",
        "      # 'token_type_ids':torch.tensor(token_type_ids,dtype = torch.long),\n",
        "      'all_value': torch.tensor(all_value.values, dtype=torch.float)\n",
        "      # 'ml_label':torch.tensor(ml_label,dtype = torch.long)\n",
        "  }\n",
        "\n",
        "    "
      ],
      "metadata": {
        "id": "sS4W-xYLuQIl"
      },
      "execution_count": 13,
      "outputs": []
    },
    {
      "cell_type": "code",
      "source": [
        " class BertNerClassifier(nn.Module):\n",
        "\n",
        "  def __init__(self, n_classes):\n",
        "    super(BertNerClassifier, self).__init__()\n",
        "    self.bert = AutoModel.from_pretrained(\"nlpaueb/sec-bert-shape\")\n",
        "    self.drop = nn.Dropout(p=0.1)\n",
        "    self.out = nn.Linear(self.bert.config.hidden_size, n_classes)\n",
        "  \n",
        "  def forward(self, input_ids, attention_mask):\n",
        "    output = self.bert(\n",
        "      input_ids=input_ids,\n",
        "      attention_mask=attention_mask\n",
        "\n",
        "    )[1]\n",
        "    \n",
        "    output = self.drop(output)\n",
        "    # self.out(output)\n",
        "    \n",
        "    return self.out(output)"
      ],
      "metadata": {
        "id": "r9ibb_OfB9Vm"
      },
      "execution_count": 14,
      "outputs": []
    },
    {
      "cell_type": "code",
      "execution_count": 15,
      "metadata": {
        "id": "zgHH5evOn4jq"
      },
      "outputs": [],
      "source": [
        "\n",
        "class DataSequence(Dataset):\n",
        "\n",
        "    def __init__(self, data):\n",
        "\n",
        "      self.features = data['input_ids']\n",
        "      self.mask = data['attention_mask']\n",
        "      # self.token_ids = data['token_type_ids']\n",
        "      self.all_value = data['all_value']\n",
        "      # self.ml_labels = data['ml_label']\n",
        "\n",
        "    def __len__(self):\n",
        "\n",
        "        return len(self.all_value)\n",
        "\n",
        "    def __getitem__(self, index):\n",
        "\n",
        "        return self.features[index],self.mask[index],self.all_value[index]"
      ]
    },
    {
      "cell_type": "code",
      "source": [
        "\n",
        "# test_post2 = post2[180:200]\n",
        "\n",
        "# train_mpp_label = mpp_label[:160]\n",
        "# validation_mpp_label = mpp_label[160:180]\n",
        "# test_mpp_label = mpp_label[180:200]\n",
        "\n",
        "# train_ml_label = ml_label[:160]\n",
        "# validation_ml_label = ml_label[160:180]\n",
        "# test_ml_label = ml_label[180:200]\n",
        "# train_mpp_label = mpp_label[:160]\n",
        "train = df[0:180]\n",
        "# validation = df[160:180]\n",
        "test = df[176:200]\n",
        "train_post1 = train['post1_en']\n",
        "train_post2 = train['post2_en']\n",
        "train_mmp1 = train['MPP1']\n",
        "train_mpp2 = train['MPP2']\n",
        "train_ml1 = train['ML1']\n",
        "train_ml2 = train['ML2']\n"
      ],
      "metadata": {
        "id": "sT4rCNBDhgXZ"
      },
      "execution_count": 16,
      "outputs": []
    },
    {
      "cell_type": "code",
      "source": [
        "all_train_post = pd.concat([train_post1,train_post2],axis=0)\n",
        "all_train_mpp = pd.concat([train_mmp1,train_mpp2],axis=0)\n",
        "all_train_ml = pd.concat([train_ml1,train_ml2],axis=0)"
      ],
      "metadata": {
        "id": "wj6guxtZ2cFW"
      },
      "execution_count": 17,
      "outputs": []
    },
    {
      "cell_type": "code",
      "source": [
        "# validation_post1 = validation['post1']\n",
        "# validation_post2 = validation['post2']\n",
        "# validation_mmp1 = validation['MPP1']\n",
        "# validation_mpp2 = validation['MPP2']\n",
        "# validation_ml1 = validation['ML1']\n",
        "# validation_ml2 = validation['ML2']"
      ],
      "metadata": {
        "id": "Xpv57szznl1-"
      },
      "execution_count": null,
      "outputs": []
    },
    {
      "cell_type": "code",
      "source": [
        "# all_validation_post = pd.concat([validation_post1,validation_post2],axis=0)\n",
        "# all_validation_mpp = pd.concat([validation_mmp1,validation_mpp2],axis=0)\n",
        "# all_validation_ml = pd.concat([validation_ml1,validation_ml2],axis=0)"
      ],
      "metadata": {
        "id": "8wJ-zCKh28LD"
      },
      "execution_count": null,
      "outputs": []
    },
    {
      "cell_type": "code",
      "source": [
        "def generate_dataloader(post,mpp_all_value,ml_all_value,max_len,batch_size):\n",
        "  data = generate_input_data(post,mpp_all_value,ml_all_value,max_len)\n",
        "  data = DataSequence(data)\n",
        "  dataloader = DataLoader(data, num_workers=10, batch_size=batch_size)\n",
        "  return dataloader\n"
      ],
      "metadata": {
        "id": "zmRG1_cFiXm4"
      },
      "execution_count": 18,
      "outputs": []
    },
    {
      "cell_type": "code",
      "source": [
        "max_len = 512\n",
        "batch_size = 1\n",
        "train_dataloader = generate_dataloader(all_train_post,all_train_mpp,all_train_ml,max_len,batch_size)\n",
        "# test_dataloader = generate_dataloader(test_post1,test_post2,test_mpp_label,test_ml_label,max_len,batch_size)\n",
        "# validation_dataloader = generate_dataloader(all_validation_post,all_validation_mpp,all_validation_ml,max_len,batch_size)"
      ],
      "metadata": {
        "id": "pJY5tdnXi36s"
      },
      "execution_count": 20,
      "outputs": []
    },
    {
      "cell_type": "code",
      "source": [
        "test = df[176:200]"
      ],
      "metadata": {
        "id": "7-YBSphsEQ4l"
      },
      "execution_count": 21,
      "outputs": []
    },
    {
      "cell_type": "code",
      "source": [
        "\n",
        "test_post1 = test['post1_en']\n",
        "test_post2 = test['post2_en']\n",
        "test_mmp1 = test['MPP1']\n",
        "test_mpp2 = test['MPP2']\n",
        "test_ml1 = test['ML1']\n",
        "test_ml2 = test['ML2']\n",
        "\n",
        "test_mpp_label = test['MPP_label']\n",
        "test_ml_label = test['ML_label']"
      ],
      "metadata": {
        "id": "6nKjXT-44huY"
      },
      "execution_count": 24,
      "outputs": []
    },
    {
      "cell_type": "code",
      "source": [
        "test_dataloader1 = generate_dataloader(test_post1,test_mmp1,test_ml1,max_len,1)\n",
        "test_dataloader2 = generate_dataloader(test_post2,test_mpp2,test_ml2,max_len,1)"
      ],
      "metadata": {
        "id": "Hcycvo_Z4OGU"
      },
      "execution_count": 25,
      "outputs": []
    },
    {
      "cell_type": "code",
      "source": [
        "EPOCHS = 100\n",
        "\n",
        "# total_steps = len(train_data_loader) * EPOCHS\n",
        "\n",
        "# scheduler = get_linear_schedule_with_warmup(\n",
        "#   optimizer,\n",
        "#   num_warmup_steps=0,\n",
        "#   num_training_steps=total_steps\n",
        "# )\n",
        "device = torch.device(\"cuda:0\" if torch.cuda.is_available() else \"cpu\")\n",
        "loss_fn = nn.MSELoss().to(device)\n",
        "\n",
        "\n",
        "label_num = 2\n",
        "model= BertNerClassifier(label_num).to(device)\n",
        "\n",
        "optimizer = AdamW(model.parameters(), lr=2e-5, correct_bias=False)\n",
        "mean_squared_error = MeanSquaredError().to(device)"
      ],
      "metadata": {
        "id": "3m3OxjI4qZYf",
        "colab": {
          "base_uri": "https://localhost:8080/"
        },
        "outputId": "053d1ba0-4963-49c0-ad0b-f1fd286ad168"
      },
      "execution_count": 28,
      "outputs": [
        {
          "output_type": "stream",
          "name": "stderr",
          "text": [
            "Some weights of the model checkpoint at nlpaueb/sec-bert-shape were not used when initializing BertModel: ['cls.predictions.bias', 'cls.seq_relationship.bias', 'cls.seq_relationship.weight', 'cls.predictions.decoder.weight', 'cls.predictions.transform.LayerNorm.weight', 'cls.predictions.transform.dense.bias', 'cls.predictions.transform.LayerNorm.bias', 'cls.predictions.transform.dense.weight', 'cls.predictions.decoder.bias']\n",
            "- This IS expected if you are initializing BertModel from the checkpoint of a model trained on another task or with another architecture (e.g. initializing a BertForSequenceClassification model from a BertForPreTraining model).\n",
            "- This IS NOT expected if you are initializing BertModel from the checkpoint of a model that you expect to be exactly identical (initializing a BertForSequenceClassification model from a BertForSequenceClassification model).\n"
          ]
        }
      ]
    },
    {
      "cell_type": "code",
      "execution_count": 31,
      "metadata": {
        "id": "xgRZK6aQoZ_9"
      },
      "outputs": [],
      "source": [
        "\n",
        "def train_and_eval(model, \n",
        "  train_loader, \n",
        "  # validation_loader,\n",
        "  loss_fn, \n",
        "  optimizer,  \n",
        "  device,\n",
        "  epoch,\n",
        "  label_num\n",
        "  ):\n",
        "  model.train()\n",
        "  accuracy_state = 0\n",
        "  ml_accuracy_state = 0\n",
        "  for epo in range(epoch):\n",
        "    \n",
        "    global train_loss\n",
        "    train_loss = []\n",
        "    \n",
        "    train_predictions = []\n",
        "    \n",
        "\n",
        "    validation_loss = []\n",
        "    \n",
        "    validation_predictions = []\n",
        "    \n",
        "   \n",
        "    \n",
        "    for data in train_loader:\n",
        "      \n",
        "      input_ids = data[0].to(device)\n",
        "      attention_mask = data[1].to(device)\n",
        "      \n",
        "      targets = data[2].to(device)\n",
        "      \n",
        "\n",
        "      outputs = model(\n",
        "        input_ids=input_ids,\n",
        "        attention_mask=attention_mask,\n",
        "        \n",
        "      )\n",
        "      \n",
        "\n",
        "      loss = loss_fn(outputs, targets)\n",
        "      \n",
        "      \n",
        "\n",
        "      train_loss.append(loss.item())\n",
        "      \n",
        "      # train_predictions += torch.sum(outputs == targets)\n",
        "      # print(train_mpp_predictions)\n",
        "      \n",
        "      mse = mean_squared_error(outputs, targets)\n",
        "      train_predictions.append(mse.item())\n",
        "    \n",
        "      optimizer.zero_grad()\n",
        "      loss.backward()\n",
        "      optimizer.step()\n",
        "\n",
        "    # model.eval()\n",
        "\n",
        "    # with torch.no_grad():\n",
        "    #   for data in validation_loader:\n",
        "    \n",
        "    #     input_ids = data[0].to(device)\n",
        "    #     attention_mask = data[1].to(device)\n",
        "        \n",
        "    #     targets = data[2].to(device)\n",
        "        \n",
        "\n",
        "    #     outputs = model(\n",
        "    #       input_ids=input_ids,\n",
        "    #       attention_mask=attention_mask,\n",
        "          \n",
        "    #     )\n",
        "\n",
        "    #     # preds, _ = torch.max(outputs, dim=1)\n",
        "\n",
        "    #     loss = loss_fn(outputs, targets)\n",
        "\n",
        "    \n",
        "    #     validation_loss.append(loss.item())\n",
        "        \n",
        "    #     mse = mean_squared_error(outputs, targets)\n",
        "    #     validation_predictions.append(mse.item())\n",
        "        \n",
        "        # validation_ml_predictions += torch.sum(preds == ml_targets)\n",
        "    \n",
        "    train_mse = np.mean(train_predictions)\n",
        "    \n",
        "    final_train_loss = np.mean(train_loss)\n",
        "   \n",
        "\n",
        "    # validation_mse = np.mean(validation_predictions)\n",
        "    \n",
        "    # final_validation_loss = np.mean(validation_loss)\n",
        "   \n",
        "\n",
        "    if(train_mse > accuracy_state):\n",
        "      accuracy_state = train_mse\n",
        "      torch.save(model.state_dict(), 're_bert_state.bin')\n",
        "\n",
        "    print(\n",
        "'Epoch [{}] Train Totol Loss: {:.4f}, Train RMSE: {:.4f}'\n",
        "    .format(epo+1,final_train_loss, train_mse))"
      ]
    },
    {
      "cell_type": "code",
      "source": [
        "train_and_eval(model, \n",
        "  train_dataloader, \n",
        "  loss_fn, \n",
        "  optimizer,  \n",
        "  device,\n",
        "  EPOCHS,\n",
        "  label_num\n",
        "  )"
      ],
      "metadata": {
        "colab": {
          "base_uri": "https://localhost:8080/"
        },
        "id": "97anhQ4BEQ7-",
        "outputId": "ade0926e-237e-4d9f-99cf-1464925a5868"
      },
      "execution_count": null,
      "outputs": [
        {
          "output_type": "stream",
          "name": "stdout",
          "text": [
            "Epoch [1] Train Totol Loss: 0.0032, Train RMSE: 0.0032\n",
            "Epoch [2] Train Totol Loss: 0.0029, Train RMSE: 0.0029\n",
            "Epoch [3] Train Totol Loss: 0.0025, Train RMSE: 0.0025\n",
            "Epoch [4] Train Totol Loss: 0.0022, Train RMSE: 0.0022\n",
            "Epoch [5] Train Totol Loss: 0.0023, Train RMSE: 0.0023\n",
            "Epoch [6] Train Totol Loss: 0.0023, Train RMSE: 0.0023\n",
            "Epoch [7] Train Totol Loss: 0.0020, Train RMSE: 0.0020\n",
            "Epoch [8] Train Totol Loss: 0.0021, Train RMSE: 0.0021\n",
            "Epoch [9] Train Totol Loss: 0.0020, Train RMSE: 0.0020\n",
            "Epoch [10] Train Totol Loss: 0.0017, Train RMSE: 0.0017\n",
            "Epoch [11] Train Totol Loss: 0.0017, Train RMSE: 0.0017\n",
            "Epoch [12] Train Totol Loss: 0.0019, Train RMSE: 0.0019\n",
            "Epoch [13] Train Totol Loss: 0.0017, Train RMSE: 0.0017\n",
            "Epoch [14] Train Totol Loss: 0.0019, Train RMSE: 0.0019\n",
            "Epoch [15] Train Totol Loss: 0.0017, Train RMSE: 0.0017\n",
            "Epoch [16] Train Totol Loss: 0.0017, Train RMSE: 0.0017\n",
            "Epoch [17] Train Totol Loss: 0.0018, Train RMSE: 0.0018\n",
            "Epoch [18] Train Totol Loss: 0.0016, Train RMSE: 0.0016\n",
            "Epoch [19] Train Totol Loss: 0.0016, Train RMSE: 0.0016\n",
            "Epoch [20] Train Totol Loss: 0.0016, Train RMSE: 0.0016\n",
            "Epoch [21] Train Totol Loss: 0.0017, Train RMSE: 0.0017\n",
            "Epoch [22] Train Totol Loss: 0.0015, Train RMSE: 0.0015\n",
            "Epoch [23] Train Totol Loss: 0.0016, Train RMSE: 0.0016\n",
            "Epoch [24] Train Totol Loss: 0.0015, Train RMSE: 0.0015\n",
            "Epoch [25] Train Totol Loss: 0.0015, Train RMSE: 0.0015\n",
            "Epoch [26] Train Totol Loss: 0.0016, Train RMSE: 0.0016\n",
            "Epoch [27] Train Totol Loss: 0.0015, Train RMSE: 0.0015\n",
            "Epoch [28] Train Totol Loss: 0.0014, Train RMSE: 0.0014\n",
            "Epoch [29] Train Totol Loss: 0.0014, Train RMSE: 0.0014\n",
            "Epoch [30] Train Totol Loss: 0.0015, Train RMSE: 0.0015\n",
            "Epoch [31] Train Totol Loss: 0.0014, Train RMSE: 0.0014\n",
            "Epoch [32] Train Totol Loss: 0.0014, Train RMSE: 0.0014\n",
            "Epoch [33] Train Totol Loss: 0.0014, Train RMSE: 0.0014\n",
            "Epoch [34] Train Totol Loss: 0.0014, Train RMSE: 0.0014\n",
            "Epoch [35] Train Totol Loss: 0.0014, Train RMSE: 0.0014\n",
            "Epoch [36] Train Totol Loss: 0.0015, Train RMSE: 0.0015\n",
            "Epoch [37] Train Totol Loss: 0.0013, Train RMSE: 0.0013\n",
            "Epoch [38] Train Totol Loss: 0.0013, Train RMSE: 0.0013\n",
            "Epoch [39] Train Totol Loss: 0.0013, Train RMSE: 0.0013\n",
            "Epoch [40] Train Totol Loss: 0.0013, Train RMSE: 0.0013\n",
            "Epoch [41] Train Totol Loss: 0.0013, Train RMSE: 0.0013\n",
            "Epoch [42] Train Totol Loss: 0.0012, Train RMSE: 0.0012\n",
            "Epoch [43] Train Totol Loss: 0.0012, Train RMSE: 0.0012\n",
            "Epoch [44] Train Totol Loss: 0.0013, Train RMSE: 0.0013\n",
            "Epoch [45] Train Totol Loss: 0.0012, Train RMSE: 0.0012\n",
            "Epoch [46] Train Totol Loss: 0.0011, Train RMSE: 0.0011\n",
            "Epoch [47] Train Totol Loss: 0.0011, Train RMSE: 0.0011\n",
            "Epoch [48] Train Totol Loss: 0.0012, Train RMSE: 0.0012\n",
            "Epoch [49] Train Totol Loss: 0.0009, Train RMSE: 0.0009\n",
            "Epoch [50] Train Totol Loss: 0.0010, Train RMSE: 0.0010\n",
            "Epoch [51] Train Totol Loss: 0.0010, Train RMSE: 0.0010\n",
            "Epoch [52] Train Totol Loss: 0.0010, Train RMSE: 0.0010\n",
            "Epoch [53] Train Totol Loss: 0.0010, Train RMSE: 0.0010\n",
            "Epoch [54] Train Totol Loss: 0.0011, Train RMSE: 0.0011\n",
            "Epoch [55] Train Totol Loss: 0.0009, Train RMSE: 0.0009\n",
            "Epoch [56] Train Totol Loss: 0.0009, Train RMSE: 0.0009\n",
            "Epoch [57] Train Totol Loss: 0.0010, Train RMSE: 0.0010\n",
            "Epoch [58] Train Totol Loss: 0.0012, Train RMSE: 0.0012\n",
            "Epoch [59] Train Totol Loss: 0.0009, Train RMSE: 0.0009\n",
            "Epoch [60] Train Totol Loss: 0.0010, Train RMSE: 0.0010\n",
            "Epoch [61] Train Totol Loss: 0.0009, Train RMSE: 0.0009\n",
            "Epoch [62] Train Totol Loss: 0.0008, Train RMSE: 0.0008\n",
            "Epoch [63] Train Totol Loss: 0.0008, Train RMSE: 0.0008\n"
          ]
        }
      ]
    },
    {
      "cell_type": "code",
      "source": [
        "def test_prediction(model, \n",
        "  test_dataloader, \n",
        "  loss_fn, \n",
        "  optimizer,\n",
        "  device\n",
        "  ):\n",
        "  \n",
        "  \n",
        "  test_pred = []\n",
        "\n",
        "  \n",
        "\n",
        "  model.eval()\n",
        "  with torch.no_grad():\n",
        "    for data in test_dataloader:\n",
        "      input_ids = data[0].to(device)\n",
        "      attention_mask = data[1].to(device)\n",
        "      \n",
        "      targets = data[2].to(device)\n",
        "\n",
        "      outputs = model(\n",
        "        input_ids=input_ids,\n",
        "        attention_mask=attention_mask,\n",
        "        \n",
        "      )\n",
        "\n",
        "      \n",
        "      test_pred.append(outputs)\n",
        "  return test_pred\n",
        "     \n",
        "\n",
        "  # print('Test ACCURACY_SCORE: {:.4f}'.format(test_accuracy))"
      ],
      "metadata": {
        "id": "hrlzlp9eIKW0"
      },
      "execution_count": null,
      "outputs": []
    },
    {
      "cell_type": "code",
      "source": [
        "from sklearn.metrics import accuracy_score"
      ],
      "metadata": {
        "id": "ogh98U0aLIkH"
      },
      "execution_count": null,
      "outputs": []
    },
    {
      "cell_type": "code",
      "source": [
        "test_pred1 = test_prediction(model, \n",
        "  test_dataloader1, \n",
        "  loss_fn, \n",
        "  optimizer,\n",
        "  device\n",
        "  )\n",
        "\n",
        "test_pred2 = test_prediction(model, \n",
        "  test_dataloader2, \n",
        "  loss_fn, \n",
        "  optimizer,\n",
        "  device\n",
        "  )\n",
        "\n",
        "mpp_pred_label = []\n",
        "ml_pred_label = []\n",
        "for i, j in zip (test_pred1,test_pred2):\n",
        "  if i[0][0]>j[0][0]:\n",
        "    mpp_pred_label.append(1)\n",
        "  else:\n",
        "    mpp_pred_label.append(0)\n",
        "  if i[0][1]>j[0][1]:\n",
        "    ml_pred_label.append(0)\n",
        "  else:\n",
        "    ml_pred_label.append(1)\n",
        "\n",
        "\n",
        "mpp_accuracy = accuracy_score(test_mpp_label, mpp_pred_label)\n",
        "ml_accuracy = accuracy_score(test_ml_label, ml_pred_label)"
      ],
      "metadata": {
        "id": "TYcFT1B-7tbf"
      },
      "execution_count": null,
      "outputs": []
    },
    {
      "cell_type": "code",
      "source": [
        "mpp_accuracy"
      ],
      "metadata": {
        "colab": {
          "base_uri": "https://localhost:8080/"
        },
        "id": "3NpqojJ5If8-",
        "outputId": "b6a1e2c0-dfc7-4147-97c2-63be7fd74d5e"
      },
      "execution_count": null,
      "outputs": [
        {
          "output_type": "execute_result",
          "data": {
            "text/plain": [
              "0.5625"
            ]
          },
          "metadata": {},
          "execution_count": 37
        }
      ]
    },
    {
      "cell_type": "code",
      "source": [
        "ml_accuracy"
      ],
      "metadata": {
        "colab": {
          "base_uri": "https://localhost:8080/"
        },
        "id": "6mqxoSQeHjnd",
        "outputId": "2a38cecd-051d-4457-aaf2-6d5da6a93f17"
      },
      "execution_count": null,
      "outputs": [
        {
          "output_type": "execute_result",
          "data": {
            "text/plain": [
              "0.4375"
            ]
          },
          "metadata": {},
          "execution_count": 38
        }
      ]
    },
    {
      "cell_type": "code",
      "source": [
        "model.load_state_dict(torch.load('/content/drive/MyDrive/新建文件夹/chinese_bert_state.bin', map_location=torch.device(\"cuda:0\")))"
      ],
      "metadata": {
        "id": "T-okvJ0O_K4N",
        "colab": {
          "base_uri": "https://localhost:8080/"
        },
        "outputId": "47d0ad42-4895-4b31-bbde-9ca9044c0a48"
      },
      "execution_count": null,
      "outputs": [
        {
          "output_type": "execute_result",
          "data": {
            "text/plain": [
              "<All keys matched successfully>"
            ]
          },
          "metadata": {},
          "execution_count": 21
        }
      ]
    },
    {
      "cell_type": "code",
      "source": [],
      "metadata": {
        "id": "2yqLpFTu2VzB"
      },
      "execution_count": null,
      "outputs": []
    },
    {
      "cell_type": "code",
      "source": [
        "    "
      ],
      "metadata": {
        "id": "AiohoviYU89W"
      },
      "execution_count": null,
      "outputs": []
    }
  ],
  "metadata": {
    "accelerator": "GPU",
    "colab": {
      "machine_shape": "hm",
      "name": "eeServic.ipynb",
      "provenance": [],
      "collapsed_sections": []
    },
    "gpuClass": "standard",
    "kernelspec": {
      "display_name": "Python 3",
      "name": "python3"
    },
    "language_info": {
      "name": "python"
    },
    "widgets": {
      "application/vnd.jupyter.widget-state+json": {
        "82471dc0f1894c2f9ef9b87348125219": {
          "model_module": "@jupyter-widgets/controls",
          "model_name": "HBoxModel",
          "model_module_version": "1.5.0",
          "state": {
            "_dom_classes": [],
            "_model_module": "@jupyter-widgets/controls",
            "_model_module_version": "1.5.0",
            "_model_name": "HBoxModel",
            "_view_count": null,
            "_view_module": "@jupyter-widgets/controls",
            "_view_module_version": "1.5.0",
            "_view_name": "HBoxView",
            "box_style": "",
            "children": [
              "IPY_MODEL_53cc269cc6ae4e30802c040381e1b5af",
              "IPY_MODEL_5b1eb6caec574efb8390e6b3fb6ae500",
              "IPY_MODEL_51bddd1e033d41c48d9dc93fb3ba1d62"
            ],
            "layout": "IPY_MODEL_3b757347fee1493282e6164a074246ba"
          }
        },
        "53cc269cc6ae4e30802c040381e1b5af": {
          "model_module": "@jupyter-widgets/controls",
          "model_name": "HTMLModel",
          "model_module_version": "1.5.0",
          "state": {
            "_dom_classes": [],
            "_model_module": "@jupyter-widgets/controls",
            "_model_module_version": "1.5.0",
            "_model_name": "HTMLModel",
            "_view_count": null,
            "_view_module": "@jupyter-widgets/controls",
            "_view_module_version": "1.5.0",
            "_view_name": "HTMLView",
            "description": "",
            "description_tooltip": null,
            "layout": "IPY_MODEL_a682681e81304e8bae7fdbb24a369113",
            "placeholder": "​",
            "style": "IPY_MODEL_33669ea6cc3940ca9589d30d81dcb9ff",
            "value": "Downloading tokenizer_config.json: 100%"
          }
        },
        "5b1eb6caec574efb8390e6b3fb6ae500": {
          "model_module": "@jupyter-widgets/controls",
          "model_name": "FloatProgressModel",
          "model_module_version": "1.5.0",
          "state": {
            "_dom_classes": [],
            "_model_module": "@jupyter-widgets/controls",
            "_model_module_version": "1.5.0",
            "_model_name": "FloatProgressModel",
            "_view_count": null,
            "_view_module": "@jupyter-widgets/controls",
            "_view_module_version": "1.5.0",
            "_view_name": "ProgressView",
            "bar_style": "success",
            "description": "",
            "description_tooltip": null,
            "layout": "IPY_MODEL_b17e6e78e1894fb495c2b9bbf7d7517b",
            "max": 4024,
            "min": 0,
            "orientation": "horizontal",
            "style": "IPY_MODEL_27b1a7767b7844f8be1bd1cee0e74353",
            "value": 4024
          }
        },
        "51bddd1e033d41c48d9dc93fb3ba1d62": {
          "model_module": "@jupyter-widgets/controls",
          "model_name": "HTMLModel",
          "model_module_version": "1.5.0",
          "state": {
            "_dom_classes": [],
            "_model_module": "@jupyter-widgets/controls",
            "_model_module_version": "1.5.0",
            "_model_name": "HTMLModel",
            "_view_count": null,
            "_view_module": "@jupyter-widgets/controls",
            "_view_module_version": "1.5.0",
            "_view_name": "HTMLView",
            "description": "",
            "description_tooltip": null,
            "layout": "IPY_MODEL_bb23b6ae17de48b78ea6878fdee3a10d",
            "placeholder": "​",
            "style": "IPY_MODEL_f745688bc6034e80a6a60a555679dc04",
            "value": " 3.93k/3.93k [00:00&lt;00:00, 44.6kB/s]"
          }
        },
        "3b757347fee1493282e6164a074246ba": {
          "model_module": "@jupyter-widgets/base",
          "model_name": "LayoutModel",
          "model_module_version": "1.2.0",
          "state": {
            "_model_module": "@jupyter-widgets/base",
            "_model_module_version": "1.2.0",
            "_model_name": "LayoutModel",
            "_view_count": null,
            "_view_module": "@jupyter-widgets/base",
            "_view_module_version": "1.2.0",
            "_view_name": "LayoutView",
            "align_content": null,
            "align_items": null,
            "align_self": null,
            "border": null,
            "bottom": null,
            "display": null,
            "flex": null,
            "flex_flow": null,
            "grid_area": null,
            "grid_auto_columns": null,
            "grid_auto_flow": null,
            "grid_auto_rows": null,
            "grid_column": null,
            "grid_gap": null,
            "grid_row": null,
            "grid_template_areas": null,
            "grid_template_columns": null,
            "grid_template_rows": null,
            "height": null,
            "justify_content": null,
            "justify_items": null,
            "left": null,
            "margin": null,
            "max_height": null,
            "max_width": null,
            "min_height": null,
            "min_width": null,
            "object_fit": null,
            "object_position": null,
            "order": null,
            "overflow": null,
            "overflow_x": null,
            "overflow_y": null,
            "padding": null,
            "right": null,
            "top": null,
            "visibility": null,
            "width": null
          }
        },
        "a682681e81304e8bae7fdbb24a369113": {
          "model_module": "@jupyter-widgets/base",
          "model_name": "LayoutModel",
          "model_module_version": "1.2.0",
          "state": {
            "_model_module": "@jupyter-widgets/base",
            "_model_module_version": "1.2.0",
            "_model_name": "LayoutModel",
            "_view_count": null,
            "_view_module": "@jupyter-widgets/base",
            "_view_module_version": "1.2.0",
            "_view_name": "LayoutView",
            "align_content": null,
            "align_items": null,
            "align_self": null,
            "border": null,
            "bottom": null,
            "display": null,
            "flex": null,
            "flex_flow": null,
            "grid_area": null,
            "grid_auto_columns": null,
            "grid_auto_flow": null,
            "grid_auto_rows": null,
            "grid_column": null,
            "grid_gap": null,
            "grid_row": null,
            "grid_template_areas": null,
            "grid_template_columns": null,
            "grid_template_rows": null,
            "height": null,
            "justify_content": null,
            "justify_items": null,
            "left": null,
            "margin": null,
            "max_height": null,
            "max_width": null,
            "min_height": null,
            "min_width": null,
            "object_fit": null,
            "object_position": null,
            "order": null,
            "overflow": null,
            "overflow_x": null,
            "overflow_y": null,
            "padding": null,
            "right": null,
            "top": null,
            "visibility": null,
            "width": null
          }
        },
        "33669ea6cc3940ca9589d30d81dcb9ff": {
          "model_module": "@jupyter-widgets/controls",
          "model_name": "DescriptionStyleModel",
          "model_module_version": "1.5.0",
          "state": {
            "_model_module": "@jupyter-widgets/controls",
            "_model_module_version": "1.5.0",
            "_model_name": "DescriptionStyleModel",
            "_view_count": null,
            "_view_module": "@jupyter-widgets/base",
            "_view_module_version": "1.2.0",
            "_view_name": "StyleView",
            "description_width": ""
          }
        },
        "b17e6e78e1894fb495c2b9bbf7d7517b": {
          "model_module": "@jupyter-widgets/base",
          "model_name": "LayoutModel",
          "model_module_version": "1.2.0",
          "state": {
            "_model_module": "@jupyter-widgets/base",
            "_model_module_version": "1.2.0",
            "_model_name": "LayoutModel",
            "_view_count": null,
            "_view_module": "@jupyter-widgets/base",
            "_view_module_version": "1.2.0",
            "_view_name": "LayoutView",
            "align_content": null,
            "align_items": null,
            "align_self": null,
            "border": null,
            "bottom": null,
            "display": null,
            "flex": null,
            "flex_flow": null,
            "grid_area": null,
            "grid_auto_columns": null,
            "grid_auto_flow": null,
            "grid_auto_rows": null,
            "grid_column": null,
            "grid_gap": null,
            "grid_row": null,
            "grid_template_areas": null,
            "grid_template_columns": null,
            "grid_template_rows": null,
            "height": null,
            "justify_content": null,
            "justify_items": null,
            "left": null,
            "margin": null,
            "max_height": null,
            "max_width": null,
            "min_height": null,
            "min_width": null,
            "object_fit": null,
            "object_position": null,
            "order": null,
            "overflow": null,
            "overflow_x": null,
            "overflow_y": null,
            "padding": null,
            "right": null,
            "top": null,
            "visibility": null,
            "width": null
          }
        },
        "27b1a7767b7844f8be1bd1cee0e74353": {
          "model_module": "@jupyter-widgets/controls",
          "model_name": "ProgressStyleModel",
          "model_module_version": "1.5.0",
          "state": {
            "_model_module": "@jupyter-widgets/controls",
            "_model_module_version": "1.5.0",
            "_model_name": "ProgressStyleModel",
            "_view_count": null,
            "_view_module": "@jupyter-widgets/base",
            "_view_module_version": "1.2.0",
            "_view_name": "StyleView",
            "bar_color": null,
            "description_width": ""
          }
        },
        "bb23b6ae17de48b78ea6878fdee3a10d": {
          "model_module": "@jupyter-widgets/base",
          "model_name": "LayoutModel",
          "model_module_version": "1.2.0",
          "state": {
            "_model_module": "@jupyter-widgets/base",
            "_model_module_version": "1.2.0",
            "_model_name": "LayoutModel",
            "_view_count": null,
            "_view_module": "@jupyter-widgets/base",
            "_view_module_version": "1.2.0",
            "_view_name": "LayoutView",
            "align_content": null,
            "align_items": null,
            "align_self": null,
            "border": null,
            "bottom": null,
            "display": null,
            "flex": null,
            "flex_flow": null,
            "grid_area": null,
            "grid_auto_columns": null,
            "grid_auto_flow": null,
            "grid_auto_rows": null,
            "grid_column": null,
            "grid_gap": null,
            "grid_row": null,
            "grid_template_areas": null,
            "grid_template_columns": null,
            "grid_template_rows": null,
            "height": null,
            "justify_content": null,
            "justify_items": null,
            "left": null,
            "margin": null,
            "max_height": null,
            "max_width": null,
            "min_height": null,
            "min_width": null,
            "object_fit": null,
            "object_position": null,
            "order": null,
            "overflow": null,
            "overflow_x": null,
            "overflow_y": null,
            "padding": null,
            "right": null,
            "top": null,
            "visibility": null,
            "width": null
          }
        },
        "f745688bc6034e80a6a60a555679dc04": {
          "model_module": "@jupyter-widgets/controls",
          "model_name": "DescriptionStyleModel",
          "model_module_version": "1.5.0",
          "state": {
            "_model_module": "@jupyter-widgets/controls",
            "_model_module_version": "1.5.0",
            "_model_name": "DescriptionStyleModel",
            "_view_count": null,
            "_view_module": "@jupyter-widgets/base",
            "_view_module_version": "1.2.0",
            "_view_name": "StyleView",
            "description_width": ""
          }
        },
        "1b3f80fe75094e7fa08c5c09b6aad119": {
          "model_module": "@jupyter-widgets/controls",
          "model_name": "HBoxModel",
          "model_module_version": "1.5.0",
          "state": {
            "_dom_classes": [],
            "_model_module": "@jupyter-widgets/controls",
            "_model_module_version": "1.5.0",
            "_model_name": "HBoxModel",
            "_view_count": null,
            "_view_module": "@jupyter-widgets/controls",
            "_view_module_version": "1.5.0",
            "_view_name": "HBoxView",
            "box_style": "",
            "children": [
              "IPY_MODEL_5eeb4d4cf0ff4b8eae95df7a2170b43d",
              "IPY_MODEL_5ae9e312bace4752ba3583dcb1671960",
              "IPY_MODEL_c6e740da77094f5d8d9482ef14be04e2"
            ],
            "layout": "IPY_MODEL_c79abd2bb51943deaa83eabde1248a98"
          }
        },
        "5eeb4d4cf0ff4b8eae95df7a2170b43d": {
          "model_module": "@jupyter-widgets/controls",
          "model_name": "HTMLModel",
          "model_module_version": "1.5.0",
          "state": {
            "_dom_classes": [],
            "_model_module": "@jupyter-widgets/controls",
            "_model_module_version": "1.5.0",
            "_model_name": "HTMLModel",
            "_view_count": null,
            "_view_module": "@jupyter-widgets/controls",
            "_view_module_version": "1.5.0",
            "_view_name": "HTMLView",
            "description": "",
            "description_tooltip": null,
            "layout": "IPY_MODEL_ed80a99160874571b89efc8d56e92015",
            "placeholder": "​",
            "style": "IPY_MODEL_8e736d261a86475786a32eb7bd50c61a",
            "value": "Downloading vocab.txt: 100%"
          }
        },
        "5ae9e312bace4752ba3583dcb1671960": {
          "model_module": "@jupyter-widgets/controls",
          "model_name": "FloatProgressModel",
          "model_module_version": "1.5.0",
          "state": {
            "_dom_classes": [],
            "_model_module": "@jupyter-widgets/controls",
            "_model_module_version": "1.5.0",
            "_model_name": "FloatProgressModel",
            "_view_count": null,
            "_view_module": "@jupyter-widgets/controls",
            "_view_module_version": "1.5.0",
            "_view_name": "ProgressView",
            "bar_style": "success",
            "description": "",
            "description_tooltip": null,
            "layout": "IPY_MODEL_04ccca1b28a54549a5bd1687085b53f4",
            "max": 227097,
            "min": 0,
            "orientation": "horizontal",
            "style": "IPY_MODEL_171c823b0db6497e8c8e0e43e25bfe78",
            "value": 227097
          }
        },
        "c6e740da77094f5d8d9482ef14be04e2": {
          "model_module": "@jupyter-widgets/controls",
          "model_name": "HTMLModel",
          "model_module_version": "1.5.0",
          "state": {
            "_dom_classes": [],
            "_model_module": "@jupyter-widgets/controls",
            "_model_module_version": "1.5.0",
            "_model_name": "HTMLModel",
            "_view_count": null,
            "_view_module": "@jupyter-widgets/controls",
            "_view_module_version": "1.5.0",
            "_view_name": "HTMLView",
            "description": "",
            "description_tooltip": null,
            "layout": "IPY_MODEL_42e3f749e2ef4c16a0df6169fd819ed5",
            "placeholder": "​",
            "style": "IPY_MODEL_dcf0d177b2544866aa5d1e20498974a8",
            "value": " 222k/222k [00:00&lt;00:00, 288kB/s]"
          }
        },
        "c79abd2bb51943deaa83eabde1248a98": {
          "model_module": "@jupyter-widgets/base",
          "model_name": "LayoutModel",
          "model_module_version": "1.2.0",
          "state": {
            "_model_module": "@jupyter-widgets/base",
            "_model_module_version": "1.2.0",
            "_model_name": "LayoutModel",
            "_view_count": null,
            "_view_module": "@jupyter-widgets/base",
            "_view_module_version": "1.2.0",
            "_view_name": "LayoutView",
            "align_content": null,
            "align_items": null,
            "align_self": null,
            "border": null,
            "bottom": null,
            "display": null,
            "flex": null,
            "flex_flow": null,
            "grid_area": null,
            "grid_auto_columns": null,
            "grid_auto_flow": null,
            "grid_auto_rows": null,
            "grid_column": null,
            "grid_gap": null,
            "grid_row": null,
            "grid_template_areas": null,
            "grid_template_columns": null,
            "grid_template_rows": null,
            "height": null,
            "justify_content": null,
            "justify_items": null,
            "left": null,
            "margin": null,
            "max_height": null,
            "max_width": null,
            "min_height": null,
            "min_width": null,
            "object_fit": null,
            "object_position": null,
            "order": null,
            "overflow": null,
            "overflow_x": null,
            "overflow_y": null,
            "padding": null,
            "right": null,
            "top": null,
            "visibility": null,
            "width": null
          }
        },
        "ed80a99160874571b89efc8d56e92015": {
          "model_module": "@jupyter-widgets/base",
          "model_name": "LayoutModel",
          "model_module_version": "1.2.0",
          "state": {
            "_model_module": "@jupyter-widgets/base",
            "_model_module_version": "1.2.0",
            "_model_name": "LayoutModel",
            "_view_count": null,
            "_view_module": "@jupyter-widgets/base",
            "_view_module_version": "1.2.0",
            "_view_name": "LayoutView",
            "align_content": null,
            "align_items": null,
            "align_self": null,
            "border": null,
            "bottom": null,
            "display": null,
            "flex": null,
            "flex_flow": null,
            "grid_area": null,
            "grid_auto_columns": null,
            "grid_auto_flow": null,
            "grid_auto_rows": null,
            "grid_column": null,
            "grid_gap": null,
            "grid_row": null,
            "grid_template_areas": null,
            "grid_template_columns": null,
            "grid_template_rows": null,
            "height": null,
            "justify_content": null,
            "justify_items": null,
            "left": null,
            "margin": null,
            "max_height": null,
            "max_width": null,
            "min_height": null,
            "min_width": null,
            "object_fit": null,
            "object_position": null,
            "order": null,
            "overflow": null,
            "overflow_x": null,
            "overflow_y": null,
            "padding": null,
            "right": null,
            "top": null,
            "visibility": null,
            "width": null
          }
        },
        "8e736d261a86475786a32eb7bd50c61a": {
          "model_module": "@jupyter-widgets/controls",
          "model_name": "DescriptionStyleModel",
          "model_module_version": "1.5.0",
          "state": {
            "_model_module": "@jupyter-widgets/controls",
            "_model_module_version": "1.5.0",
            "_model_name": "DescriptionStyleModel",
            "_view_count": null,
            "_view_module": "@jupyter-widgets/base",
            "_view_module_version": "1.2.0",
            "_view_name": "StyleView",
            "description_width": ""
          }
        },
        "04ccca1b28a54549a5bd1687085b53f4": {
          "model_module": "@jupyter-widgets/base",
          "model_name": "LayoutModel",
          "model_module_version": "1.2.0",
          "state": {
            "_model_module": "@jupyter-widgets/base",
            "_model_module_version": "1.2.0",
            "_model_name": "LayoutModel",
            "_view_count": null,
            "_view_module": "@jupyter-widgets/base",
            "_view_module_version": "1.2.0",
            "_view_name": "LayoutView",
            "align_content": null,
            "align_items": null,
            "align_self": null,
            "border": null,
            "bottom": null,
            "display": null,
            "flex": null,
            "flex_flow": null,
            "grid_area": null,
            "grid_auto_columns": null,
            "grid_auto_flow": null,
            "grid_auto_rows": null,
            "grid_column": null,
            "grid_gap": null,
            "grid_row": null,
            "grid_template_areas": null,
            "grid_template_columns": null,
            "grid_template_rows": null,
            "height": null,
            "justify_content": null,
            "justify_items": null,
            "left": null,
            "margin": null,
            "max_height": null,
            "max_width": null,
            "min_height": null,
            "min_width": null,
            "object_fit": null,
            "object_position": null,
            "order": null,
            "overflow": null,
            "overflow_x": null,
            "overflow_y": null,
            "padding": null,
            "right": null,
            "top": null,
            "visibility": null,
            "width": null
          }
        },
        "171c823b0db6497e8c8e0e43e25bfe78": {
          "model_module": "@jupyter-widgets/controls",
          "model_name": "ProgressStyleModel",
          "model_module_version": "1.5.0",
          "state": {
            "_model_module": "@jupyter-widgets/controls",
            "_model_module_version": "1.5.0",
            "_model_name": "ProgressStyleModel",
            "_view_count": null,
            "_view_module": "@jupyter-widgets/base",
            "_view_module_version": "1.2.0",
            "_view_name": "StyleView",
            "bar_color": null,
            "description_width": ""
          }
        },
        "42e3f749e2ef4c16a0df6169fd819ed5": {
          "model_module": "@jupyter-widgets/base",
          "model_name": "LayoutModel",
          "model_module_version": "1.2.0",
          "state": {
            "_model_module": "@jupyter-widgets/base",
            "_model_module_version": "1.2.0",
            "_model_name": "LayoutModel",
            "_view_count": null,
            "_view_module": "@jupyter-widgets/base",
            "_view_module_version": "1.2.0",
            "_view_name": "LayoutView",
            "align_content": null,
            "align_items": null,
            "align_self": null,
            "border": null,
            "bottom": null,
            "display": null,
            "flex": null,
            "flex_flow": null,
            "grid_area": null,
            "grid_auto_columns": null,
            "grid_auto_flow": null,
            "grid_auto_rows": null,
            "grid_column": null,
            "grid_gap": null,
            "grid_row": null,
            "grid_template_areas": null,
            "grid_template_columns": null,
            "grid_template_rows": null,
            "height": null,
            "justify_content": null,
            "justify_items": null,
            "left": null,
            "margin": null,
            "max_height": null,
            "max_width": null,
            "min_height": null,
            "min_width": null,
            "object_fit": null,
            "object_position": null,
            "order": null,
            "overflow": null,
            "overflow_x": null,
            "overflow_y": null,
            "padding": null,
            "right": null,
            "top": null,
            "visibility": null,
            "width": null
          }
        },
        "dcf0d177b2544866aa5d1e20498974a8": {
          "model_module": "@jupyter-widgets/controls",
          "model_name": "DescriptionStyleModel",
          "model_module_version": "1.5.0",
          "state": {
            "_model_module": "@jupyter-widgets/controls",
            "_model_module_version": "1.5.0",
            "_model_name": "DescriptionStyleModel",
            "_view_count": null,
            "_view_module": "@jupyter-widgets/base",
            "_view_module_version": "1.2.0",
            "_view_name": "StyleView",
            "description_width": ""
          }
        },
        "f6edeafae6764ce4bc77808c1a8cc42b": {
          "model_module": "@jupyter-widgets/controls",
          "model_name": "HBoxModel",
          "model_module_version": "1.5.0",
          "state": {
            "_dom_classes": [],
            "_model_module": "@jupyter-widgets/controls",
            "_model_module_version": "1.5.0",
            "_model_name": "HBoxModel",
            "_view_count": null,
            "_view_module": "@jupyter-widgets/controls",
            "_view_module_version": "1.5.0",
            "_view_name": "HBoxView",
            "box_style": "",
            "children": [
              "IPY_MODEL_872afbdc34944febb81139665ec7f249",
              "IPY_MODEL_8ead5550e7ad4fa59d0e7d30738ea734",
              "IPY_MODEL_6e93ce6f2c31481ba22e8663ba131b4b"
            ],
            "layout": "IPY_MODEL_eb5d392632814e67a685a24c8d12d436"
          }
        },
        "872afbdc34944febb81139665ec7f249": {
          "model_module": "@jupyter-widgets/controls",
          "model_name": "HTMLModel",
          "model_module_version": "1.5.0",
          "state": {
            "_dom_classes": [],
            "_model_module": "@jupyter-widgets/controls",
            "_model_module_version": "1.5.0",
            "_model_name": "HTMLModel",
            "_view_count": null,
            "_view_module": "@jupyter-widgets/controls",
            "_view_module_version": "1.5.0",
            "_view_name": "HTMLView",
            "description": "",
            "description_tooltip": null,
            "layout": "IPY_MODEL_9e28617b17dc466496bf95f567e9f951",
            "placeholder": "​",
            "style": "IPY_MODEL_a4d703c529c44b469ddcd77de8a8940e",
            "value": "Downloading special_tokens_map.json: 100%"
          }
        },
        "8ead5550e7ad4fa59d0e7d30738ea734": {
          "model_module": "@jupyter-widgets/controls",
          "model_name": "FloatProgressModel",
          "model_module_version": "1.5.0",
          "state": {
            "_dom_classes": [],
            "_model_module": "@jupyter-widgets/controls",
            "_model_module_version": "1.5.0",
            "_model_name": "FloatProgressModel",
            "_view_count": null,
            "_view_module": "@jupyter-widgets/controls",
            "_view_module_version": "1.5.0",
            "_view_name": "ProgressView",
            "bar_style": "success",
            "description": "",
            "description_tooltip": null,
            "layout": "IPY_MODEL_af205cd252b5445ab39c37ba8da41944",
            "max": 3783,
            "min": 0,
            "orientation": "horizontal",
            "style": "IPY_MODEL_b35c0452b36d4fac9984dde3f18d0ab3",
            "value": 3783
          }
        },
        "6e93ce6f2c31481ba22e8663ba131b4b": {
          "model_module": "@jupyter-widgets/controls",
          "model_name": "HTMLModel",
          "model_module_version": "1.5.0",
          "state": {
            "_dom_classes": [],
            "_model_module": "@jupyter-widgets/controls",
            "_model_module_version": "1.5.0",
            "_model_name": "HTMLModel",
            "_view_count": null,
            "_view_module": "@jupyter-widgets/controls",
            "_view_module_version": "1.5.0",
            "_view_name": "HTMLView",
            "description": "",
            "description_tooltip": null,
            "layout": "IPY_MODEL_bd115ddb646845b7bd417b893561ebcc",
            "placeholder": "​",
            "style": "IPY_MODEL_d84e9f0df70c4d7eb5db22e78908e3ad",
            "value": " 3.69k/3.69k [00:00&lt;00:00, 129kB/s]"
          }
        },
        "eb5d392632814e67a685a24c8d12d436": {
          "model_module": "@jupyter-widgets/base",
          "model_name": "LayoutModel",
          "model_module_version": "1.2.0",
          "state": {
            "_model_module": "@jupyter-widgets/base",
            "_model_module_version": "1.2.0",
            "_model_name": "LayoutModel",
            "_view_count": null,
            "_view_module": "@jupyter-widgets/base",
            "_view_module_version": "1.2.0",
            "_view_name": "LayoutView",
            "align_content": null,
            "align_items": null,
            "align_self": null,
            "border": null,
            "bottom": null,
            "display": null,
            "flex": null,
            "flex_flow": null,
            "grid_area": null,
            "grid_auto_columns": null,
            "grid_auto_flow": null,
            "grid_auto_rows": null,
            "grid_column": null,
            "grid_gap": null,
            "grid_row": null,
            "grid_template_areas": null,
            "grid_template_columns": null,
            "grid_template_rows": null,
            "height": null,
            "justify_content": null,
            "justify_items": null,
            "left": null,
            "margin": null,
            "max_height": null,
            "max_width": null,
            "min_height": null,
            "min_width": null,
            "object_fit": null,
            "object_position": null,
            "order": null,
            "overflow": null,
            "overflow_x": null,
            "overflow_y": null,
            "padding": null,
            "right": null,
            "top": null,
            "visibility": null,
            "width": null
          }
        },
        "9e28617b17dc466496bf95f567e9f951": {
          "model_module": "@jupyter-widgets/base",
          "model_name": "LayoutModel",
          "model_module_version": "1.2.0",
          "state": {
            "_model_module": "@jupyter-widgets/base",
            "_model_module_version": "1.2.0",
            "_model_name": "LayoutModel",
            "_view_count": null,
            "_view_module": "@jupyter-widgets/base",
            "_view_module_version": "1.2.0",
            "_view_name": "LayoutView",
            "align_content": null,
            "align_items": null,
            "align_self": null,
            "border": null,
            "bottom": null,
            "display": null,
            "flex": null,
            "flex_flow": null,
            "grid_area": null,
            "grid_auto_columns": null,
            "grid_auto_flow": null,
            "grid_auto_rows": null,
            "grid_column": null,
            "grid_gap": null,
            "grid_row": null,
            "grid_template_areas": null,
            "grid_template_columns": null,
            "grid_template_rows": null,
            "height": null,
            "justify_content": null,
            "justify_items": null,
            "left": null,
            "margin": null,
            "max_height": null,
            "max_width": null,
            "min_height": null,
            "min_width": null,
            "object_fit": null,
            "object_position": null,
            "order": null,
            "overflow": null,
            "overflow_x": null,
            "overflow_y": null,
            "padding": null,
            "right": null,
            "top": null,
            "visibility": null,
            "width": null
          }
        },
        "a4d703c529c44b469ddcd77de8a8940e": {
          "model_module": "@jupyter-widgets/controls",
          "model_name": "DescriptionStyleModel",
          "model_module_version": "1.5.0",
          "state": {
            "_model_module": "@jupyter-widgets/controls",
            "_model_module_version": "1.5.0",
            "_model_name": "DescriptionStyleModel",
            "_view_count": null,
            "_view_module": "@jupyter-widgets/base",
            "_view_module_version": "1.2.0",
            "_view_name": "StyleView",
            "description_width": ""
          }
        },
        "af205cd252b5445ab39c37ba8da41944": {
          "model_module": "@jupyter-widgets/base",
          "model_name": "LayoutModel",
          "model_module_version": "1.2.0",
          "state": {
            "_model_module": "@jupyter-widgets/base",
            "_model_module_version": "1.2.0",
            "_model_name": "LayoutModel",
            "_view_count": null,
            "_view_module": "@jupyter-widgets/base",
            "_view_module_version": "1.2.0",
            "_view_name": "LayoutView",
            "align_content": null,
            "align_items": null,
            "align_self": null,
            "border": null,
            "bottom": null,
            "display": null,
            "flex": null,
            "flex_flow": null,
            "grid_area": null,
            "grid_auto_columns": null,
            "grid_auto_flow": null,
            "grid_auto_rows": null,
            "grid_column": null,
            "grid_gap": null,
            "grid_row": null,
            "grid_template_areas": null,
            "grid_template_columns": null,
            "grid_template_rows": null,
            "height": null,
            "justify_content": null,
            "justify_items": null,
            "left": null,
            "margin": null,
            "max_height": null,
            "max_width": null,
            "min_height": null,
            "min_width": null,
            "object_fit": null,
            "object_position": null,
            "order": null,
            "overflow": null,
            "overflow_x": null,
            "overflow_y": null,
            "padding": null,
            "right": null,
            "top": null,
            "visibility": null,
            "width": null
          }
        },
        "b35c0452b36d4fac9984dde3f18d0ab3": {
          "model_module": "@jupyter-widgets/controls",
          "model_name": "ProgressStyleModel",
          "model_module_version": "1.5.0",
          "state": {
            "_model_module": "@jupyter-widgets/controls",
            "_model_module_version": "1.5.0",
            "_model_name": "ProgressStyleModel",
            "_view_count": null,
            "_view_module": "@jupyter-widgets/base",
            "_view_module_version": "1.2.0",
            "_view_name": "StyleView",
            "bar_color": null,
            "description_width": ""
          }
        },
        "bd115ddb646845b7bd417b893561ebcc": {
          "model_module": "@jupyter-widgets/base",
          "model_name": "LayoutModel",
          "model_module_version": "1.2.0",
          "state": {
            "_model_module": "@jupyter-widgets/base",
            "_model_module_version": "1.2.0",
            "_model_name": "LayoutModel",
            "_view_count": null,
            "_view_module": "@jupyter-widgets/base",
            "_view_module_version": "1.2.0",
            "_view_name": "LayoutView",
            "align_content": null,
            "align_items": null,
            "align_self": null,
            "border": null,
            "bottom": null,
            "display": null,
            "flex": null,
            "flex_flow": null,
            "grid_area": null,
            "grid_auto_columns": null,
            "grid_auto_flow": null,
            "grid_auto_rows": null,
            "grid_column": null,
            "grid_gap": null,
            "grid_row": null,
            "grid_template_areas": null,
            "grid_template_columns": null,
            "grid_template_rows": null,
            "height": null,
            "justify_content": null,
            "justify_items": null,
            "left": null,
            "margin": null,
            "max_height": null,
            "max_width": null,
            "min_height": null,
            "min_width": null,
            "object_fit": null,
            "object_position": null,
            "order": null,
            "overflow": null,
            "overflow_x": null,
            "overflow_y": null,
            "padding": null,
            "right": null,
            "top": null,
            "visibility": null,
            "width": null
          }
        },
        "d84e9f0df70c4d7eb5db22e78908e3ad": {
          "model_module": "@jupyter-widgets/controls",
          "model_name": "DescriptionStyleModel",
          "model_module_version": "1.5.0",
          "state": {
            "_model_module": "@jupyter-widgets/controls",
            "_model_module_version": "1.5.0",
            "_model_name": "DescriptionStyleModel",
            "_view_count": null,
            "_view_module": "@jupyter-widgets/base",
            "_view_module_version": "1.2.0",
            "_view_name": "StyleView",
            "description_width": ""
          }
        }
      }
    }
  },
  "nbformat": 4,
  "nbformat_minor": 0
}