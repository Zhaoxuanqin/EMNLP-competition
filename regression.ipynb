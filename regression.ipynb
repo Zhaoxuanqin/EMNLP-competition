{
  "cells": [
    {
      "cell_type": "code",
      "execution_count": 11,
      "metadata": {
        "id": "AnktrduOniFa",
        "colab": {
          "base_uri": "https://localhost:8080/"
        },
        "outputId": "73af419a-2432-4879-b6b9-87c8ed3354fa"
      },
      "outputs": [
        {
          "output_type": "stream",
          "name": "stdout",
          "text": [
            "Looking in indexes: https://pypi.org/simple, https://us-python.pkg.dev/colab-wheels/public/simple/\n",
            "Requirement already satisfied: transformers in /usr/local/lib/python3.7/dist-packages (4.21.2)\n",
            "Requirement already satisfied: huggingface-hub<1.0,>=0.1.0 in /usr/local/lib/python3.7/dist-packages (from transformers) (0.9.1)\n",
            "Requirement already satisfied: packaging>=20.0 in /usr/local/lib/python3.7/dist-packages (from transformers) (21.3)\n",
            "Requirement already satisfied: regex!=2019.12.17 in /usr/local/lib/python3.7/dist-packages (from transformers) (2022.6.2)\n",
            "Requirement already satisfied: tqdm>=4.27 in /usr/local/lib/python3.7/dist-packages (from transformers) (4.64.0)\n",
            "Requirement already satisfied: importlib-metadata in /usr/local/lib/python3.7/dist-packages (from transformers) (4.12.0)\n",
            "Requirement already satisfied: pyyaml>=5.1 in /usr/local/lib/python3.7/dist-packages (from transformers) (6.0)\n",
            "Requirement already satisfied: tokenizers!=0.11.3,<0.13,>=0.11.1 in /usr/local/lib/python3.7/dist-packages (from transformers) (0.12.1)\n",
            "Requirement already satisfied: requests in /usr/local/lib/python3.7/dist-packages (from transformers) (2.23.0)\n",
            "Requirement already satisfied: numpy>=1.17 in /usr/local/lib/python3.7/dist-packages (from transformers) (1.21.6)\n",
            "Requirement already satisfied: filelock in /usr/local/lib/python3.7/dist-packages (from transformers) (3.8.0)\n",
            "Requirement already satisfied: typing-extensions>=3.7.4.3 in /usr/local/lib/python3.7/dist-packages (from huggingface-hub<1.0,>=0.1.0->transformers) (4.1.1)\n",
            "Requirement already satisfied: pyparsing!=3.0.5,>=2.0.2 in /usr/local/lib/python3.7/dist-packages (from packaging>=20.0->transformers) (3.0.9)\n",
            "Requirement already satisfied: zipp>=0.5 in /usr/local/lib/python3.7/dist-packages (from importlib-metadata->transformers) (3.8.1)\n",
            "Requirement already satisfied: urllib3!=1.25.0,!=1.25.1,<1.26,>=1.21.1 in /usr/local/lib/python3.7/dist-packages (from requests->transformers) (1.25.11)\n",
            "Requirement already satisfied: idna<3,>=2.5 in /usr/local/lib/python3.7/dist-packages (from requests->transformers) (2.10)\n",
            "Requirement already satisfied: chardet<4,>=3.0.2 in /usr/local/lib/python3.7/dist-packages (from requests->transformers) (3.0.4)\n",
            "Requirement already satisfied: certifi>=2017.4.17 in /usr/local/lib/python3.7/dist-packages (from requests->transformers) (2022.6.15)\n",
            "Looking in indexes: https://pypi.org/simple, https://us-python.pkg.dev/colab-wheels/public/simple/\n",
            "Requirement already satisfied: datasets in /usr/local/lib/python3.7/dist-packages (2.4.0)\n",
            "Requirement already satisfied: pyarrow>=6.0.0 in /usr/local/lib/python3.7/dist-packages (from datasets) (6.0.1)\n",
            "Requirement already satisfied: multiprocess in /usr/local/lib/python3.7/dist-packages (from datasets) (0.70.13)\n",
            "Requirement already satisfied: packaging in /usr/local/lib/python3.7/dist-packages (from datasets) (21.3)\n",
            "Requirement already satisfied: aiohttp in /usr/local/lib/python3.7/dist-packages (from datasets) (3.8.1)\n",
            "Requirement already satisfied: responses<0.19 in /usr/local/lib/python3.7/dist-packages (from datasets) (0.18.0)\n",
            "Requirement already satisfied: fsspec[http]>=2021.11.1 in /usr/local/lib/python3.7/dist-packages (from datasets) (2022.7.1)\n",
            "Requirement already satisfied: importlib-metadata in /usr/local/lib/python3.7/dist-packages (from datasets) (4.12.0)\n",
            "Requirement already satisfied: requests>=2.19.0 in /usr/local/lib/python3.7/dist-packages (from datasets) (2.23.0)\n",
            "Requirement already satisfied: numpy>=1.17 in /usr/local/lib/python3.7/dist-packages (from datasets) (1.21.6)\n",
            "Requirement already satisfied: tqdm>=4.62.1 in /usr/local/lib/python3.7/dist-packages (from datasets) (4.64.0)\n",
            "Requirement already satisfied: huggingface-hub<1.0.0,>=0.1.0 in /usr/local/lib/python3.7/dist-packages (from datasets) (0.9.1)\n",
            "Requirement already satisfied: pandas in /usr/local/lib/python3.7/dist-packages (from datasets) (1.3.5)\n",
            "Requirement already satisfied: dill<0.3.6 in /usr/local/lib/python3.7/dist-packages (from datasets) (0.3.5.1)\n",
            "Requirement already satisfied: xxhash in /usr/local/lib/python3.7/dist-packages (from datasets) (3.0.0)\n",
            "Requirement already satisfied: filelock in /usr/local/lib/python3.7/dist-packages (from huggingface-hub<1.0.0,>=0.1.0->datasets) (3.8.0)\n",
            "Requirement already satisfied: typing-extensions>=3.7.4.3 in /usr/local/lib/python3.7/dist-packages (from huggingface-hub<1.0.0,>=0.1.0->datasets) (4.1.1)\n",
            "Requirement already satisfied: pyyaml>=5.1 in /usr/local/lib/python3.7/dist-packages (from huggingface-hub<1.0.0,>=0.1.0->datasets) (6.0)\n",
            "Requirement already satisfied: pyparsing!=3.0.5,>=2.0.2 in /usr/local/lib/python3.7/dist-packages (from packaging->datasets) (3.0.9)\n",
            "Requirement already satisfied: idna<3,>=2.5 in /usr/local/lib/python3.7/dist-packages (from requests>=2.19.0->datasets) (2.10)\n",
            "Requirement already satisfied: certifi>=2017.4.17 in /usr/local/lib/python3.7/dist-packages (from requests>=2.19.0->datasets) (2022.6.15)\n",
            "Requirement already satisfied: chardet<4,>=3.0.2 in /usr/local/lib/python3.7/dist-packages (from requests>=2.19.0->datasets) (3.0.4)\n",
            "Requirement already satisfied: urllib3!=1.25.0,!=1.25.1,<1.26,>=1.21.1 in /usr/local/lib/python3.7/dist-packages (from requests>=2.19.0->datasets) (1.25.11)\n",
            "Requirement already satisfied: multidict<7.0,>=4.5 in /usr/local/lib/python3.7/dist-packages (from aiohttp->datasets) (6.0.2)\n",
            "Requirement already satisfied: aiosignal>=1.1.2 in /usr/local/lib/python3.7/dist-packages (from aiohttp->datasets) (1.2.0)\n",
            "Requirement already satisfied: yarl<2.0,>=1.0 in /usr/local/lib/python3.7/dist-packages (from aiohttp->datasets) (1.8.1)\n",
            "Requirement already satisfied: asynctest==0.13.0 in /usr/local/lib/python3.7/dist-packages (from aiohttp->datasets) (0.13.0)\n",
            "Requirement already satisfied: frozenlist>=1.1.1 in /usr/local/lib/python3.7/dist-packages (from aiohttp->datasets) (1.3.1)\n",
            "Requirement already satisfied: attrs>=17.3.0 in /usr/local/lib/python3.7/dist-packages (from aiohttp->datasets) (22.1.0)\n",
            "Requirement already satisfied: charset-normalizer<3.0,>=2.0 in /usr/local/lib/python3.7/dist-packages (from aiohttp->datasets) (2.1.1)\n",
            "Requirement already satisfied: async-timeout<5.0,>=4.0.0a3 in /usr/local/lib/python3.7/dist-packages (from aiohttp->datasets) (4.0.2)\n",
            "Requirement already satisfied: zipp>=0.5 in /usr/local/lib/python3.7/dist-packages (from importlib-metadata->datasets) (3.8.1)\n",
            "Requirement already satisfied: pytz>=2017.3 in /usr/local/lib/python3.7/dist-packages (from pandas->datasets) (2022.2.1)\n",
            "Requirement already satisfied: python-dateutil>=2.7.3 in /usr/local/lib/python3.7/dist-packages (from pandas->datasets) (2.8.2)\n",
            "Requirement already satisfied: six>=1.5 in /usr/local/lib/python3.7/dist-packages (from python-dateutil>=2.7.3->pandas->datasets) (1.15.0)\n"
          ]
        }
      ],
      "source": [
        "! pip install transformers\n",
        "! pip install datasets\n",
        "import warnings\n",
        "warnings.filterwarnings('ignore')\n",
        "\n",
        "from sklearn.metrics import f1_score\n"
      ]
    },
    {
      "cell_type": "code",
      "execution_count": 12,
      "metadata": {
        "id": "XypgnHCEnnXt"
      },
      "outputs": [],
      "source": [
        "\n",
        "from transformers import AutoTokenizer, AutoModel, AdamW\n",
        "from collections import defaultdict\n",
        "from transformers import get_linear_schedule_with_warmup\n",
        "import time\n",
        "# from torchmetrics import MeanSquaredError\n",
        "import torch\n",
        "from sklearn.utils import shuffle\n",
        "from sklearn.metrics import accuracy_score"
      ]
    },
    {
      "cell_type": "code",
      "execution_count": 13,
      "metadata": {
        "id": "HCm106FxnohQ"
      },
      "outputs": [],
      "source": [
        "\n",
        "import numpy as np\n",
        "\n",
        "from sklearn.metrics import f1_score\n",
        "import datasets\n",
        "import torch\n",
        "from torch.utils.data import Dataset, DataLoader\n",
        "import torch.nn as nn\n",
        "from tensorflow.keras.preprocessing.sequence import pad_sequences\n",
        "import pandas as pd\n",
        "from transformers import BertModel, BertTokenizer\n",
        "from numpy import *\n",
        "from torch import nn, optim"
      ]
    },
    {
      "cell_type": "code",
      "execution_count": 14,
      "metadata": {
        "colab": {
          "base_uri": "https://localhost:8080/"
        },
        "id": "BbUCUJJQnp1j",
        "outputId": "d3534b94-0144-4e11-fed7-86fd17b8be3a"
      },
      "outputs": [
        {
          "output_type": "stream",
          "name": "stdout",
          "text": [
            "Drive already mounted at /content/drive; to attempt to forcibly remount, call drive.mount(\"/content/drive\", force_remount=True).\n",
            "/content/drive/MyDrive/新建文件夹/ERAI Dataset_with_translation\n"
          ]
        }
      ],
      "source": [
        "from google.colab import drive\n",
        "drive.mount('/content/drive')\n",
        "%cd /content/drive/MyDrive/新建文件夹/ERAI Dataset_with_translation"
      ]
    },
    {
      "cell_type": "code",
      "source": [],
      "metadata": {
        "id": "Wk-IvKygv4mT"
      },
      "execution_count": null,
      "outputs": []
    },
    {
      "cell_type": "code",
      "source": [
        "df = pd.read_json('ERAI_Dataset_pairwise_train_with_translation.json')\n",
        "df = df.dropna(axis = 0)\n",
        "# df2 = pd.read_json('ERAI_Dataset_pairwise_test.json')\n",
        "pd.set_option('display.max_rows', None)\n",
        "\n",
        "df.reset_index(drop = True,inplace = True)\n",
        "\n",
        "\n",
        "\n",
        "\n",
        "\n",
        "df['post1']=df['post1'].apply(lambda x:x.replace('\\n',''))\n",
        "df['post2']=df['post2'].apply(lambda x:x.replace('\\n',''))\n",
        "# df2['post1']=df2['post1'].apply(lambda x:x.replace('\\n',''))\n",
        "# df2['post2']=df2['post2'].apply(lambda x:x.replace('\\n',''))"
      ],
      "metadata": {
        "id": "kMP47MjBohHg"
      },
      "execution_count": 16,
      "outputs": []
    },
    {
      "cell_type": "code",
      "source": [
        "ml1 = df['ML1']\n",
        "ml2 = df['ML2']\n",
        "mpp1 = df['MPP1']\n",
        "mpp2 = df['MPP2']"
      ],
      "metadata": {
        "id": "gfLhUxMuONxj"
      },
      "execution_count": 22,
      "outputs": []
    },
    {
      "cell_type": "code",
      "source": [
        "new_df = pd.concat((df['post1'],df['post2'],df['MPP_label'],df['ML_label']),axis = 1)"
      ],
      "metadata": {
        "id": "WkxTN-2dzTs8"
      },
      "execution_count": 17,
      "outputs": []
    },
    {
      "cell_type": "code",
      "source": [
        "post1 = new_df['post1']\n",
        "post2 = new_df['post2']\n",
        "mpp_label = new_df['MPP_label']\n",
        "ml_label = new_df['ML_label']"
      ],
      "metadata": {
        "id": "WCl4vpyd2Fhp"
      },
      "execution_count": 23,
      "outputs": []
    },
    {
      "cell_type": "code",
      "source": [
        "for index,value in enumerate(ml1):\n",
        "  for idx,val in enumerate(ml2):\n",
        "    if ml1<ml2:\n",
        "      ml_label.append()"
      ],
      "metadata": {
        "id": "yP1SrHQgMvLQ"
      },
      "execution_count": null,
      "outputs": []
    },
    {
      "cell_type": "code",
      "source": [
        "for index,(mpp1,ml1) in enumerate(zip(mpp1,ml1)):\n",
        "  for idx,(mpp2,ml2) in enumerate(zip(mpp2,ml2)):\n",
        "    if mpp1>mpp2:\n",
        "      mpp_label.append(1)\n",
        "    else:\n",
        "      mpp_label.append(0)"
      ],
      "metadata": {
        "id": "ACGG82AlSsmy"
      },
      "execution_count": null,
      "outputs": []
    },
    {
      "cell_type": "code",
      "source": [
        "PRETRAINED_MODEL_NAME = 'yiyanghkust/finbert-tone'\n",
        "# 获取预测模型所使用的tokenizer\n",
        "# AutoTokenizer, AutoModel,\n",
        "\n",
        "#\"bert-base-chinese\"\n",
        "tokenizer = AutoTokenizer.from_pretrained(PRETRAINED_MODEL_NAME)"
      ],
      "metadata": {
        "colab": {
          "base_uri": "https://localhost:8080/",
          "height": 81,
          "referenced_widgets": [
            "d2adeef070a64fc9916a61b2c1c91e2f",
            "f1b3b361ed444e6c80f53e5eecac64d8",
            "1e2d9e159973445ab54acefd87ca5c5a",
            "e442cfe5a92e443f9c01c93b7b7388e4",
            "8f7841529b0c4aef813e02881f119cef",
            "b9f31242f71f4c359d31217c480a9c73",
            "d77de72b06a04067a361b448942b99c8",
            "6241fa0ffe72443386c5c88f283c6ea7",
            "74727957f273433b9ff7be384fce3357",
            "0391326468c8435989a525758dfe101a",
            "7f64828ad3bb4ca3b65ab8ae626f0a25",
            "c918f8243e164d79803fabcdc9d313cb",
            "186aa85d20bc4d249ee52b2f9efd7a22",
            "4df1bccfa67940be91c518bc546824a5",
            "9c708ed9c29241df9c91899de59525e3",
            "9d20dcc9020d4b7ea09205047b0819a3",
            "dc2abd7c4f9a46979bfcf4728043b6b7",
            "b3aee68cddc846a0a9b5830dcc2b2ced",
            "44b14858709e4428a68275b50d4835fc",
            "b9c1cf1510814029b33aae0d87e62985",
            "79be428079cf4e63a5fa9b00d7777dec",
            "d65c3fbb602e42b0aef0a07bd9eda6dd"
          ]
        },
        "id": "5EubtdoGFG1F",
        "outputId": "d1cb77ce-b9ff-4ef9-fb40-f4c988d176ab"
      },
      "execution_count": 37,
      "outputs": [
        {
          "output_type": "display_data",
          "data": {
            "text/plain": [
              "Downloading config.json:   0%|          | 0.00/533 [00:00<?, ?B/s]"
            ],
            "application/vnd.jupyter.widget-view+json": {
              "version_major": 2,
              "version_minor": 0,
              "model_id": "d2adeef070a64fc9916a61b2c1c91e2f"
            }
          },
          "metadata": {}
        },
        {
          "output_type": "display_data",
          "data": {
            "text/plain": [
              "Downloading vocab.txt:   0%|          | 0.00/221k [00:00<?, ?B/s]"
            ],
            "application/vnd.jupyter.widget-view+json": {
              "version_major": 2,
              "version_minor": 0,
              "model_id": "c918f8243e164d79803fabcdc9d313cb"
            }
          },
          "metadata": {}
        }
      ]
    },
    {
      "cell_type": "code",
      "source": [
        "\n",
        "def generate_input_data(post,mpp_all_value,ml_all_value,max_len):\n",
        "\n",
        "  # mpp_all_value = np.array(mpp_all_value)\n",
        "  # ml_all_value = np.arrary(ml_all_value)\n",
        "  # all_value = mpp_all_value+ml_all_value\n",
        "  all_value = pd.concat([mpp_all_value,ml_all_value],axis=1)\n",
        "  \n",
        "  \n",
        "  full_text = []\n",
        "  attention_mask = []\n",
        "  # token_type_ids = []\n",
        "  for i in post:\n",
        "    if len(i)>max_len:\n",
        "      i = i[:max_len]\n",
        "    \n",
        "    i = tokenizer.tokenize(i)\n",
        "    \n",
        "    text = ['[CLS]']+i+['[SEP]']\n",
        "    full_text.append(tokenizer.convert_tokens_to_ids(text))\n",
        "    attention_mask.append(np.ones_like(text))\n",
        "    # token_type_id = [0]*(len(i)+2) + [1]*(len(j)+1)\n",
        "    # token_type_ids.append(token_type_id)\n",
        "  all_pad_tokens = pad_sequences(full_text, maxlen=max_len, padding='post', truncating='post')\n",
        "  all_mask = pad_sequences(attention_mask, maxlen=max_len, padding='post', truncating='post')\n",
        "  # token_type_ids = pad_sequences(token_type_ids, maxlen=max_len*2, padding='post', truncating='post')\n",
        "  \n",
        "  return {\n",
        "      'input_ids': torch.tensor(all_pad_tokens,dtype=torch.long),\n",
        "      'attention_mask': torch.tensor(all_mask, dtype=torch.long),\n",
        "      # 'token_type_ids':torch.tensor(token_type_ids,dtype = torch.long),\n",
        "      'all_value': torch.tensor(all_value.values, dtype=torch.float)\n",
        "      # 'ml_label':torch.tensor(ml_label,dtype = torch.long)\n",
        "  }\n",
        "\n",
        "    "
      ],
      "metadata": {
        "id": "sS4W-xYLuQIl"
      },
      "execution_count": 11,
      "outputs": []
    },
    {
      "cell_type": "code",
      "source": [
        " class BertNerClassifier(nn.Module):\n",
        "\n",
        "  def __init__(self, n_classes):\n",
        "    super(BertNerClassifier, self).__init__()\n",
        "    self.bert = AutoModel.from_pretrained('yiyanghkust/finbert-tone')\n",
        "    self.drop = nn.Dropout(p=0.1)\n",
        "    self.out = nn.Linear(self.bert.config.hidden_size, n_classes)\n",
        "  \n",
        "  def forward(self, input_ids, attention_mask):\n",
        "    output = self.bert(\n",
        "      input_ids=input_ids,\n",
        "      attention_mask=attention_mask\n",
        "\n",
        "    )[1]\n",
        "    \n",
        "    output = self.drop(output)\n",
        "    # self.out(output)\n",
        "    \n",
        "    return self.out(output)"
      ],
      "metadata": {
        "id": "r9ibb_OfB9Vm"
      },
      "execution_count": 38,
      "outputs": []
    },
    {
      "cell_type": "code",
      "execution_count": 13,
      "metadata": {
        "id": "zgHH5evOn4jq"
      },
      "outputs": [],
      "source": [
        "\n",
        "class DataSequence(Dataset):\n",
        "\n",
        "    def __init__(self, data):\n",
        "\n",
        "      self.features = data['input_ids']\n",
        "      self.mask = data['attention_mask']\n",
        "      # self.token_ids = data['token_type_ids']\n",
        "      self.all_value = data['all_value']\n",
        "      # self.ml_labels = data['ml_label']\n",
        "\n",
        "    def __len__(self):\n",
        "\n",
        "        return len(self.all_value)\n",
        "\n",
        "    def __getitem__(self, index):\n",
        "\n",
        "        return self.features[index],self.mask[index],self.all_value[index]"
      ]
    },
    {
      "cell_type": "code",
      "source": [
        "def generate_dataloader(post,mpp_all_value,ml_all_value,max_len,batch_size):\n",
        "  data = generate_input_data(post,mpp_all_value,ml_all_value,max_len)\n",
        "  data = DataSequence(data)\n",
        "  dataloader = DataLoader(data, num_workers=10, batch_size=batch_size)\n",
        "  return dataloader\n"
      ],
      "metadata": {
        "id": "zmRG1_cFiXm4"
      },
      "execution_count": 14,
      "outputs": []
    },
    {
      "cell_type": "code",
      "source": [
        "EPOCHS = 15\n",
        "\n",
        "# total_steps = len(train_data_loader) * EPOCHS\n",
        "\n",
        "# scheduler = get_linear_schedule_with_warmup(\n",
        "#   optimizer,\n",
        "#   num_warmup_steps=0,\n",
        "#   num_training_steps=total_steps\n",
        "# )\n",
        "device = torch.device(\"cuda:0\" if torch.cuda.is_available() else \"cpu\")\n",
        "loss_fn = nn.MSELoss().to(device)\n",
        "\n",
        "\n",
        "label_num = 2\n",
        "model= BertNerClassifier(label_num).to(device)\n",
        "\n",
        "optimizer = AdamW(model.parameters(), lr=2e-6, correct_bias=False)\n",
        "# mean_squared_error = MeanSquaredError().to(device)"
      ],
      "metadata": {
        "id": "3m3OxjI4qZYf",
        "colab": {
          "base_uri": "https://localhost:8080/"
        },
        "outputId": "d2e5bdc1-3727-4c74-aeae-5617156fcbc5"
      },
      "execution_count": 30,
      "outputs": [
        {
          "output_type": "stream",
          "name": "stderr",
          "text": [
            "Some weights of the model checkpoint at bert-base-chinese were not used when initializing BertModel: ['cls.predictions.bias', 'cls.predictions.decoder.weight', 'cls.seq_relationship.bias', 'cls.predictions.transform.LayerNorm.bias', 'cls.predictions.transform.LayerNorm.weight', 'cls.seq_relationship.weight', 'cls.predictions.transform.dense.bias', 'cls.predictions.transform.dense.weight']\n",
            "- This IS expected if you are initializing BertModel from the checkpoint of a model trained on another task or with another architecture (e.g. initializing a BertForSequenceClassification model from a BertForPreTraining model).\n",
            "- This IS NOT expected if you are initializing BertModel from the checkpoint of a model that you expect to be exactly identical (initializing a BertForSequenceClassification model from a BertForSequenceClassification model).\n"
          ]
        }
      ]
    },
    {
      "cell_type": "code",
      "source": [
        "def test_prediction(model, \n",
        "  test_dataloader, \n",
        "  loss_fn, \n",
        "  optimizer,\n",
        "  device\n",
        "  ):\n",
        "  \n",
        "  \n",
        "  test_pred = []\n",
        "\n",
        "  \n",
        "\n",
        "  model.eval()\n",
        "  with torch.no_grad():\n",
        "    for data in test_dataloader:\n",
        "      input_ids = data[0].to(device)\n",
        "      attention_mask = data[1].to(device)\n",
        "      \n",
        "      targets = data[2].to(device)\n",
        "\n",
        "      outputs = model(\n",
        "        input_ids=input_ids,\n",
        "        attention_mask=attention_mask,\n",
        "        \n",
        "      )\n",
        "\n",
        "      \n",
        "      test_pred.append(outputs)\n",
        "  return test_pred\n",
        "     \n",
        "\n",
        "  # print('Test ACCURACY_SCORE: {:.4f}'.format(test_accuracy))"
      ],
      "metadata": {
        "id": "XfyUwHDQ3-fV"
      },
      "execution_count": 31,
      "outputs": []
    },
    {
      "cell_type": "code",
      "execution_count": 32,
      "metadata": {
        "id": "xgRZK6aQoZ_9"
      },
      "outputs": [],
      "source": [
        "\n",
        "def train_and_eval(model, \n",
        "  train_loader, \n",
        "  loss_fn, \n",
        "  optimizer,  \n",
        "  device,\n",
        "  epoch,\n",
        "  label_num,\n",
        "  test_dataloader1,\n",
        "  test_dataloader2\n",
        "  ):\n",
        "  model.train()\n",
        "  \n",
        "  for epo in range(epoch):\n",
        "    \n",
        "    \n",
        "    train_loss = []\n",
        "    \n",
        "    train_predictions = []\n",
        "    \n",
        "    \n",
        "   \n",
        "    \n",
        "    for data in train_loader:\n",
        "      \n",
        "      input_ids = data[0].to(device)\n",
        "      attention_mask = data[1].to(device)\n",
        "      \n",
        "      targets = data[2].to(device)\n",
        "      \n",
        "\n",
        "      outputs = model(\n",
        "        input_ids=input_ids,\n",
        "        attention_mask=attention_mask,\n",
        "        \n",
        "      )\n",
        "      \n",
        "\n",
        "      loss = loss_fn(outputs, targets)\n",
        "      \n",
        "      \n",
        "\n",
        "      train_loss.append(loss.item())\n",
        "      \n",
        "  \n",
        "      optimizer.zero_grad()\n",
        "      loss.backward()\n",
        "      optimizer.step()\n",
        "\n",
        "    test_pred1 = test_prediction(model, \n",
        "      test_dataloader1, \n",
        "      loss_fn, \n",
        "      optimizer,\n",
        "      device\n",
        "      )\n",
        "\n",
        "    test_pred2 = test_prediction(model, \n",
        "      test_dataloader2, \n",
        "      loss_fn, \n",
        "      optimizer,\n",
        "      device\n",
        "    )\n",
        "\n",
        "    mpp_pred_label = []\n",
        "    ml_pred_label = []\n",
        "\n",
        "    for i, j in zip (test_pred1,test_pred2):\n",
        "      if i[0][0]>j[0][0]:\n",
        "        mpp_pred_label.append(1)\n",
        "      else:\n",
        "        mpp_pred_label.append(0)\n",
        "      if i[0][1]>j[0][1]:\n",
        "        ml_pred_label.append(0)\n",
        "      else:\n",
        "        ml_pred_label.append(1)\n",
        "    \n",
        "   \n",
        "    \n",
        "    final_train_loss = np.mean(train_loss)\n",
        "\n",
        "    \n",
        "    mpp_accuracy = accuracy_score(test_mpp_label, mpp_pred_label)\n",
        "    ml_accuracy = accuracy_score(test_ml_label, ml_pred_label)\n",
        "\n",
        "\n",
        "    print(\n",
        "'Epoch [{}] Train Totol Loss: {:.4f}, TEST MPP ACCURACY: {:.4f}, TEST ML ACCURACY: {:.4f}'\n",
        "    .format(epo+1,final_train_loss,mpp_accuracy,ml_accuracy))"
      ]
    },
    {
      "cell_type": "code",
      "source": [
        "random_seed=[171,354,550,667,985]\n",
        "\n",
        "for i in random_seed:\n",
        "  df = shuffle(df,random_state=i)\n",
        "\n",
        "  train = df[0:156]\n",
        "  # validation = df[137:156]\n",
        "  test = df[156:200]\n",
        "\n",
        "  # test = df[176:200]\n",
        "  train_post1 = train['post1_en']\n",
        "  train_post2 = train['post2_en']\n",
        "  train_mmp1 = train['MPP1']\n",
        "  train_mpp2 = train['MPP2']\n",
        "  train_ml1 = train['ML1']\n",
        "  train_ml2 = train['ML2']\n",
        "\n",
        "  all_train_post = pd.concat([train_post1,train_post2],axis=0)\n",
        "  all_train_mpp = pd.concat([train_mmp1,train_mpp2],axis=0)\n",
        "  all_train_ml = pd.concat([train_ml1,train_ml2],axis=0)\n",
        "\n",
        "  max_len = 512\n",
        "  batch_size = 1\n",
        "  train_dataloader = generate_dataloader(all_train_post,all_train_mpp,all_train_ml,max_len,batch_size)\n",
        "\n",
        "  test_post1 = test['post1_en']\n",
        "  test_post2 = test['post2_en']\n",
        "  test_mmp1 = test['MPP1']\n",
        "  test_mpp2 = test['MPP2']\n",
        "  test_ml1 = test['ML1']\n",
        "  test_ml2 = test['ML2']\n",
        "  test_mpp_label = test['MPP_label']\n",
        "  test_ml_label = test['ML_label']\n",
        "\n",
        "  test_dataloader1 = generate_dataloader(test_post1,test_mmp1,test_ml1,max_len,1)\n",
        "  test_dataloader2 = generate_dataloader(test_post2,test_mpp2,test_ml2,max_len,1)\n",
        "\n",
        "  # label_num = 2\n",
        "  # model= BertNerClassifier(label_num).to(device)\n",
        "  label_num = 2\n",
        "  model= BertNerClassifier(label_num).to(device)\n",
        "\n",
        "  optimizer = AdamW(model.parameters(), lr=2e-6, correct_bias=False)\n",
        "  train_and_eval(model, \n",
        "    train_dataloader, \n",
        "    loss_fn, \n",
        "    optimizer,  \n",
        "    device,\n",
        "    EPOCHS,\n",
        "    label_num,\n",
        "    test_dataloader1,\n",
        "    test_dataloader2\n",
        "  )\n",
        "  print('========================================================================================')\n",
        "  print('========================================================================================')"
      ],
      "metadata": {
        "colab": {
          "base_uri": "https://localhost:8080/",
          "height": 1000,
          "referenced_widgets": [
            "aa70109d351545f59d7bbef3573c64b6",
            "6b16938b1d57436987f115fbd5d7d09e",
            "506c4b7b6fb142189f4ca49d817fed2b",
            "6a1f89eb3ea0464689fb0d0f4925dd41",
            "defaba1b43f349669afd0a6b145a0a81",
            "2bc4e521d8fc40afa0b4cab5c3fb699c",
            "489c82bc445044adb30321ae18a32e47",
            "51c76be1884d4785ad57781ac043e82e",
            "60d4334becea430db360605bab6eb176",
            "f11ab495b51549c286e7d66bbfec2577",
            "2906b01b191a4304806babd8f99fe716"
          ]
        },
        "id": "97anhQ4BEQ7-",
        "outputId": "f1125e12-4446-4f87-bf8f-effa5277dcdc"
      },
      "execution_count": 39,
      "outputs": [
        {
          "output_type": "display_data",
          "data": {
            "text/plain": [
              "Downloading pytorch_model.bin:   0%|          | 0.00/419M [00:00<?, ?B/s]"
            ],
            "application/vnd.jupyter.widget-view+json": {
              "version_major": 2,
              "version_minor": 0,
              "model_id": "aa70109d351545f59d7bbef3573c64b6"
            }
          },
          "metadata": {}
        },
        {
          "output_type": "stream",
          "name": "stderr",
          "text": [
            "Some weights of the model checkpoint at yiyanghkust/finbert-tone were not used when initializing BertModel: ['classifier.bias', 'classifier.weight']\n",
            "- This IS expected if you are initializing BertModel from the checkpoint of a model trained on another task or with another architecture (e.g. initializing a BertForSequenceClassification model from a BertForPreTraining model).\n",
            "- This IS NOT expected if you are initializing BertModel from the checkpoint of a model that you expect to be exactly identical (initializing a BertForSequenceClassification model from a BertForSequenceClassification model).\n"
          ]
        },
        {
          "output_type": "stream",
          "name": "stdout",
          "text": [
            "Epoch [1] Train Totol Loss: 0.0302, TEST MPP ACCURACY: 0.5250, TEST ML ACCURACY: 0.6500\n",
            "Epoch [2] Train Totol Loss: 0.0083, TEST MPP ACCURACY: 0.4500, TEST ML ACCURACY: 0.6500\n",
            "Epoch [3] Train Totol Loss: 0.0023, TEST MPP ACCURACY: 0.5000, TEST ML ACCURACY: 0.6500\n",
            "Epoch [4] Train Totol Loss: 0.0011, TEST MPP ACCURACY: 0.4750, TEST ML ACCURACY: 0.6250\n",
            "Epoch [5] Train Totol Loss: 0.0006, TEST MPP ACCURACY: 0.4750, TEST ML ACCURACY: 0.6250\n",
            "Epoch [6] Train Totol Loss: 0.0003, TEST MPP ACCURACY: 0.4750, TEST ML ACCURACY: 0.6250\n",
            "Epoch [7] Train Totol Loss: 0.0002, TEST MPP ACCURACY: 0.5000, TEST ML ACCURACY: 0.6250\n",
            "Epoch [8] Train Totol Loss: 0.0002, TEST MPP ACCURACY: 0.4750, TEST ML ACCURACY: 0.6250\n",
            "Epoch [9] Train Totol Loss: 0.0002, TEST MPP ACCURACY: 0.5000, TEST ML ACCURACY: 0.6250\n",
            "Epoch [10] Train Totol Loss: 0.0002, TEST MPP ACCURACY: 0.5500, TEST ML ACCURACY: 0.6250\n",
            "Epoch [11] Train Totol Loss: 0.0004, TEST MPP ACCURACY: 0.5250, TEST ML ACCURACY: 0.6250\n",
            "Epoch [12] Train Totol Loss: 0.0007, TEST MPP ACCURACY: 0.5000, TEST ML ACCURACY: 0.6250\n",
            "Epoch [13] Train Totol Loss: 0.0014, TEST MPP ACCURACY: 0.5250, TEST ML ACCURACY: 0.5750\n",
            "Epoch [14] Train Totol Loss: 0.0030, TEST MPP ACCURACY: 0.5250, TEST ML ACCURACY: 0.6250\n",
            "Epoch [15] Train Totol Loss: 0.0033, TEST MPP ACCURACY: 0.4750, TEST ML ACCURACY: 0.6500\n",
            "========================================================================================\n",
            "========================================================================================\n"
          ]
        },
        {
          "output_type": "stream",
          "name": "stderr",
          "text": [
            "Some weights of the model checkpoint at yiyanghkust/finbert-tone were not used when initializing BertModel: ['classifier.bias', 'classifier.weight']\n",
            "- This IS expected if you are initializing BertModel from the checkpoint of a model trained on another task or with another architecture (e.g. initializing a BertForSequenceClassification model from a BertForPreTraining model).\n",
            "- This IS NOT expected if you are initializing BertModel from the checkpoint of a model that you expect to be exactly identical (initializing a BertForSequenceClassification model from a BertForSequenceClassification model).\n"
          ]
        },
        {
          "output_type": "stream",
          "name": "stdout",
          "text": [
            "Epoch [1] Train Totol Loss: 0.0394, TEST MPP ACCURACY: 0.4500, TEST ML ACCURACY: 0.5250\n",
            "Epoch [2] Train Totol Loss: 0.0093, TEST MPP ACCURACY: 0.4500, TEST ML ACCURACY: 0.4750\n",
            "Epoch [3] Train Totol Loss: 0.0024, TEST MPP ACCURACY: 0.5000, TEST ML ACCURACY: 0.4750\n",
            "Epoch [4] Train Totol Loss: 0.0011, TEST MPP ACCURACY: 0.5000, TEST ML ACCURACY: 0.5250\n",
            "Epoch [5] Train Totol Loss: 0.0006, TEST MPP ACCURACY: 0.5000, TEST ML ACCURACY: 0.5500\n",
            "Epoch [6] Train Totol Loss: 0.0003, TEST MPP ACCURACY: 0.5000, TEST ML ACCURACY: 0.5500\n",
            "Epoch [7] Train Totol Loss: 0.0002, TEST MPP ACCURACY: 0.5000, TEST ML ACCURACY: 0.6000\n",
            "Epoch [8] Train Totol Loss: 0.0001, TEST MPP ACCURACY: 0.5000, TEST ML ACCURACY: 0.6000\n",
            "Epoch [9] Train Totol Loss: 0.0001, TEST MPP ACCURACY: 0.5000, TEST ML ACCURACY: 0.6000\n",
            "Epoch [10] Train Totol Loss: 0.0001, TEST MPP ACCURACY: 0.5000, TEST ML ACCURACY: 0.6250\n",
            "Epoch [11] Train Totol Loss: 0.0001, TEST MPP ACCURACY: 0.4750, TEST ML ACCURACY: 0.5750\n",
            "Epoch [12] Train Totol Loss: 0.0001, TEST MPP ACCURACY: 0.4750, TEST ML ACCURACY: 0.5500\n",
            "Epoch [13] Train Totol Loss: 0.0001, TEST MPP ACCURACY: 0.4500, TEST ML ACCURACY: 0.5750\n",
            "Epoch [14] Train Totol Loss: 0.0003, TEST MPP ACCURACY: 0.4250, TEST ML ACCURACY: 0.5250\n",
            "Epoch [15] Train Totol Loss: 0.0014, TEST MPP ACCURACY: 0.5500, TEST ML ACCURACY: 0.5750\n",
            "========================================================================================\n",
            "========================================================================================\n"
          ]
        },
        {
          "output_type": "stream",
          "name": "stderr",
          "text": [
            "Some weights of the model checkpoint at yiyanghkust/finbert-tone were not used when initializing BertModel: ['classifier.bias', 'classifier.weight']\n",
            "- This IS expected if you are initializing BertModel from the checkpoint of a model trained on another task or with another architecture (e.g. initializing a BertForSequenceClassification model from a BertForPreTraining model).\n",
            "- This IS NOT expected if you are initializing BertModel from the checkpoint of a model that you expect to be exactly identical (initializing a BertForSequenceClassification model from a BertForSequenceClassification model).\n"
          ]
        },
        {
          "output_type": "stream",
          "name": "stdout",
          "text": [
            "Epoch [1] Train Totol Loss: 0.0283, TEST MPP ACCURACY: 0.4750, TEST ML ACCURACY: 0.5500\n",
            "Epoch [2] Train Totol Loss: 0.0071, TEST MPP ACCURACY: 0.5250, TEST ML ACCURACY: 0.5500\n",
            "Epoch [3] Train Totol Loss: 0.0021, TEST MPP ACCURACY: 0.5000, TEST ML ACCURACY: 0.5500\n",
            "Epoch [4] Train Totol Loss: 0.0010, TEST MPP ACCURACY: 0.5000, TEST ML ACCURACY: 0.5500\n",
            "Epoch [5] Train Totol Loss: 0.0006, TEST MPP ACCURACY: 0.4750, TEST ML ACCURACY: 0.5500\n",
            "Epoch [6] Train Totol Loss: 0.0003, TEST MPP ACCURACY: 0.4750, TEST ML ACCURACY: 0.5750\n",
            "Epoch [7] Train Totol Loss: 0.0002, TEST MPP ACCURACY: 0.5250, TEST ML ACCURACY: 0.5750\n",
            "Epoch [8] Train Totol Loss: 0.0002, TEST MPP ACCURACY: 0.5500, TEST ML ACCURACY: 0.6000\n",
            "Epoch [9] Train Totol Loss: 0.0002, TEST MPP ACCURACY: 0.5250, TEST ML ACCURACY: 0.5750\n",
            "Epoch [10] Train Totol Loss: 0.0002, TEST MPP ACCURACY: 0.5750, TEST ML ACCURACY: 0.6000\n",
            "Epoch [11] Train Totol Loss: 0.0002, TEST MPP ACCURACY: 0.5750, TEST ML ACCURACY: 0.6000\n",
            "Epoch [12] Train Totol Loss: 0.0004, TEST MPP ACCURACY: 0.5500, TEST ML ACCURACY: 0.5250\n",
            "Epoch [13] Train Totol Loss: 0.0010, TEST MPP ACCURACY: 0.6500, TEST ML ACCURACY: 0.5000\n",
            "Epoch [14] Train Totol Loss: 0.0026, TEST MPP ACCURACY: 0.5750, TEST ML ACCURACY: 0.5750\n",
            "Epoch [15] Train Totol Loss: 0.0038, TEST MPP ACCURACY: 0.5500, TEST ML ACCURACY: 0.4500\n",
            "========================================================================================\n",
            "========================================================================================\n"
          ]
        },
        {
          "output_type": "stream",
          "name": "stderr",
          "text": [
            "Some weights of the model checkpoint at yiyanghkust/finbert-tone were not used when initializing BertModel: ['classifier.bias', 'classifier.weight']\n",
            "- This IS expected if you are initializing BertModel from the checkpoint of a model trained on another task or with another architecture (e.g. initializing a BertForSequenceClassification model from a BertForPreTraining model).\n",
            "- This IS NOT expected if you are initializing BertModel from the checkpoint of a model that you expect to be exactly identical (initializing a BertForSequenceClassification model from a BertForSequenceClassification model).\n"
          ]
        },
        {
          "output_type": "stream",
          "name": "stdout",
          "text": [
            "Epoch [1] Train Totol Loss: 0.0321, TEST MPP ACCURACY: 0.4750, TEST ML ACCURACY: 0.4000\n",
            "Epoch [2] Train Totol Loss: 0.0079, TEST MPP ACCURACY: 0.4500, TEST ML ACCURACY: 0.3500\n",
            "Epoch [3] Train Totol Loss: 0.0021, TEST MPP ACCURACY: 0.4750, TEST ML ACCURACY: 0.3750\n",
            "Epoch [4] Train Totol Loss: 0.0010, TEST MPP ACCURACY: 0.4750, TEST ML ACCURACY: 0.3750\n",
            "Epoch [5] Train Totol Loss: 0.0005, TEST MPP ACCURACY: 0.4750, TEST ML ACCURACY: 0.3750\n",
            "Epoch [6] Train Totol Loss: 0.0003, TEST MPP ACCURACY: 0.4500, TEST ML ACCURACY: 0.3750\n",
            "Epoch [7] Train Totol Loss: 0.0002, TEST MPP ACCURACY: 0.4500, TEST ML ACCURACY: 0.3750\n",
            "Epoch [8] Train Totol Loss: 0.0001, TEST MPP ACCURACY: 0.4750, TEST ML ACCURACY: 0.3750\n",
            "Epoch [9] Train Totol Loss: 0.0001, TEST MPP ACCURACY: 0.5000, TEST ML ACCURACY: 0.3750\n",
            "Epoch [10] Train Totol Loss: 0.0001, TEST MPP ACCURACY: 0.5000, TEST ML ACCURACY: 0.3750\n",
            "Epoch [11] Train Totol Loss: 0.0004, TEST MPP ACCURACY: 0.5000, TEST ML ACCURACY: 0.4000\n",
            "Epoch [12] Train Totol Loss: 0.0011, TEST MPP ACCURACY: 0.5000, TEST ML ACCURACY: 0.4500\n",
            "Epoch [13] Train Totol Loss: 0.0024, TEST MPP ACCURACY: 0.5250, TEST ML ACCURACY: 0.5000\n",
            "Epoch [14] Train Totol Loss: 0.0022, TEST MPP ACCURACY: 0.4750, TEST ML ACCURACY: 0.4250\n",
            "Epoch [15] Train Totol Loss: 0.0014, TEST MPP ACCURACY: 0.4750, TEST ML ACCURACY: 0.4750\n",
            "========================================================================================\n",
            "========================================================================================\n"
          ]
        },
        {
          "output_type": "stream",
          "name": "stderr",
          "text": [
            "Some weights of the model checkpoint at yiyanghkust/finbert-tone were not used when initializing BertModel: ['classifier.bias', 'classifier.weight']\n",
            "- This IS expected if you are initializing BertModel from the checkpoint of a model trained on another task or with another architecture (e.g. initializing a BertForSequenceClassification model from a BertForPreTraining model).\n",
            "- This IS NOT expected if you are initializing BertModel from the checkpoint of a model that you expect to be exactly identical (initializing a BertForSequenceClassification model from a BertForSequenceClassification model).\n"
          ]
        },
        {
          "output_type": "stream",
          "name": "stdout",
          "text": [
            "Epoch [1] Train Totol Loss: 0.0315, TEST MPP ACCURACY: 0.5750, TEST ML ACCURACY: 0.4500\n",
            "Epoch [2] Train Totol Loss: 0.0076, TEST MPP ACCURACY: 0.6000, TEST ML ACCURACY: 0.4500\n",
            "Epoch [3] Train Totol Loss: 0.0023, TEST MPP ACCURACY: 0.6000, TEST ML ACCURACY: 0.5000\n",
            "Epoch [4] Train Totol Loss: 0.0011, TEST MPP ACCURACY: 0.6250, TEST ML ACCURACY: 0.4750\n",
            "Epoch [5] Train Totol Loss: 0.0006, TEST MPP ACCURACY: 0.6250, TEST ML ACCURACY: 0.5000\n",
            "Epoch [6] Train Totol Loss: 0.0003, TEST MPP ACCURACY: 0.6250, TEST ML ACCURACY: 0.5000\n",
            "Epoch [7] Train Totol Loss: 0.0002, TEST MPP ACCURACY: 0.6250, TEST ML ACCURACY: 0.5000\n",
            "Epoch [8] Train Totol Loss: 0.0002, TEST MPP ACCURACY: 0.5750, TEST ML ACCURACY: 0.4750\n",
            "Epoch [9] Train Totol Loss: 0.0001, TEST MPP ACCURACY: 0.6000, TEST ML ACCURACY: 0.5500\n",
            "Epoch [10] Train Totol Loss: 0.0001, TEST MPP ACCURACY: 0.6000, TEST ML ACCURACY: 0.5250\n",
            "Epoch [11] Train Totol Loss: 0.0001, TEST MPP ACCURACY: 0.6000, TEST ML ACCURACY: 0.5000\n",
            "Epoch [12] Train Totol Loss: 0.0003, TEST MPP ACCURACY: 0.5500, TEST ML ACCURACY: 0.4750\n",
            "Epoch [13] Train Totol Loss: 0.0008, TEST MPP ACCURACY: 0.6000, TEST ML ACCURACY: 0.5000\n",
            "Epoch [14] Train Totol Loss: 0.0037, TEST MPP ACCURACY: 0.6250, TEST ML ACCURACY: 0.5250\n",
            "Epoch [15] Train Totol Loss: 0.0057, TEST MPP ACCURACY: 0.6000, TEST ML ACCURACY: 0.4500\n",
            "========================================================================================\n",
            "========================================================================================\n"
          ]
        }
      ]
    },
    {
      "cell_type": "code",
      "source": [
        "model.load_state_dict(torch.load('/content/drive/MyDrive/新建文件夹/chinese_bert_state.bin', map_location=torch.device(\"cuda:0\")))"
      ],
      "metadata": {
        "id": "T-okvJ0O_K4N",
        "colab": {
          "base_uri": "https://localhost:8080/"
        },
        "outputId": "47d0ad42-4895-4b31-bbde-9ca9044c0a48"
      },
      "execution_count": null,
      "outputs": [
        {
          "output_type": "execute_result",
          "data": {
            "text/plain": [
              "<All keys matched successfully>"
            ]
          },
          "metadata": {},
          "execution_count": 21
        }
      ]
    },
    {
      "cell_type": "code",
      "source": [],
      "metadata": {
        "id": "2yqLpFTu2VzB"
      },
      "execution_count": null,
      "outputs": []
    },
    {
      "cell_type": "code",
      "source": [],
      "metadata": {
        "id": "AiohoviYU89W"
      },
      "execution_count": null,
      "outputs": []
    }
  ],
  "metadata": {
    "accelerator": "GPU",
    "colab": {
      "machine_shape": "hm",
      "name": "regression.ipynb",
      "provenance": [],
      "collapsed_sections": []
    },
    "gpuClass": "standard",
    "kernelspec": {
      "display_name": "Python 3",
      "name": "python3"
    },
    "language_info": {
      "name": "python"
    },
    "widgets": {
      "application/vnd.jupyter.widget-state+json": {
        "d2adeef070a64fc9916a61b2c1c91e2f": {
          "model_module": "@jupyter-widgets/controls",
          "model_name": "HBoxModel",
          "model_module_version": "1.5.0",
          "state": {
            "_dom_classes": [],
            "_model_module": "@jupyter-widgets/controls",
            "_model_module_version": "1.5.0",
            "_model_name": "HBoxModel",
            "_view_count": null,
            "_view_module": "@jupyter-widgets/controls",
            "_view_module_version": "1.5.0",
            "_view_name": "HBoxView",
            "box_style": "",
            "children": [
              "IPY_MODEL_f1b3b361ed444e6c80f53e5eecac64d8",
              "IPY_MODEL_1e2d9e159973445ab54acefd87ca5c5a",
              "IPY_MODEL_e442cfe5a92e443f9c01c93b7b7388e4"
            ],
            "layout": "IPY_MODEL_8f7841529b0c4aef813e02881f119cef"
          }
        },
        "f1b3b361ed444e6c80f53e5eecac64d8": {
          "model_module": "@jupyter-widgets/controls",
          "model_name": "HTMLModel",
          "model_module_version": "1.5.0",
          "state": {
            "_dom_classes": [],
            "_model_module": "@jupyter-widgets/controls",
            "_model_module_version": "1.5.0",
            "_model_name": "HTMLModel",
            "_view_count": null,
            "_view_module": "@jupyter-widgets/controls",
            "_view_module_version": "1.5.0",
            "_view_name": "HTMLView",
            "description": "",
            "description_tooltip": null,
            "layout": "IPY_MODEL_b9f31242f71f4c359d31217c480a9c73",
            "placeholder": "​",
            "style": "IPY_MODEL_d77de72b06a04067a361b448942b99c8",
            "value": "Downloading config.json: 100%"
          }
        },
        "1e2d9e159973445ab54acefd87ca5c5a": {
          "model_module": "@jupyter-widgets/controls",
          "model_name": "FloatProgressModel",
          "model_module_version": "1.5.0",
          "state": {
            "_dom_classes": [],
            "_model_module": "@jupyter-widgets/controls",
            "_model_module_version": "1.5.0",
            "_model_name": "FloatProgressModel",
            "_view_count": null,
            "_view_module": "@jupyter-widgets/controls",
            "_view_module_version": "1.5.0",
            "_view_name": "ProgressView",
            "bar_style": "success",
            "description": "",
            "description_tooltip": null,
            "layout": "IPY_MODEL_6241fa0ffe72443386c5c88f283c6ea7",
            "max": 533,
            "min": 0,
            "orientation": "horizontal",
            "style": "IPY_MODEL_74727957f273433b9ff7be384fce3357",
            "value": 533
          }
        },
        "e442cfe5a92e443f9c01c93b7b7388e4": {
          "model_module": "@jupyter-widgets/controls",
          "model_name": "HTMLModel",
          "model_module_version": "1.5.0",
          "state": {
            "_dom_classes": [],
            "_model_module": "@jupyter-widgets/controls",
            "_model_module_version": "1.5.0",
            "_model_name": "HTMLModel",
            "_view_count": null,
            "_view_module": "@jupyter-widgets/controls",
            "_view_module_version": "1.5.0",
            "_view_name": "HTMLView",
            "description": "",
            "description_tooltip": null,
            "layout": "IPY_MODEL_0391326468c8435989a525758dfe101a",
            "placeholder": "​",
            "style": "IPY_MODEL_7f64828ad3bb4ca3b65ab8ae626f0a25",
            "value": " 533/533 [00:00&lt;00:00, 21.7kB/s]"
          }
        },
        "8f7841529b0c4aef813e02881f119cef": {
          "model_module": "@jupyter-widgets/base",
          "model_name": "LayoutModel",
          "model_module_version": "1.2.0",
          "state": {
            "_model_module": "@jupyter-widgets/base",
            "_model_module_version": "1.2.0",
            "_model_name": "LayoutModel",
            "_view_count": null,
            "_view_module": "@jupyter-widgets/base",
            "_view_module_version": "1.2.0",
            "_view_name": "LayoutView",
            "align_content": null,
            "align_items": null,
            "align_self": null,
            "border": null,
            "bottom": null,
            "display": null,
            "flex": null,
            "flex_flow": null,
            "grid_area": null,
            "grid_auto_columns": null,
            "grid_auto_flow": null,
            "grid_auto_rows": null,
            "grid_column": null,
            "grid_gap": null,
            "grid_row": null,
            "grid_template_areas": null,
            "grid_template_columns": null,
            "grid_template_rows": null,
            "height": null,
            "justify_content": null,
            "justify_items": null,
            "left": null,
            "margin": null,
            "max_height": null,
            "max_width": null,
            "min_height": null,
            "min_width": null,
            "object_fit": null,
            "object_position": null,
            "order": null,
            "overflow": null,
            "overflow_x": null,
            "overflow_y": null,
            "padding": null,
            "right": null,
            "top": null,
            "visibility": null,
            "width": null
          }
        },
        "b9f31242f71f4c359d31217c480a9c73": {
          "model_module": "@jupyter-widgets/base",
          "model_name": "LayoutModel",
          "model_module_version": "1.2.0",
          "state": {
            "_model_module": "@jupyter-widgets/base",
            "_model_module_version": "1.2.0",
            "_model_name": "LayoutModel",
            "_view_count": null,
            "_view_module": "@jupyter-widgets/base",
            "_view_module_version": "1.2.0",
            "_view_name": "LayoutView",
            "align_content": null,
            "align_items": null,
            "align_self": null,
            "border": null,
            "bottom": null,
            "display": null,
            "flex": null,
            "flex_flow": null,
            "grid_area": null,
            "grid_auto_columns": null,
            "grid_auto_flow": null,
            "grid_auto_rows": null,
            "grid_column": null,
            "grid_gap": null,
            "grid_row": null,
            "grid_template_areas": null,
            "grid_template_columns": null,
            "grid_template_rows": null,
            "height": null,
            "justify_content": null,
            "justify_items": null,
            "left": null,
            "margin": null,
            "max_height": null,
            "max_width": null,
            "min_height": null,
            "min_width": null,
            "object_fit": null,
            "object_position": null,
            "order": null,
            "overflow": null,
            "overflow_x": null,
            "overflow_y": null,
            "padding": null,
            "right": null,
            "top": null,
            "visibility": null,
            "width": null
          }
        },
        "d77de72b06a04067a361b448942b99c8": {
          "model_module": "@jupyter-widgets/controls",
          "model_name": "DescriptionStyleModel",
          "model_module_version": "1.5.0",
          "state": {
            "_model_module": "@jupyter-widgets/controls",
            "_model_module_version": "1.5.0",
            "_model_name": "DescriptionStyleModel",
            "_view_count": null,
            "_view_module": "@jupyter-widgets/base",
            "_view_module_version": "1.2.0",
            "_view_name": "StyleView",
            "description_width": ""
          }
        },
        "6241fa0ffe72443386c5c88f283c6ea7": {
          "model_module": "@jupyter-widgets/base",
          "model_name": "LayoutModel",
          "model_module_version": "1.2.0",
          "state": {
            "_model_module": "@jupyter-widgets/base",
            "_model_module_version": "1.2.0",
            "_model_name": "LayoutModel",
            "_view_count": null,
            "_view_module": "@jupyter-widgets/base",
            "_view_module_version": "1.2.0",
            "_view_name": "LayoutView",
            "align_content": null,
            "align_items": null,
            "align_self": null,
            "border": null,
            "bottom": null,
            "display": null,
            "flex": null,
            "flex_flow": null,
            "grid_area": null,
            "grid_auto_columns": null,
            "grid_auto_flow": null,
            "grid_auto_rows": null,
            "grid_column": null,
            "grid_gap": null,
            "grid_row": null,
            "grid_template_areas": null,
            "grid_template_columns": null,
            "grid_template_rows": null,
            "height": null,
            "justify_content": null,
            "justify_items": null,
            "left": null,
            "margin": null,
            "max_height": null,
            "max_width": null,
            "min_height": null,
            "min_width": null,
            "object_fit": null,
            "object_position": null,
            "order": null,
            "overflow": null,
            "overflow_x": null,
            "overflow_y": null,
            "padding": null,
            "right": null,
            "top": null,
            "visibility": null,
            "width": null
          }
        },
        "74727957f273433b9ff7be384fce3357": {
          "model_module": "@jupyter-widgets/controls",
          "model_name": "ProgressStyleModel",
          "model_module_version": "1.5.0",
          "state": {
            "_model_module": "@jupyter-widgets/controls",
            "_model_module_version": "1.5.0",
            "_model_name": "ProgressStyleModel",
            "_view_count": null,
            "_view_module": "@jupyter-widgets/base",
            "_view_module_version": "1.2.0",
            "_view_name": "StyleView",
            "bar_color": null,
            "description_width": ""
          }
        },
        "0391326468c8435989a525758dfe101a": {
          "model_module": "@jupyter-widgets/base",
          "model_name": "LayoutModel",
          "model_module_version": "1.2.0",
          "state": {
            "_model_module": "@jupyter-widgets/base",
            "_model_module_version": "1.2.0",
            "_model_name": "LayoutModel",
            "_view_count": null,
            "_view_module": "@jupyter-widgets/base",
            "_view_module_version": "1.2.0",
            "_view_name": "LayoutView",
            "align_content": null,
            "align_items": null,
            "align_self": null,
            "border": null,
            "bottom": null,
            "display": null,
            "flex": null,
            "flex_flow": null,
            "grid_area": null,
            "grid_auto_columns": null,
            "grid_auto_flow": null,
            "grid_auto_rows": null,
            "grid_column": null,
            "grid_gap": null,
            "grid_row": null,
            "grid_template_areas": null,
            "grid_template_columns": null,
            "grid_template_rows": null,
            "height": null,
            "justify_content": null,
            "justify_items": null,
            "left": null,
            "margin": null,
            "max_height": null,
            "max_width": null,
            "min_height": null,
            "min_width": null,
            "object_fit": null,
            "object_position": null,
            "order": null,
            "overflow": null,
            "overflow_x": null,
            "overflow_y": null,
            "padding": null,
            "right": null,
            "top": null,
            "visibility": null,
            "width": null
          }
        },
        "7f64828ad3bb4ca3b65ab8ae626f0a25": {
          "model_module": "@jupyter-widgets/controls",
          "model_name": "DescriptionStyleModel",
          "model_module_version": "1.5.0",
          "state": {
            "_model_module": "@jupyter-widgets/controls",
            "_model_module_version": "1.5.0",
            "_model_name": "DescriptionStyleModel",
            "_view_count": null,
            "_view_module": "@jupyter-widgets/base",
            "_view_module_version": "1.2.0",
            "_view_name": "StyleView",
            "description_width": ""
          }
        },
        "c918f8243e164d79803fabcdc9d313cb": {
          "model_module": "@jupyter-widgets/controls",
          "model_name": "HBoxModel",
          "model_module_version": "1.5.0",
          "state": {
            "_dom_classes": [],
            "_model_module": "@jupyter-widgets/controls",
            "_model_module_version": "1.5.0",
            "_model_name": "HBoxModel",
            "_view_count": null,
            "_view_module": "@jupyter-widgets/controls",
            "_view_module_version": "1.5.0",
            "_view_name": "HBoxView",
            "box_style": "",
            "children": [
              "IPY_MODEL_186aa85d20bc4d249ee52b2f9efd7a22",
              "IPY_MODEL_4df1bccfa67940be91c518bc546824a5",
              "IPY_MODEL_9c708ed9c29241df9c91899de59525e3"
            ],
            "layout": "IPY_MODEL_9d20dcc9020d4b7ea09205047b0819a3"
          }
        },
        "186aa85d20bc4d249ee52b2f9efd7a22": {
          "model_module": "@jupyter-widgets/controls",
          "model_name": "HTMLModel",
          "model_module_version": "1.5.0",
          "state": {
            "_dom_classes": [],
            "_model_module": "@jupyter-widgets/controls",
            "_model_module_version": "1.5.0",
            "_model_name": "HTMLModel",
            "_view_count": null,
            "_view_module": "@jupyter-widgets/controls",
            "_view_module_version": "1.5.0",
            "_view_name": "HTMLView",
            "description": "",
            "description_tooltip": null,
            "layout": "IPY_MODEL_dc2abd7c4f9a46979bfcf4728043b6b7",
            "placeholder": "​",
            "style": "IPY_MODEL_b3aee68cddc846a0a9b5830dcc2b2ced",
            "value": "Downloading vocab.txt: 100%"
          }
        },
        "4df1bccfa67940be91c518bc546824a5": {
          "model_module": "@jupyter-widgets/controls",
          "model_name": "FloatProgressModel",
          "model_module_version": "1.5.0",
          "state": {
            "_dom_classes": [],
            "_model_module": "@jupyter-widgets/controls",
            "_model_module_version": "1.5.0",
            "_model_name": "FloatProgressModel",
            "_view_count": null,
            "_view_module": "@jupyter-widgets/controls",
            "_view_module_version": "1.5.0",
            "_view_name": "ProgressView",
            "bar_style": "success",
            "description": "",
            "description_tooltip": null,
            "layout": "IPY_MODEL_44b14858709e4428a68275b50d4835fc",
            "max": 226122,
            "min": 0,
            "orientation": "horizontal",
            "style": "IPY_MODEL_b9c1cf1510814029b33aae0d87e62985",
            "value": 226122
          }
        },
        "9c708ed9c29241df9c91899de59525e3": {
          "model_module": "@jupyter-widgets/controls",
          "model_name": "HTMLModel",
          "model_module_version": "1.5.0",
          "state": {
            "_dom_classes": [],
            "_model_module": "@jupyter-widgets/controls",
            "_model_module_version": "1.5.0",
            "_model_name": "HTMLModel",
            "_view_count": null,
            "_view_module": "@jupyter-widgets/controls",
            "_view_module_version": "1.5.0",
            "_view_name": "HTMLView",
            "description": "",
            "description_tooltip": null,
            "layout": "IPY_MODEL_79be428079cf4e63a5fa9b00d7777dec",
            "placeholder": "​",
            "style": "IPY_MODEL_d65c3fbb602e42b0aef0a07bd9eda6dd",
            "value": " 221k/221k [00:00&lt;00:00, 874kB/s]"
          }
        },
        "9d20dcc9020d4b7ea09205047b0819a3": {
          "model_module": "@jupyter-widgets/base",
          "model_name": "LayoutModel",
          "model_module_version": "1.2.0",
          "state": {
            "_model_module": "@jupyter-widgets/base",
            "_model_module_version": "1.2.0",
            "_model_name": "LayoutModel",
            "_view_count": null,
            "_view_module": "@jupyter-widgets/base",
            "_view_module_version": "1.2.0",
            "_view_name": "LayoutView",
            "align_content": null,
            "align_items": null,
            "align_self": null,
            "border": null,
            "bottom": null,
            "display": null,
            "flex": null,
            "flex_flow": null,
            "grid_area": null,
            "grid_auto_columns": null,
            "grid_auto_flow": null,
            "grid_auto_rows": null,
            "grid_column": null,
            "grid_gap": null,
            "grid_row": null,
            "grid_template_areas": null,
            "grid_template_columns": null,
            "grid_template_rows": null,
            "height": null,
            "justify_content": null,
            "justify_items": null,
            "left": null,
            "margin": null,
            "max_height": null,
            "max_width": null,
            "min_height": null,
            "min_width": null,
            "object_fit": null,
            "object_position": null,
            "order": null,
            "overflow": null,
            "overflow_x": null,
            "overflow_y": null,
            "padding": null,
            "right": null,
            "top": null,
            "visibility": null,
            "width": null
          }
        },
        "dc2abd7c4f9a46979bfcf4728043b6b7": {
          "model_module": "@jupyter-widgets/base",
          "model_name": "LayoutModel",
          "model_module_version": "1.2.0",
          "state": {
            "_model_module": "@jupyter-widgets/base",
            "_model_module_version": "1.2.0",
            "_model_name": "LayoutModel",
            "_view_count": null,
            "_view_module": "@jupyter-widgets/base",
            "_view_module_version": "1.2.0",
            "_view_name": "LayoutView",
            "align_content": null,
            "align_items": null,
            "align_self": null,
            "border": null,
            "bottom": null,
            "display": null,
            "flex": null,
            "flex_flow": null,
            "grid_area": null,
            "grid_auto_columns": null,
            "grid_auto_flow": null,
            "grid_auto_rows": null,
            "grid_column": null,
            "grid_gap": null,
            "grid_row": null,
            "grid_template_areas": null,
            "grid_template_columns": null,
            "grid_template_rows": null,
            "height": null,
            "justify_content": null,
            "justify_items": null,
            "left": null,
            "margin": null,
            "max_height": null,
            "max_width": null,
            "min_height": null,
            "min_width": null,
            "object_fit": null,
            "object_position": null,
            "order": null,
            "overflow": null,
            "overflow_x": null,
            "overflow_y": null,
            "padding": null,
            "right": null,
            "top": null,
            "visibility": null,
            "width": null
          }
        },
        "b3aee68cddc846a0a9b5830dcc2b2ced": {
          "model_module": "@jupyter-widgets/controls",
          "model_name": "DescriptionStyleModel",
          "model_module_version": "1.5.0",
          "state": {
            "_model_module": "@jupyter-widgets/controls",
            "_model_module_version": "1.5.0",
            "_model_name": "DescriptionStyleModel",
            "_view_count": null,
            "_view_module": "@jupyter-widgets/base",
            "_view_module_version": "1.2.0",
            "_view_name": "StyleView",
            "description_width": ""
          }
        },
        "44b14858709e4428a68275b50d4835fc": {
          "model_module": "@jupyter-widgets/base",
          "model_name": "LayoutModel",
          "model_module_version": "1.2.0",
          "state": {
            "_model_module": "@jupyter-widgets/base",
            "_model_module_version": "1.2.0",
            "_model_name": "LayoutModel",
            "_view_count": null,
            "_view_module": "@jupyter-widgets/base",
            "_view_module_version": "1.2.0",
            "_view_name": "LayoutView",
            "align_content": null,
            "align_items": null,
            "align_self": null,
            "border": null,
            "bottom": null,
            "display": null,
            "flex": null,
            "flex_flow": null,
            "grid_area": null,
            "grid_auto_columns": null,
            "grid_auto_flow": null,
            "grid_auto_rows": null,
            "grid_column": null,
            "grid_gap": null,
            "grid_row": null,
            "grid_template_areas": null,
            "grid_template_columns": null,
            "grid_template_rows": null,
            "height": null,
            "justify_content": null,
            "justify_items": null,
            "left": null,
            "margin": null,
            "max_height": null,
            "max_width": null,
            "min_height": null,
            "min_width": null,
            "object_fit": null,
            "object_position": null,
            "order": null,
            "overflow": null,
            "overflow_x": null,
            "overflow_y": null,
            "padding": null,
            "right": null,
            "top": null,
            "visibility": null,
            "width": null
          }
        },
        "b9c1cf1510814029b33aae0d87e62985": {
          "model_module": "@jupyter-widgets/controls",
          "model_name": "ProgressStyleModel",
          "model_module_version": "1.5.0",
          "state": {
            "_model_module": "@jupyter-widgets/controls",
            "_model_module_version": "1.5.0",
            "_model_name": "ProgressStyleModel",
            "_view_count": null,
            "_view_module": "@jupyter-widgets/base",
            "_view_module_version": "1.2.0",
            "_view_name": "StyleView",
            "bar_color": null,
            "description_width": ""
          }
        },
        "79be428079cf4e63a5fa9b00d7777dec": {
          "model_module": "@jupyter-widgets/base",
          "model_name": "LayoutModel",
          "model_module_version": "1.2.0",
          "state": {
            "_model_module": "@jupyter-widgets/base",
            "_model_module_version": "1.2.0",
            "_model_name": "LayoutModel",
            "_view_count": null,
            "_view_module": "@jupyter-widgets/base",
            "_view_module_version": "1.2.0",
            "_view_name": "LayoutView",
            "align_content": null,
            "align_items": null,
            "align_self": null,
            "border": null,
            "bottom": null,
            "display": null,
            "flex": null,
            "flex_flow": null,
            "grid_area": null,
            "grid_auto_columns": null,
            "grid_auto_flow": null,
            "grid_auto_rows": null,
            "grid_column": null,
            "grid_gap": null,
            "grid_row": null,
            "grid_template_areas": null,
            "grid_template_columns": null,
            "grid_template_rows": null,
            "height": null,
            "justify_content": null,
            "justify_items": null,
            "left": null,
            "margin": null,
            "max_height": null,
            "max_width": null,
            "min_height": null,
            "min_width": null,
            "object_fit": null,
            "object_position": null,
            "order": null,
            "overflow": null,
            "overflow_x": null,
            "overflow_y": null,
            "padding": null,
            "right": null,
            "top": null,
            "visibility": null,
            "width": null
          }
        },
        "d65c3fbb602e42b0aef0a07bd9eda6dd": {
          "model_module": "@jupyter-widgets/controls",
          "model_name": "DescriptionStyleModel",
          "model_module_version": "1.5.0",
          "state": {
            "_model_module": "@jupyter-widgets/controls",
            "_model_module_version": "1.5.0",
            "_model_name": "DescriptionStyleModel",
            "_view_count": null,
            "_view_module": "@jupyter-widgets/base",
            "_view_module_version": "1.2.0",
            "_view_name": "StyleView",
            "description_width": ""
          }
        },
        "aa70109d351545f59d7bbef3573c64b6": {
          "model_module": "@jupyter-widgets/controls",
          "model_name": "HBoxModel",
          "model_module_version": "1.5.0",
          "state": {
            "_dom_classes": [],
            "_model_module": "@jupyter-widgets/controls",
            "_model_module_version": "1.5.0",
            "_model_name": "HBoxModel",
            "_view_count": null,
            "_view_module": "@jupyter-widgets/controls",
            "_view_module_version": "1.5.0",
            "_view_name": "HBoxView",
            "box_style": "",
            "children": [
              "IPY_MODEL_6b16938b1d57436987f115fbd5d7d09e",
              "IPY_MODEL_506c4b7b6fb142189f4ca49d817fed2b",
              "IPY_MODEL_6a1f89eb3ea0464689fb0d0f4925dd41"
            ],
            "layout": "IPY_MODEL_defaba1b43f349669afd0a6b145a0a81"
          }
        },
        "6b16938b1d57436987f115fbd5d7d09e": {
          "model_module": "@jupyter-widgets/controls",
          "model_name": "HTMLModel",
          "model_module_version": "1.5.0",
          "state": {
            "_dom_classes": [],
            "_model_module": "@jupyter-widgets/controls",
            "_model_module_version": "1.5.0",
            "_model_name": "HTMLModel",
            "_view_count": null,
            "_view_module": "@jupyter-widgets/controls",
            "_view_module_version": "1.5.0",
            "_view_name": "HTMLView",
            "description": "",
            "description_tooltip": null,
            "layout": "IPY_MODEL_2bc4e521d8fc40afa0b4cab5c3fb699c",
            "placeholder": "​",
            "style": "IPY_MODEL_489c82bc445044adb30321ae18a32e47",
            "value": "Downloading pytorch_model.bin: 100%"
          }
        },
        "506c4b7b6fb142189f4ca49d817fed2b": {
          "model_module": "@jupyter-widgets/controls",
          "model_name": "FloatProgressModel",
          "model_module_version": "1.5.0",
          "state": {
            "_dom_classes": [],
            "_model_module": "@jupyter-widgets/controls",
            "_model_module_version": "1.5.0",
            "_model_name": "FloatProgressModel",
            "_view_count": null,
            "_view_module": "@jupyter-widgets/controls",
            "_view_module_version": "1.5.0",
            "_view_name": "ProgressView",
            "bar_style": "success",
            "description": "",
            "description_tooltip": null,
            "layout": "IPY_MODEL_51c76be1884d4785ad57781ac043e82e",
            "max": 439101405,
            "min": 0,
            "orientation": "horizontal",
            "style": "IPY_MODEL_60d4334becea430db360605bab6eb176",
            "value": 439101405
          }
        },
        "6a1f89eb3ea0464689fb0d0f4925dd41": {
          "model_module": "@jupyter-widgets/controls",
          "model_name": "HTMLModel",
          "model_module_version": "1.5.0",
          "state": {
            "_dom_classes": [],
            "_model_module": "@jupyter-widgets/controls",
            "_model_module_version": "1.5.0",
            "_model_name": "HTMLModel",
            "_view_count": null,
            "_view_module": "@jupyter-widgets/controls",
            "_view_module_version": "1.5.0",
            "_view_name": "HTMLView",
            "description": "",
            "description_tooltip": null,
            "layout": "IPY_MODEL_f11ab495b51549c286e7d66bbfec2577",
            "placeholder": "​",
            "style": "IPY_MODEL_2906b01b191a4304806babd8f99fe716",
            "value": " 419M/419M [00:06&lt;00:00, 69.1MB/s]"
          }
        },
        "defaba1b43f349669afd0a6b145a0a81": {
          "model_module": "@jupyter-widgets/base",
          "model_name": "LayoutModel",
          "model_module_version": "1.2.0",
          "state": {
            "_model_module": "@jupyter-widgets/base",
            "_model_module_version": "1.2.0",
            "_model_name": "LayoutModel",
            "_view_count": null,
            "_view_module": "@jupyter-widgets/base",
            "_view_module_version": "1.2.0",
            "_view_name": "LayoutView",
            "align_content": null,
            "align_items": null,
            "align_self": null,
            "border": null,
            "bottom": null,
            "display": null,
            "flex": null,
            "flex_flow": null,
            "grid_area": null,
            "grid_auto_columns": null,
            "grid_auto_flow": null,
            "grid_auto_rows": null,
            "grid_column": null,
            "grid_gap": null,
            "grid_row": null,
            "grid_template_areas": null,
            "grid_template_columns": null,
            "grid_template_rows": null,
            "height": null,
            "justify_content": null,
            "justify_items": null,
            "left": null,
            "margin": null,
            "max_height": null,
            "max_width": null,
            "min_height": null,
            "min_width": null,
            "object_fit": null,
            "object_position": null,
            "order": null,
            "overflow": null,
            "overflow_x": null,
            "overflow_y": null,
            "padding": null,
            "right": null,
            "top": null,
            "visibility": null,
            "width": null
          }
        },
        "2bc4e521d8fc40afa0b4cab5c3fb699c": {
          "model_module": "@jupyter-widgets/base",
          "model_name": "LayoutModel",
          "model_module_version": "1.2.0",
          "state": {
            "_model_module": "@jupyter-widgets/base",
            "_model_module_version": "1.2.0",
            "_model_name": "LayoutModel",
            "_view_count": null,
            "_view_module": "@jupyter-widgets/base",
            "_view_module_version": "1.2.0",
            "_view_name": "LayoutView",
            "align_content": null,
            "align_items": null,
            "align_self": null,
            "border": null,
            "bottom": null,
            "display": null,
            "flex": null,
            "flex_flow": null,
            "grid_area": null,
            "grid_auto_columns": null,
            "grid_auto_flow": null,
            "grid_auto_rows": null,
            "grid_column": null,
            "grid_gap": null,
            "grid_row": null,
            "grid_template_areas": null,
            "grid_template_columns": null,
            "grid_template_rows": null,
            "height": null,
            "justify_content": null,
            "justify_items": null,
            "left": null,
            "margin": null,
            "max_height": null,
            "max_width": null,
            "min_height": null,
            "min_width": null,
            "object_fit": null,
            "object_position": null,
            "order": null,
            "overflow": null,
            "overflow_x": null,
            "overflow_y": null,
            "padding": null,
            "right": null,
            "top": null,
            "visibility": null,
            "width": null
          }
        },
        "489c82bc445044adb30321ae18a32e47": {
          "model_module": "@jupyter-widgets/controls",
          "model_name": "DescriptionStyleModel",
          "model_module_version": "1.5.0",
          "state": {
            "_model_module": "@jupyter-widgets/controls",
            "_model_module_version": "1.5.0",
            "_model_name": "DescriptionStyleModel",
            "_view_count": null,
            "_view_module": "@jupyter-widgets/base",
            "_view_module_version": "1.2.0",
            "_view_name": "StyleView",
            "description_width": ""
          }
        },
        "51c76be1884d4785ad57781ac043e82e": {
          "model_module": "@jupyter-widgets/base",
          "model_name": "LayoutModel",
          "model_module_version": "1.2.0",
          "state": {
            "_model_module": "@jupyter-widgets/base",
            "_model_module_version": "1.2.0",
            "_model_name": "LayoutModel",
            "_view_count": null,
            "_view_module": "@jupyter-widgets/base",
            "_view_module_version": "1.2.0",
            "_view_name": "LayoutView",
            "align_content": null,
            "align_items": null,
            "align_self": null,
            "border": null,
            "bottom": null,
            "display": null,
            "flex": null,
            "flex_flow": null,
            "grid_area": null,
            "grid_auto_columns": null,
            "grid_auto_flow": null,
            "grid_auto_rows": null,
            "grid_column": null,
            "grid_gap": null,
            "grid_row": null,
            "grid_template_areas": null,
            "grid_template_columns": null,
            "grid_template_rows": null,
            "height": null,
            "justify_content": null,
            "justify_items": null,
            "left": null,
            "margin": null,
            "max_height": null,
            "max_width": null,
            "min_height": null,
            "min_width": null,
            "object_fit": null,
            "object_position": null,
            "order": null,
            "overflow": null,
            "overflow_x": null,
            "overflow_y": null,
            "padding": null,
            "right": null,
            "top": null,
            "visibility": null,
            "width": null
          }
        },
        "60d4334becea430db360605bab6eb176": {
          "model_module": "@jupyter-widgets/controls",
          "model_name": "ProgressStyleModel",
          "model_module_version": "1.5.0",
          "state": {
            "_model_module": "@jupyter-widgets/controls",
            "_model_module_version": "1.5.0",
            "_model_name": "ProgressStyleModel",
            "_view_count": null,
            "_view_module": "@jupyter-widgets/base",
            "_view_module_version": "1.2.0",
            "_view_name": "StyleView",
            "bar_color": null,
            "description_width": ""
          }
        },
        "f11ab495b51549c286e7d66bbfec2577": {
          "model_module": "@jupyter-widgets/base",
          "model_name": "LayoutModel",
          "model_module_version": "1.2.0",
          "state": {
            "_model_module": "@jupyter-widgets/base",
            "_model_module_version": "1.2.0",
            "_model_name": "LayoutModel",
            "_view_count": null,
            "_view_module": "@jupyter-widgets/base",
            "_view_module_version": "1.2.0",
            "_view_name": "LayoutView",
            "align_content": null,
            "align_items": null,
            "align_self": null,
            "border": null,
            "bottom": null,
            "display": null,
            "flex": null,
            "flex_flow": null,
            "grid_area": null,
            "grid_auto_columns": null,
            "grid_auto_flow": null,
            "grid_auto_rows": null,
            "grid_column": null,
            "grid_gap": null,
            "grid_row": null,
            "grid_template_areas": null,
            "grid_template_columns": null,
            "grid_template_rows": null,
            "height": null,
            "justify_content": null,
            "justify_items": null,
            "left": null,
            "margin": null,
            "max_height": null,
            "max_width": null,
            "min_height": null,
            "min_width": null,
            "object_fit": null,
            "object_position": null,
            "order": null,
            "overflow": null,
            "overflow_x": null,
            "overflow_y": null,
            "padding": null,
            "right": null,
            "top": null,
            "visibility": null,
            "width": null
          }
        },
        "2906b01b191a4304806babd8f99fe716": {
          "model_module": "@jupyter-widgets/controls",
          "model_name": "DescriptionStyleModel",
          "model_module_version": "1.5.0",
          "state": {
            "_model_module": "@jupyter-widgets/controls",
            "_model_module_version": "1.5.0",
            "_model_name": "DescriptionStyleModel",
            "_view_count": null,
            "_view_module": "@jupyter-widgets/base",
            "_view_module_version": "1.2.0",
            "_view_name": "StyleView",
            "description_width": ""
          }
        }
      }
    }
  },
  "nbformat": 4,
  "nbformat_minor": 0
}