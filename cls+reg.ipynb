{
  "cells": [
    {
      "cell_type": "code",
      "execution_count": null,
      "metadata": {
        "id": "AnktrduOniFa"
      },
      "outputs": [],
      "source": [
        "! pip install transformers\n",
        "! pip install datasets\n",
        "!pip install torchmetrics\n",
        "import warnings\n",
        "warnings.filterwarnings('ignore')\n",
        "from sklearn.metrics import f1_score\n"
      ]
    },
    {
      "cell_type": "code",
      "execution_count": null,
      "metadata": {
        "id": "XypgnHCEnnXt"
      },
      "outputs": [],
      "source": [
        "from transformers import AutoTokenizer, AutoModel, AdamW\n",
        "from collections import defaultdict\n",
        "from transformers import get_linear_schedule_with_warmup\n",
        "import time\n",
        "\n",
        "\n",
        "import torch\n",
        "from sklearn.metrics import accuracy_score"
      ]
    },
    {
      "cell_type": "code",
      "execution_count": null,
      "metadata": {
        "id": "HCm106FxnohQ"
      },
      "outputs": [],
      "source": [
        "\n",
        "import numpy as np\n",
        "\n",
        "from sklearn.metrics import f1_score\n",
        "import datasets\n",
        "import torch\n",
        "from torch.utils.data import Dataset, DataLoader\n",
        "import torch.nn as nn\n",
        "from tensorflow.keras.preprocessing.sequence import pad_sequences\n",
        "import pandas as pd\n",
        "from transformers import BertModel, BertTokenizer\n",
        "from numpy import *\n",
        "from torch import nn, optim"
      ]
    },
    {
      "cell_type": "code",
      "execution_count": null,
      "metadata": {
        "colab": {
          "base_uri": "https://localhost:8080/"
        },
        "id": "BbUCUJJQnp1j",
        "outputId": "8548dc3d-87af-4ad1-9751-d5ef9e2b37e8"
      },
      "outputs": [
        {
          "output_type": "stream",
          "name": "stdout",
          "text": [
            "Mounted at /content/drive\n",
            "/content/drive/MyDrive/新建文件夹/ERAI Dataset_with_translation\n"
          ]
        }
      ],
      "source": [
        "from google.colab import drive\n",
        "drive.mount('/content/drive')\n",
        "%cd /content/drive/MyDrive/新建文件夹/ERAI Dataset_with_translation"
      ]
    },
    {
      "cell_type": "code",
      "source": [
        "pd.set_option('display.max_rows', None)"
      ],
      "metadata": {
        "id": "ik9XajY6yGqJ"
      },
      "execution_count": null,
      "outputs": []
    },
    {
      "cell_type": "code",
      "source": [
        "\n",
        "df_unsupervised = pd.read_json('/content/drive/MyDrive/新建文件夹/ERAI_Dataset_unsupervised.json')"
      ],
      "metadata": {
        "id": "Zd-hD40Wnfhq"
      },
      "execution_count": null,
      "outputs": []
    },
    {
      "cell_type": "code",
      "source": [
        "df = pd.read_json('ERAI_Dataset_pairwise_train_with_translation.json')\n",
        "# df2 = pd.read_json('ERAI_Dataset_pairwise_test.json')\n",
        "\n",
        "from sklearn.utils import shuffle\n",
        "df = shuffle(df)\n",
        "# df2 = shuffle(df2)\n",
        "\n",
        "\n",
        "df['post1_en']=df['post1_en'].apply(lambda x:x.replace('\\n',''))\n",
        "df['post2_en']=df['post2_en'].apply(lambda x:x.replace('\\n',''))\n",
        "# df2['post1']=df2['post1'].apply(lambda x:x.replace('\\n',''))\n",
        "# df2['post2']=df2['post2'].apply(lambda x:x.replace('\\n',''))"
      ],
      "metadata": {
        "id": "kMP47MjBohHg"
      },
      "execution_count": null,
      "outputs": []
    },
    {
      "cell_type": "code",
      "source": [
        "df.reset_index(drop = True,inplace = True)"
      ],
      "metadata": {
        "id": "mHMuXL1T2VaM"
      },
      "execution_count": null,
      "outputs": []
    },
    {
      "cell_type": "code",
      "source": [
        "\n",
        "# df['MPP1'] = df['MPP1'].apply(lambda x:x*10)\n",
        "# df['MPP2'] = df['MPP2'].apply(lambda x:x*10)\n",
        "# df['ML1'] = df['ML1'].apply(lambda x:x*10)\n",
        "# df['ML2'] = df['ML2'].apply(lambda x:x*10)"
      ],
      "metadata": {
        "id": "VWFmzsGKLGxp"
      },
      "execution_count": null,
      "outputs": []
    },
    {
      "cell_type": "code",
      "source": [
        "# post1 = df['post1']\n",
        "# post2 = df['post2']\n",
        "# # ml_label = df['ML_label']\n",
        "# # mpp_label = df['MPP_label']\n",
        "# mpp_label_1 = df['MPP1']\n",
        "# mpp_label_2 = df['MPP2']"
      ],
      "metadata": {
        "id": "Te4sKdi5pUwu"
      },
      "execution_count": null,
      "outputs": []
    },
    {
      "cell_type": "code",
      "source": [
        "df = df.dropna(axis = 0)"
      ],
      "metadata": {
        "id": "oGKZQgnsVR09"
      },
      "execution_count": null,
      "outputs": []
    },
    {
      "cell_type": "code",
      "source": [
        "# all_post = pd.concat([post1,post2],axis=0)\n",
        "# all_post.reset_index(drop = True,inplace = True)\n",
        "# mpp_all_value =  pd.concat([mpp_label_1,mpp_label_2],axis=0)\n",
        "# mpp_all_value.reset_index(drop = True,inplace = True)"
      ],
      "metadata": {
        "id": "m5vIB9byWbXU"
      },
      "execution_count": null,
      "outputs": []
    },
    {
      "cell_type": "code",
      "source": [
        "from transformers import AutoTokenizer, AutoModel"
      ],
      "metadata": {
        "id": "Qfe9hrMI2L51"
      },
      "execution_count": null,
      "outputs": []
    },
    {
      "cell_type": "code",
      "source": [
        "PRETRAINED_MODEL_NAME = \"yiyanghkust/finbert-tone\" \n",
        "# 获取预测模型所使用的tokenizer\n",
        "tokenizer = AutoTokenizer.from_pretrained(PRETRAINED_MODEL_NAME)"
      ],
      "metadata": {
        "id": "NANm77iwqEBf",
        "colab": {
          "base_uri": "https://localhost:8080/",
          "height": 81,
          "referenced_widgets": [
            "945e87d8486743e78d07519f3a3f9c62",
            "0a302943aa224d499769f1cb3fa71273",
            "ee8b9d6af9ca4fb4a4c237f7d176c5c8",
            "1a2d67d97a164e7c97248044714a0556",
            "1edff0915a5347f3b655ee19d74dc5b8",
            "bef3e06edbb94affa44b74d7f7186131",
            "1e38b029832049dfbf49de6cd0994476",
            "6024611b64714fd1aafd02899246f7e7",
            "ce5484a3438f4b3fb1cd62d4b7c82997",
            "8e5a23130e024ce484a9451d25de1c99",
            "8d1b02b6c7b04ec3b7709dd942e34bf3",
            "2764944f755f4f66ada3da2fe2106a0c",
            "f69e17946c1e42d1b921bd73574ed86c",
            "055de01eaa4f4df58a6b802a9016e455",
            "8b3ab134a00341579b6fe513a4bcb564",
            "5e654c28f0064e359ef097d2b096f907",
            "f63562062bc64c7a886bccd6181db63d",
            "68b23808063d4cf1bb52236ec6239962",
            "23882e3d5b0149c7ad6a6aff8bc865be",
            "528900d6b4ba40889e9210346b7c53ec",
            "22084f2e45834a02bac5925800e784d2",
            "b67aeac5f4cb46a49146bcb2765d6d10"
          ]
        },
        "outputId": "14b0f47c-d1b8-4780-ea48-85117447351b"
      },
      "execution_count": null,
      "outputs": [
        {
          "output_type": "display_data",
          "data": {
            "text/plain": [
              "Downloading config.json:   0%|          | 0.00/533 [00:00<?, ?B/s]"
            ],
            "application/vnd.jupyter.widget-view+json": {
              "version_major": 2,
              "version_minor": 0,
              "model_id": "945e87d8486743e78d07519f3a3f9c62"
            }
          },
          "metadata": {}
        },
        {
          "output_type": "display_data",
          "data": {
            "text/plain": [
              "Downloading vocab.txt:   0%|          | 0.00/221k [00:00<?, ?B/s]"
            ],
            "application/vnd.jupyter.widget-view+json": {
              "version_major": 2,
              "version_minor": 0,
              "model_id": "2764944f755f4f66ada3da2fe2106a0c"
            }
          },
          "metadata": {}
        }
      ]
    },
    {
      "cell_type": "code",
      "source": [
        "import pandas as pd\n",
        "import numpy as np \n",
        "from sklearn.model_selection import train_test_split\n",
        "from sklearn.metrics import r2_score, mean_squared_error\n",
        "from sklearn.linear_model import LinearRegression, Ridge, Lasso\n",
        "from sklearn import linear_model\n",
        "import matplotlib.pyplot as plt\n"
      ],
      "metadata": {
        "id": "-LlwSEYH4LfS"
      },
      "execution_count": null,
      "outputs": []
    },
    {
      "cell_type": "code",
      "source": [
        "train = df[0:160]\n",
        "validation = df[160:180]\n",
        "test = df[176:200]"
      ],
      "metadata": {
        "id": "tjTX68PZ2rDq"
      },
      "execution_count": null,
      "outputs": []
    },
    {
      "cell_type": "code",
      "source": [
        "from sklearn.neighbors import KNeighborsRegressor\n",
        "from sklearn.tree import DecisionTreeRegressor\n",
        "from sklearn.svm import SVR"
      ],
      "metadata": {
        "id": "fO4vyZP07ENU"
      },
      "execution_count": null,
      "outputs": []
    },
    {
      "cell_type": "code",
      "source": [
        "train_mpp_score = train['MPP1']\n",
        "train_mpp_score2 = train['MPP2']\n",
        "train_ml_score = train['ML1']\n",
        "train_ml_score2 = train['ML2']\n",
        "train_all_post = pd.concat([train['post1_en'],train['post2_en']],axis = 0)\n",
        "train_all_mpp = pd.concat([train_mpp_score,train_mpp_score2],axis = 0)\n",
        "train_all_ml = pd.concat([train_ml_score,train_ml_score2],axis = 0)"
      ],
      "metadata": {
        "id": "RYYVH4BY6xE4"
      },
      "execution_count": null,
      "outputs": []
    },
    {
      "cell_type": "code",
      "source": [
        "test_label = test['MPP_label']\n",
        "test_label = test['ML_label']"
      ],
      "metadata": {
        "id": "9mhc1ULt6URU"
      },
      "execution_count": null,
      "outputs": []
    },
    {
      "cell_type": "code",
      "source": [
        "x_test = test['post1_en']\n",
        "x_test2 = test['post2_en']"
      ],
      "metadata": {
        "id": "gN889h7Y40_e"
      },
      "execution_count": null,
      "outputs": []
    },
    {
      "cell_type": "code",
      "source": [
        "\n",
        "full_text_x = []\n",
        "for i in train_all_post:\n",
        "  i = tokenizer.tokenize(i)\n",
        "  full_text_x.append(tokenizer.convert_tokens_to_ids(i))\n",
        "all_pad_tokens = pad_sequences(full_text_x, maxlen=512, padding='post', truncating='post')\n",
        "\n"
      ],
      "metadata": {
        "id": "uOoOd4872QsZ"
      },
      "execution_count": null,
      "outputs": []
    },
    {
      "cell_type": "code",
      "source": [
        "type(all_pad_tokens)"
      ],
      "metadata": {
        "colab": {
          "base_uri": "https://localhost:8080/"
        },
        "id": "w-3TN3kL4Ssp",
        "outputId": "273d543a-6831-42d4-e134-a74a9681ae72"
      },
      "execution_count": null,
      "outputs": [
        {
          "output_type": "execute_result",
          "data": {
            "text/plain": [
              "numpy.ndarray"
            ]
          },
          "metadata": {},
          "execution_count": 75
        }
      ]
    },
    {
      "cell_type": "code",
      "source": [
        "regressor = KNeighborsRegressor()\n",
        "\n",
        "#training the model\n",
        "regressor.fit(all_pad_tokens, train_all_ml)"
      ],
      "metadata": {
        "colab": {
          "base_uri": "https://localhost:8080/"
        },
        "id": "i8HP_8YH4EAh",
        "outputId": "96d89480-b620-4d58-e31e-05fed264c3d8"
      },
      "execution_count": null,
      "outputs": [
        {
          "output_type": "execute_result",
          "data": {
            "text/plain": [
              "KNeighborsRegressor()"
            ]
          },
          "metadata": {},
          "execution_count": 76
        }
      ]
    },
    {
      "cell_type": "code",
      "source": [
        "\n",
        "full_text_t1 = []\n",
        "full_text_t2 = []\n",
        "for i in x_test:\n",
        "  i = tokenizer.tokenize(i)\n",
        "  full_text_t1.append(tokenizer.convert_tokens_to_ids(i))\n",
        "for i in x_test2:\n",
        "  i = tokenizer.tokenize(i)\n",
        "  full_text_t2.append(tokenizer.convert_tokens_to_ids(i))\n",
        "all_pad_tokens1 = pad_sequences(full_text_t1, maxlen=512, padding='post', truncating='post')\n",
        "all_pad_tokens2 = pad_sequences(full_text_t2, maxlen=512, padding='post', truncating='post')"
      ],
      "metadata": {
        "id": "MH4AbK2Y4ncZ"
      },
      "execution_count": null,
      "outputs": []
    },
    {
      "cell_type": "code",
      "source": [
        "y_pred1 = regressor.predict(all_pad_tokens1)\n",
        "y_pred2 = regressor.predict(all_pad_tokens1)"
      ],
      "metadata": {
        "id": "TrtSno4w5dhA"
      },
      "execution_count": null,
      "outputs": []
    },
    {
      "cell_type": "code",
      "source": [
        "outcome = []\n",
        "for i,j in zip(y_pred1,y_pred2):\n",
        "  if i<j:\n",
        "    outcome.append(1)\n",
        "  else:\n",
        "    outcome.append(0)\n"
      ],
      "metadata": {
        "id": "2JPs3xwd4geS"
      },
      "execution_count": null,
      "outputs": []
    },
    {
      "cell_type": "code",
      "source": [
        "accuracy_score(test_label,outcome)"
      ],
      "metadata": {
        "colab": {
          "base_uri": "https://localhost:8080/"
        },
        "id": "l2veop6r58ef",
        "outputId": "d980c201-4873-4ffe-a82c-005237d50928"
      },
      "execution_count": null,
      "outputs": [
        {
          "output_type": "execute_result",
          "data": {
            "text/plain": [
              "0.4"
            ]
          },
          "metadata": {},
          "execution_count": 80
        }
      ]
    },
    {
      "cell_type": "code",
      "source": [
        "test_label"
      ],
      "metadata": {
        "id": "H2M1zTZlAzQj"
      },
      "execution_count": null,
      "outputs": []
    },
    {
      "cell_type": "code",
      "source": [
        "for index,(true,pred) in enumerate(zip(test_label,outcome)):\n",
        "  if true!=pred:\n",
        "    print(index)"
      ],
      "metadata": {
        "id": "2ujHk1vc_8EG"
      },
      "execution_count": null,
      "outputs": []
    },
    {
      "cell_type": "code",
      "source": [
        "\n",
        "def generate_input_data(post1,post2,mpp_label,ml_label,max_len,mpp_value1,ml_value1,mpp_value2,ml_value2):\n",
        "  \n",
        "  \n",
        "  first_all_value = pd.concat([mpp_value1,ml_value1],axis=1)\n",
        "  second_all_value = pd.concat([mpp_value2,ml_value2],axis=1)\n",
        "  full_text = []\n",
        "  attention_mask = []\n",
        "  token_type_ids = []\n",
        "  first_length = []\n",
        "  second_length = []\n",
        "  for i,j in zip(post1,post2):\n",
        "    if len(i)>max_len:\n",
        "      i = i[:max_len]\n",
        "    if len(j)>max_len:\n",
        "      j = j[:max_len]\n",
        "    \n",
        "    i = tokenizer.tokenize(i)\n",
        "    j = tokenizer.tokenize(j)\n",
        "\n",
        "    first_length.append(len(i))\n",
        "    second_length.append(len(j))\n",
        "    \n",
        "    text = ['[CLS]']+i+['[SEP]']+j+['[SEP]']\n",
        "    full_text.append(tokenizer.convert_tokens_to_ids(text))\n",
        "    attention_mask.append(np.ones_like(text))\n",
        "\n",
        "    token_type_id = [0]*(len(i)+2) + [1]*(len(j)+1)\n",
        "    token_type_ids.append(token_type_id)\n",
        "\n",
        "  all_pad_tokens = pad_sequences(full_text, maxlen=max_len*2, padding='post', truncating='post')\n",
        "  all_mask = pad_sequences(attention_mask, maxlen=max_len*2, padding='post', truncating='post')\n",
        "  token_type_ids = pad_sequences(token_type_ids, maxlen=max_len*2, padding='post', truncating='post')\n",
        "  \n",
        "  return {\n",
        "      'input_ids': torch.tensor(all_pad_tokens,dtype=torch.long),\n",
        "      'attention_mask': torch.tensor(all_mask, dtype=torch.long),\n",
        "      'token_type_ids':torch.tensor(token_type_ids,dtype = torch.long),\n",
        "      'mpp_label':torch.tensor(mpp_label.values,dtype = torch.long),\n",
        "      'ml_label':torch.tensor(ml_label.values,dtype = torch.long),\n",
        "      'first_all_value': torch.tensor(first_all_value.values, dtype=torch.float),\n",
        "      'second_all_value': torch.tensor(second_all_value.values, dtype=torch.float),\n",
        "      'first_sen_len':torch.tensor(first_length,dtype = torch.long),\n",
        "      'second_sen_len':torch.tensor(second_length,dtype = torch.long)\n",
        "      \n",
        "  }\n",
        "\n",
        "    "
      ],
      "metadata": {
        "id": "sS4W-xYLuQIl"
      },
      "execution_count": null,
      "outputs": []
    },
    {
      "cell_type": "code",
      "source": [
        "class BertNerClassifier(nn.Module):\n",
        "\n",
        "  def __init__(self, n_classes):\n",
        "    super(BertNerClassifier, self).__init__()\n",
        "    self.bert = AutoModel.from_pretrained('yiyanghkust/finbert-tone')\n",
        "    self.drop = nn.Dropout(p=0.1)\n",
        "    self.out = nn.Linear(self.bert.config.hidden_size, n_classes)\n",
        "  \n",
        "  def forward(self, input_ids, attention_mask,token_type_ids,max_len,length1,length2):\n",
        "    output = self.bert(\n",
        "      input_ids=input_ids,\n",
        "      attention_mask=attention_mask,\n",
        "      token_type_ids = token_type_ids\n",
        "\n",
        "    )\n",
        "    \n",
        "    output = self.drop(output[0])\n",
        "    \n",
        "    cls_info = output[0][0].view(1,768)\n",
        "    sent1_info = torch.mean(output[0][1:(length1+1)],dim=0).view(1,768)\n",
        "    sent2_info = torch.mean(output[0][max_len:(max_len+length2)],dim=0).view(1,768)\n",
        "    \n",
        "    output = torch.cat((cls_info,sent1_info,sent2_info),dim = 0)\n",
        "    \n",
        "    \n",
        "    \n",
        "    return self.out(output)"
      ],
      "metadata": {
        "id": "r9ibb_OfB9Vm"
      },
      "execution_count": null,
      "outputs": []
    },
    {
      "cell_type": "code",
      "execution_count": null,
      "metadata": {
        "id": "zgHH5evOn4jq"
      },
      "outputs": [],
      "source": [
        " \n",
        "class DataSequence(Dataset):\n",
        "\n",
        "    def __init__(self, data):\n",
        "\n",
        "      self.features = data['input_ids']\n",
        "      self.mask = data['attention_mask']\n",
        "      self.token_type_ids = data['token_type_ids']\n",
        "      self.mpp_label = data['mpp_label']\n",
        "      self.ml_label = data['ml_label']\n",
        "      self.first_all_value = data['first_all_value']\n",
        "      self.second_all_value = data['second_all_value']\n",
        "      self.first_sen_len = data['first_sen_len']   \n",
        "      self.second_sen_len = data['second_sen_len']   \n",
        "\n",
        "    def __len__(self):\n",
        "\n",
        "        return len(self.mpp_label)\n",
        "\n",
        "    def __getitem__(self, index):\n",
        "\n",
        "        return self.features[index],self.mask[index],self.token_type_ids[index],self.mpp_label[index],self.ml_label[index],self.first_all_value[index],self.second_all_value[index],self.first_sen_len[index],self.second_sen_len[index]"
      ]
    },
    {
      "cell_type": "code",
      "source": [
        "# train_post = all_post[:300]\n",
        "# validation_post = all_post[300:400]\n",
        "# # test_post1 = post1[180:200]\n",
        "\n",
        "# train_mpp_value = mpp_all_value[:300]\n",
        "# validation_mpp_value = mpp_all_value[300:400]\n",
        "# # test_post2 = post2[180:200]\n",
        "\n",
        "# # train_mpp_label = mpp_label[:160]\n",
        "# # validation_mpp_label = mpp_label[160:180]\n",
        "# # test_mpp_label = mpp_label[180:200]\n",
        "\n",
        "# # train_ml_label = ml_label[:160]\n",
        "# # validation_ml_label = ml_label[160:180]\n",
        "# # test_ml_label = ml_label[180:200]\n",
        "# # train_mpp_label = mpp_label[:160]\n",
        "\n",
        "train = df[0:160]\n",
        "validation = df[160:180]\n",
        "test = df[180:200]\n"
      ],
      "metadata": {
        "id": "sT4rCNBDhgXZ"
      },
      "execution_count": null,
      "outputs": []
    },
    {
      "cell_type": "code",
      "source": [
        "train_post1 = train['post1_en']\n",
        "train_post2 = train['post2_en']\n",
        "train_mpp_label = train['MPP_label']\n",
        "train_ml_label = train['ML_label']\n",
        "train_mpp_value1 = train['MPP1'] \n",
        "train_mpp_value2 = train['MPP2']\n",
        "train_ml_value1 = train['ML1']\n",
        "train_ml_value2 = train['ML2']"
      ],
      "metadata": {
        "id": "s-a4T2YNohnK"
      },
      "execution_count": null,
      "outputs": []
    },
    {
      "cell_type": "code",
      "source": [
        "validation_post1 = validation['post1_en']\n",
        "validation_post2 = validation['post2_en']\n",
        "validation_mpp_label = validation['MPP_label']\n",
        "validation_ml_label = validation['ML_label']\n",
        "validation_mpp_value1 = validation['MPP1'] \n",
        "validation_mpp_value2 = validation['MPP2']\n",
        "validation_ml_value1 = validation['ML1']\n",
        "validation_ml_value2 = validation['ML2']"
      ],
      "metadata": {
        "id": "ofTAnTlQqYlP"
      },
      "execution_count": null,
      "outputs": []
    },
    {
      "cell_type": "code",
      "source": [
        "test_post1 = test['post1_en']\n",
        "test_post2 = test['post2_en']\n",
        "test_mpp_label = test['MPP_label']\n",
        "test_ml_label = test['ML_label']\n",
        "test_mpp_value1 = test['MPP1'] \n",
        "test_mpp_value2 = test['MPP2']\n",
        "test_ml_value1 = test['ML1']\n",
        "test_ml_value2 = test['ML2']"
      ],
      "metadata": {
        "id": "2vk1kgqp49Bh"
      },
      "execution_count": null,
      "outputs": []
    },
    {
      "cell_type": "code",
      "source": [
        "len(test)"
      ],
      "metadata": {
        "colab": {
          "base_uri": "https://localhost:8080/"
        },
        "id": "XbaIOWSS_xGk",
        "outputId": "ff31554d-6904-4780-f577-b84fb9acc09e"
      },
      "execution_count": null,
      "outputs": [
        {
          "output_type": "execute_result",
          "data": {
            "text/plain": [
              "16"
            ]
          },
          "metadata": {},
          "execution_count": 76
        }
      ]
    },
    {
      "cell_type": "code",
      "source": [
        "def generate_dataloader(post1,post2,mpp_label,ml_label,max_len,mpp_value1,ml_value1,mpp_value2,ml_value2,batch_size):\n",
        "  data = generate_input_data(post1,post2,mpp_label,ml_label,max_len,mpp_value1,ml_value1,mpp_value2,ml_value2)\n",
        "  data = DataSequence(data)\n",
        "  dataloader = DataLoader(data, num_workers=10, batch_size=batch_size)\n",
        "  \n",
        "  return dataloader\n"
      ],
      "metadata": {
        "id": "zmRG1_cFiXm4"
      },
      "execution_count": null,
      "outputs": []
    },
    {
      "cell_type": "code",
      "source": [
        "max_len = 256\n",
        "batch_size = 1\n",
        "train_dataloader = generate_dataloader(train_post1,train_post2,train_mpp_label,train_ml_label,max_len,train_mpp_value1,train_ml_value1,train_mpp_value2,train_ml_value2,batch_size)\n",
        "# test_dataloader = generate_dataloader(test_post1,test_post2,test_mpp_label,test_ml_label,max_len,batch_size)\n",
        "validation_dataloader = generate_dataloader(validation_post1,validation_post2,validation_mpp_label,validation_ml_label,max_len,validation_mpp_value1,validation_ml_value1,validation_mpp_value2,validation_ml_value2,batch_size)"
      ],
      "metadata": {
        "id": "pJY5tdnXi36s"
      },
      "execution_count": null,
      "outputs": []
    },
    {
      "cell_type": "code",
      "source": [
        "test_dataloader = generate_dataloader(test_post1,test_post2,test_mpp_label,test_ml_label,max_len,test_mpp_value1,test_ml_value1,test_mpp_value2,test_ml_value2,batch_size)"
      ],
      "metadata": {
        "id": "H3Bctq8s5H4n"
      },
      "execution_count": null,
      "outputs": []
    },
    {
      "cell_type": "code",
      "source": [
        "EPOCHS = 100\n",
        "\n",
        "# total_steps = len(train_data_loader) * EPOCHS\n",
        "\n",
        "# scheduler = get_linear_schedule_with_warmup(\n",
        "#   optimizer,\n",
        "#   num_warmup_steps=0,\n",
        "#   num_training_steps=total_steps\n",
        "# )\n",
        "device = torch.device(\"cuda:0\" if torch.cuda.is_available() else \"cpu\")\n",
        "loss_fn = nn.MSELoss().to(device)\n",
        "\n",
        "\n",
        "label_num = 2\n",
        "model= BertNerClassifier(label_num).to(device)\n",
        "\n",
        "optimizer = AdamW(model.parameters(), lr=2e-5, correct_bias=False)"
      ],
      "metadata": {
        "id": "3m3OxjI4qZYf",
        "colab": {
          "base_uri": "https://localhost:8080/",
          "height": 121,
          "referenced_widgets": [
            "892b0a87e3e949b985723efa26757b28",
            "b97450b62d844f05a81f26c33f854b76",
            "6b68a4052442422f9aae0b9dc1599609",
            "cc2c301f89724fbca5690f4d66e16fde",
            "eb327b70a7ac4020a7711c21400469e7",
            "24d3e2276fad463997eda3463ba1c96e",
            "be58f1cd0ad146afbf12704808642959",
            "e71bdcf1514643c496809fc0c92055ed",
            "9a387a940c2e47b98669f282b2c7c279",
            "526a4dd00d9e41a9a27b7b2fdf522a3e",
            "d2678f65bbc040939fb85f447c416743"
          ]
        },
        "outputId": "5274f88b-e238-4ce8-9dae-060d3be57dc7"
      },
      "execution_count": null,
      "outputs": [
        {
          "output_type": "display_data",
          "data": {
            "text/plain": [
              "Downloading pytorch_model.bin:   0%|          | 0.00/419M [00:00<?, ?B/s]"
            ],
            "application/vnd.jupyter.widget-view+json": {
              "version_major": 2,
              "version_minor": 0,
              "model_id": "892b0a87e3e949b985723efa26757b28"
            }
          },
          "metadata": {}
        },
        {
          "output_type": "stream",
          "name": "stderr",
          "text": [
            "Some weights of the model checkpoint at yiyanghkust/finbert-tone were not used when initializing BertModel: ['classifier.bias', 'classifier.weight']\n",
            "- This IS expected if you are initializing BertModel from the checkpoint of a model trained on another task or with another architecture (e.g. initializing a BertForSequenceClassification model from a BertForPreTraining model).\n",
            "- This IS NOT expected if you are initializing BertModel from the checkpoint of a model that you expect to be exactly identical (initializing a BertForSequenceClassification model from a BertForSequenceClassification model).\n"
          ]
        }
      ]
    },
    {
      "cell_type": "code",
      "execution_count": null,
      "metadata": {
        "id": "xgRZK6aQoZ_9"
      },
      "outputs": [],
      "source": [
        "\n",
        "def train_and_eval(model, \n",
        "  train_loader, \n",
        "  validation_loader,\n",
        "  loss_fn, \n",
        "  optimizer,  \n",
        "  device,\n",
        "  epoch,\n",
        "  label_num \n",
        "  ):\n",
        "  model.train()\n",
        "  max_len = 256\n",
        "  mpp_accuracy_state = 0\n",
        "  ml_accuracy_state = 0\n",
        "  for epo in range(epoch):\n",
        "    \n",
        "    train_loss = []\n",
        "    \n",
        "    global train_mpp_predictions \n",
        "    train_mpp_predictions = []\n",
        "    global train_ml_predictions\n",
        "    train_ml_predictions = []\n",
        "    \n",
        "\n",
        "    validation_loss = []\n",
        "    \n",
        "    validation_mpp_predictions = []\n",
        "    validation_ml_predictions = []\n",
        "\n",
        "\n",
        "    global real_train_mpp \n",
        "    real_train_mpp = []\n",
        "    global real_train_ml\n",
        "    real_train_ml = []\n",
        "    real_validation_mpp = []\n",
        "    real_validation_ml = []\n",
        "    \n",
        "   \n",
        "    \n",
        "    for data in train_loader:\n",
        "      \n",
        "      input_ids = data[0].to(device)\n",
        "      attention_mask = data[1].to(device)\n",
        "      token_type_ids = data[2].to(device)\n",
        "      \n",
        "      mpp_targets = data[3].to(device)\n",
        "      ml_targets = data[4].to(device)\n",
        "      first_targets = data[5].to(device)\n",
        "      second_targets = data[6].to(device)\n",
        "      first_sen_len = data[7].to(device)\n",
        "      second_sen_len = data[8].to(device)\n",
        "      \n",
        "      \n",
        "\n",
        "      outputs = model(\n",
        "        input_ids=input_ids,\n",
        "        attention_mask=attention_mask,\n",
        "        token_type_ids = token_type_ids,\n",
        "        max_len = max_len,\n",
        "        length1 = first_sen_len,\n",
        "        length2 = second_sen_len\n",
        "   \n",
        "      )\n",
        "      loss1 = loss_fn(outputs[0],torch.tensor([mpp_targets,ml_targets],dtype = torch.float).to(device))\n",
        "      \n",
        "      loss2 = loss_fn(outputs[1],first_targets.view(-1))\n",
        "      \n",
        "      loss3 = loss_fn(outputs[2],second_targets.view(-1))\n",
        "      \n",
        "      loss = loss1+loss2+loss3\n",
        " \n",
        "      \n",
        "      \n",
        "\n",
        "      train_loss.append(loss.item())\n",
        "      \n",
        "      \n",
        "      if outputs[0][0]>0.5:\n",
        "        train_mpp_predictions.append(1)\n",
        "      else:\n",
        "        train_mpp_predictions.append(0)\n",
        "      if outputs[0][1]>0.5:\n",
        "        train_ml_predictions.append(1)\n",
        "      else:\n",
        "        train_ml_predictions.append(0)\n",
        "\n",
        "      real_train_mpp.append(mpp_targets.cpu().item())\n",
        "      real_train_ml.append(ml_targets.cpu().item())\n",
        "      \n",
        "\n",
        "         \n",
        "      \n",
        "    \n",
        "      optimizer.zero_grad()\n",
        "      loss.backward()\n",
        "      optimizer.step()\n",
        "\n",
        "    model.eval()\n",
        "\n",
        "    with torch.no_grad():\n",
        "      for data in validation_loader:\n",
        "    \n",
        "        input_ids = data[0].to(device)\n",
        "        attention_mask = data[1].to(device)\n",
        "        token_type_ids = data[2].to(device)\n",
        "      \n",
        "        mpp_targets = data[3].to(device)\n",
        "        ml_targets = data[4].to(device)\n",
        "        first_targets = data[5].to(device)\n",
        "        second_targets = data[6].to(device)\n",
        "        first_sen_len = data[7].to(device)\n",
        "        second_sen_len = data[8].to(device)\n",
        "      \n",
        "\n",
        "        outputs = model(\n",
        "          input_ids=input_ids,\n",
        "          attention_mask=attention_mask,\n",
        "          token_type_ids = token_type_ids,\n",
        "          max_len = max_len,\n",
        "          length1 = first_sen_len,\n",
        "          length2 = second_sen_len\n",
        "   \n",
        "        )\n",
        "        loss1 = loss_fn(outputs[0],torch.tensor([mpp_targets,ml_targets],dtype = torch.float).to(device))\n",
        "        \n",
        "        loss2 = loss_fn(outputs[1],first_targets.view(-1))\n",
        "        \n",
        "        loss3 = loss_fn(outputs[2],second_targets.view(-1))\n",
        "        \n",
        "        loss = loss1+loss2+loss3\n",
        " \n",
        "      \n",
        "      \n",
        "\n",
        "        validation_loss.append(loss.item())\n",
        "      \n",
        "        if outputs[0][0]>0.5:\n",
        "          validation_mpp_predictions.append(1)\n",
        "        else:\n",
        "          validation_mpp_predictions.append(0)\n",
        "        if outputs[0][1]>0.5:\n",
        "          validation_ml_predictions.append(1)\n",
        "        else:\n",
        "          validation_ml_predictions.append(0)\n",
        "        # validation_ml_predictions += torch.sum(preds == ml_targets)\n",
        "\n",
        "        real_validation_mpp.append(mpp_targets.cpu().item())\n",
        "        real_validation_ml.append(ml_targets.cpu().item())\n",
        "    \n",
        "    train_mpp_accuracy = accuracy_score(real_train_mpp, train_mpp_predictions)\n",
        "    train_ml_accuracy = accuracy_score(real_train_ml, train_ml_predictions)\n",
        "    validation_mpp_accuracy = accuracy_score(real_validation_mpp, validation_mpp_predictions)\n",
        "    validation_ml_accuracy = accuracy_score(real_validation_ml, validation_ml_predictions)\n",
        "    \n",
        "    final_train_loss = np.mean(train_loss)\n",
        " \n",
        "    final_validation_loss = np.mean(validation_loss)\n",
        "   \n",
        "\n",
        "    if(validation_mpp_accuracy > mpp_accuracy_state):\n",
        "      mpp_accuracy_state = validation_mpp_accuracy\n",
        "      torch.save(model.state_dict(), 'fincom_mpp_bert_state.bin')\n",
        "    if(validation_ml_accuracy > ml_accuracy_state):\n",
        "      ml_accuracy_state = validation_ml_accuracy\n",
        "      torch.save(model.state_dict(), 'fincom_ml_bert_state.bin')\n",
        "\n",
        "    print(\n",
        "'Epoch [{}] Train Totol Loss: {:.4f}, Train MPP Accuracy: {:.4f}, Train ML Accuracy: {:.4f}, Valid Total Loss: {:.4f}, Valid MPP Accuracy: {:.4f}, Valid ML Accuracy: {:.4f}'\n",
        "    .format(epo+1,final_train_loss, train_mpp_accuracy, train_ml_accuracy,final_validation_loss,validation_mpp_accuracy,validation_ml_accuracy))"
      ]
    },
    {
      "cell_type": "code",
      "source": [
        "train_and_eval(model, \n",
        "  train_dataloader, \n",
        "  validation_dataloader,\n",
        "  loss_fn, \n",
        "  optimizer,  \n",
        "  device,\n",
        "  EPOCHS,\n",
        "  label_num\n",
        "  )"
      ],
      "metadata": {
        "colab": {
          "base_uri": "https://localhost:8080/"
        },
        "id": "97anhQ4BEQ7-",
        "outputId": "e83daa4b-a4a4-4694-ec27-9908318a6b20"
      },
      "execution_count": null,
      "outputs": [
        {
          "output_type": "stream",
          "name": "stdout",
          "text": [
            "Epoch [1] Train Totol Loss: 0.6690, Train MPP Accuracy: 0.5125, Train ML Accuracy: 0.5062, Valid Total Loss: 0.3243, Valid MPP Accuracy: 0.4500, Valid ML Accuracy: 0.4000\n",
            "Epoch [2] Train Totol Loss: 0.2544, Train MPP Accuracy: 0.8000, Train ML Accuracy: 0.7625, Valid Total Loss: 0.2903, Valid MPP Accuracy: 0.5000, Valid ML Accuracy: 0.4500\n",
            "Epoch [3] Train Totol Loss: 0.1560, Train MPP Accuracy: 0.9625, Train ML Accuracy: 0.8750, Valid Total Loss: 0.3864, Valid MPP Accuracy: 0.6000, Valid ML Accuracy: 0.5000\n",
            "Epoch [4] Train Totol Loss: 0.2066, Train MPP Accuracy: 0.9375, Train ML Accuracy: 0.8938, Valid Total Loss: 0.4693, Valid MPP Accuracy: 0.5000, Valid ML Accuracy: 0.5500\n",
            "Epoch [5] Train Totol Loss: 0.1706, Train MPP Accuracy: 0.9250, Train ML Accuracy: 0.9437, Valid Total Loss: 0.5226, Valid MPP Accuracy: 0.3500, Valid ML Accuracy: 0.5500\n",
            "Epoch [6] Train Totol Loss: 0.1131, Train MPP Accuracy: 0.9250, Train ML Accuracy: 0.9750, Valid Total Loss: 0.2961, Valid MPP Accuracy: 0.4500, Valid ML Accuracy: 0.4500\n",
            "Epoch [7] Train Totol Loss: 0.0656, Train MPP Accuracy: 0.9875, Train ML Accuracy: 1.0000, Valid Total Loss: 0.2782, Valid MPP Accuracy: 0.6500, Valid ML Accuracy: 0.5500\n",
            "Epoch [8] Train Totol Loss: 0.0317, Train MPP Accuracy: 1.0000, Train ML Accuracy: 1.0000, Valid Total Loss: 0.2872, Valid MPP Accuracy: 0.4500, Valid ML Accuracy: 0.5000\n",
            "Epoch [9] Train Totol Loss: 0.0199, Train MPP Accuracy: 1.0000, Train ML Accuracy: 1.0000, Valid Total Loss: 0.3457, Valid MPP Accuracy: 0.4500, Valid ML Accuracy: 0.4500\n",
            "Epoch [10] Train Totol Loss: 0.0175, Train MPP Accuracy: 1.0000, Train ML Accuracy: 1.0000, Valid Total Loss: 0.2969, Valid MPP Accuracy: 0.5000, Valid ML Accuracy: 0.5000\n",
            "Epoch [11] Train Totol Loss: 0.0180, Train MPP Accuracy: 1.0000, Train ML Accuracy: 0.9938, Valid Total Loss: 0.2810, Valid MPP Accuracy: 0.5000, Valid ML Accuracy: 0.5500\n",
            "Epoch [12] Train Totol Loss: 0.0197, Train MPP Accuracy: 1.0000, Train ML Accuracy: 1.0000, Valid Total Loss: 0.2855, Valid MPP Accuracy: 0.5500, Valid ML Accuracy: 0.5000\n",
            "Epoch [13] Train Totol Loss: 0.0312, Train MPP Accuracy: 1.0000, Train ML Accuracy: 1.0000, Valid Total Loss: 0.3310, Valid MPP Accuracy: 0.4500, Valid ML Accuracy: 0.4500\n",
            "Epoch [14] Train Totol Loss: 0.0553, Train MPP Accuracy: 1.0000, Train ML Accuracy: 1.0000, Valid Total Loss: 0.3048, Valid MPP Accuracy: 0.5500, Valid ML Accuracy: 0.5500\n",
            "Epoch [15] Train Totol Loss: 0.0855, Train MPP Accuracy: 1.0000, Train ML Accuracy: 0.9375, Valid Total Loss: 0.6279, Valid MPP Accuracy: 0.4500, Valid ML Accuracy: 0.5000\n",
            "Epoch [16] Train Totol Loss: 0.0729, Train MPP Accuracy: 1.0000, Train ML Accuracy: 0.9625, Valid Total Loss: 0.3525, Valid MPP Accuracy: 0.4500, Valid ML Accuracy: 0.5000\n",
            "Epoch [17] Train Totol Loss: 0.0791, Train MPP Accuracy: 1.0000, Train ML Accuracy: 0.9125, Valid Total Loss: 0.2860, Valid MPP Accuracy: 0.5000, Valid ML Accuracy: 0.5500\n",
            "Epoch [18] Train Totol Loss: 0.0479, Train MPP Accuracy: 1.0000, Train ML Accuracy: 0.9938, Valid Total Loss: 0.2846, Valid MPP Accuracy: 0.5000, Valid ML Accuracy: 0.5000\n",
            "Epoch [19] Train Totol Loss: 0.0326, Train MPP Accuracy: 1.0000, Train ML Accuracy: 1.0000, Valid Total Loss: 0.4396, Valid MPP Accuracy: 0.4000, Valid ML Accuracy: 0.4500\n",
            "Epoch [20] Train Totol Loss: 0.0403, Train MPP Accuracy: 0.9938, Train ML Accuracy: 1.0000, Valid Total Loss: 0.2997, Valid MPP Accuracy: 0.5500, Valid ML Accuracy: 0.4000\n",
            "Epoch [21] Train Totol Loss: 0.0485, Train MPP Accuracy: 0.9875, Train ML Accuracy: 1.0000, Valid Total Loss: 0.2841, Valid MPP Accuracy: 0.5500, Valid ML Accuracy: 0.5500\n",
            "Epoch [22] Train Totol Loss: 0.0460, Train MPP Accuracy: 1.0000, Train ML Accuracy: 1.0000, Valid Total Loss: 0.3992, Valid MPP Accuracy: 0.4000, Valid ML Accuracy: 0.5500\n",
            "Epoch [23] Train Totol Loss: 0.0412, Train MPP Accuracy: 0.9938, Train ML Accuracy: 1.0000, Valid Total Loss: 0.3097, Valid MPP Accuracy: 0.5500, Valid ML Accuracy: 0.5000\n",
            "Epoch [24] Train Totol Loss: 0.0340, Train MPP Accuracy: 1.0000, Train ML Accuracy: 1.0000, Valid Total Loss: 0.3033, Valid MPP Accuracy: 0.4500, Valid ML Accuracy: 0.5000\n",
            "Epoch [25] Train Totol Loss: 0.0486, Train MPP Accuracy: 0.9938, Train ML Accuracy: 1.0000, Valid Total Loss: 0.3871, Valid MPP Accuracy: 0.4500, Valid ML Accuracy: 0.4500\n",
            "Epoch [26] Train Totol Loss: 0.0466, Train MPP Accuracy: 1.0000, Train ML Accuracy: 1.0000, Valid Total Loss: 0.3779, Valid MPP Accuracy: 0.5000, Valid ML Accuracy: 0.4500\n",
            "Epoch [27] Train Totol Loss: 0.0682, Train MPP Accuracy: 1.0000, Train ML Accuracy: 0.9812, Valid Total Loss: 0.4257, Valid MPP Accuracy: 0.4500, Valid ML Accuracy: 0.6500\n",
            "Epoch [28] Train Totol Loss: 0.0677, Train MPP Accuracy: 1.0000, Train ML Accuracy: 0.9437, Valid Total Loss: 0.3763, Valid MPP Accuracy: 0.5000, Valid ML Accuracy: 0.5000\n",
            "Epoch [29] Train Totol Loss: 0.0518, Train MPP Accuracy: 0.9938, Train ML Accuracy: 0.9938, Valid Total Loss: 0.3055, Valid MPP Accuracy: 0.5000, Valid ML Accuracy: 0.5000\n",
            "Epoch [30] Train Totol Loss: 0.0341, Train MPP Accuracy: 1.0000, Train ML Accuracy: 0.9938, Valid Total Loss: 0.3455, Valid MPP Accuracy: 0.5000, Valid ML Accuracy: 0.6500\n",
            "Epoch [31] Train Totol Loss: 0.0263, Train MPP Accuracy: 1.0000, Train ML Accuracy: 0.9938, Valid Total Loss: 0.3545, Valid MPP Accuracy: 0.4000, Valid ML Accuracy: 0.6500\n",
            "Epoch [32] Train Totol Loss: 0.0314, Train MPP Accuracy: 1.0000, Train ML Accuracy: 1.0000, Valid Total Loss: 0.2875, Valid MPP Accuracy: 0.5000, Valid ML Accuracy: 0.5500\n",
            "Epoch [33] Train Totol Loss: 0.0448, Train MPP Accuracy: 0.9938, Train ML Accuracy: 0.9938, Valid Total Loss: 0.3026, Valid MPP Accuracy: 0.6000, Valid ML Accuracy: 0.5000\n",
            "Epoch [34] Train Totol Loss: 0.0245, Train MPP Accuracy: 1.0000, Train ML Accuracy: 0.9938, Valid Total Loss: 0.3432, Valid MPP Accuracy: 0.4500, Valid ML Accuracy: 0.6000\n",
            "Epoch [35] Train Totol Loss: 0.0233, Train MPP Accuracy: 1.0000, Train ML Accuracy: 0.9938, Valid Total Loss: 0.3053, Valid MPP Accuracy: 0.5000, Valid ML Accuracy: 0.6500\n",
            "Epoch [36] Train Totol Loss: 0.0290, Train MPP Accuracy: 1.0000, Train ML Accuracy: 1.0000, Valid Total Loss: 0.2971, Valid MPP Accuracy: 0.5000, Valid ML Accuracy: 0.6500\n",
            "Epoch [37] Train Totol Loss: 0.0278, Train MPP Accuracy: 1.0000, Train ML Accuracy: 0.9938, Valid Total Loss: 0.3802, Valid MPP Accuracy: 0.5000, Valid ML Accuracy: 0.5000\n",
            "Epoch [38] Train Totol Loss: 0.0257, Train MPP Accuracy: 1.0000, Train ML Accuracy: 0.9938, Valid Total Loss: 0.2913, Valid MPP Accuracy: 0.6000, Valid ML Accuracy: 0.6500\n",
            "Epoch [39] Train Totol Loss: 0.0443, Train MPP Accuracy: 1.0000, Train ML Accuracy: 0.9938, Valid Total Loss: 0.4803, Valid MPP Accuracy: 0.5000, Valid ML Accuracy: 0.5000\n",
            "Epoch [40] Train Totol Loss: 0.0293, Train MPP Accuracy: 1.0000, Train ML Accuracy: 0.9938, Valid Total Loss: 0.3972, Valid MPP Accuracy: 0.4000, Valid ML Accuracy: 0.5000\n",
            "Epoch [41] Train Totol Loss: 0.0258, Train MPP Accuracy: 1.0000, Train ML Accuracy: 0.9875, Valid Total Loss: 0.3093, Valid MPP Accuracy: 0.4500, Valid ML Accuracy: 0.5000\n",
            "Epoch [42] Train Totol Loss: 0.0294, Train MPP Accuracy: 1.0000, Train ML Accuracy: 0.9875, Valid Total Loss: 0.4043, Valid MPP Accuracy: 0.4500, Valid ML Accuracy: 0.5000\n",
            "Epoch [43] Train Totol Loss: 0.0297, Train MPP Accuracy: 1.0000, Train ML Accuracy: 0.9938, Valid Total Loss: 0.3264, Valid MPP Accuracy: 0.5000, Valid ML Accuracy: 0.6000\n",
            "Epoch [44] Train Totol Loss: 0.0232, Train MPP Accuracy: 0.9938, Train ML Accuracy: 0.9938, Valid Total Loss: 0.3769, Valid MPP Accuracy: 0.5500, Valid ML Accuracy: 0.5500\n",
            "Epoch [45] Train Totol Loss: 0.0102, Train MPP Accuracy: 1.0000, Train ML Accuracy: 0.9938, Valid Total Loss: 0.3525, Valid MPP Accuracy: 0.5000, Valid ML Accuracy: 0.4500\n",
            "Epoch [46] Train Totol Loss: 0.0083, Train MPP Accuracy: 1.0000, Train ML Accuracy: 0.9938, Valid Total Loss: 0.3524, Valid MPP Accuracy: 0.5000, Valid ML Accuracy: 0.5500\n",
            "Epoch [47] Train Totol Loss: 0.0116, Train MPP Accuracy: 1.0000, Train ML Accuracy: 0.9938, Valid Total Loss: 0.4140, Valid MPP Accuracy: 0.4500, Valid ML Accuracy: 0.4500\n",
            "Epoch [48] Train Totol Loss: 0.0133, Train MPP Accuracy: 1.0000, Train ML Accuracy: 0.9938, Valid Total Loss: 0.3801, Valid MPP Accuracy: 0.4500, Valid ML Accuracy: 0.6000\n",
            "Epoch [49] Train Totol Loss: 0.0105, Train MPP Accuracy: 1.0000, Train ML Accuracy: 1.0000, Valid Total Loss: 0.4220, Valid MPP Accuracy: 0.4500, Valid ML Accuracy: 0.4000\n",
            "Epoch [50] Train Totol Loss: 0.0141, Train MPP Accuracy: 1.0000, Train ML Accuracy: 0.9938, Valid Total Loss: 0.3770, Valid MPP Accuracy: 0.4500, Valid ML Accuracy: 0.4500\n",
            "Epoch [51] Train Totol Loss: 0.0077, Train MPP Accuracy: 1.0000, Train ML Accuracy: 0.9938, Valid Total Loss: 0.3752, Valid MPP Accuracy: 0.4500, Valid ML Accuracy: 0.6000\n",
            "Epoch [52] Train Totol Loss: 0.0098, Train MPP Accuracy: 1.0000, Train ML Accuracy: 0.9938, Valid Total Loss: 0.4061, Valid MPP Accuracy: 0.4500, Valid ML Accuracy: 0.4000\n",
            "Epoch [53] Train Totol Loss: 0.0067, Train MPP Accuracy: 1.0000, Train ML Accuracy: 0.9938, Valid Total Loss: 0.3784, Valid MPP Accuracy: 0.4500, Valid ML Accuracy: 0.5500\n",
            "Epoch [54] Train Totol Loss: 0.0046, Train MPP Accuracy: 1.0000, Train ML Accuracy: 0.9938, Valid Total Loss: 0.3910, Valid MPP Accuracy: 0.5000, Valid ML Accuracy: 0.4500\n",
            "Epoch [55] Train Totol Loss: 0.0044, Train MPP Accuracy: 1.0000, Train ML Accuracy: 0.9938, Valid Total Loss: 0.3899, Valid MPP Accuracy: 0.5000, Valid ML Accuracy: 0.4500\n",
            "Epoch [56] Train Totol Loss: 0.0049, Train MPP Accuracy: 1.0000, Train ML Accuracy: 0.9938, Valid Total Loss: 0.3892, Valid MPP Accuracy: 0.5000, Valid ML Accuracy: 0.4500\n",
            "Epoch [57] Train Totol Loss: 0.0064, Train MPP Accuracy: 1.0000, Train ML Accuracy: 0.9938, Valid Total Loss: 0.4033, Valid MPP Accuracy: 0.4000, Valid ML Accuracy: 0.4500\n",
            "Epoch [58] Train Totol Loss: 0.0091, Train MPP Accuracy: 1.0000, Train ML Accuracy: 0.9938, Valid Total Loss: 0.4090, Valid MPP Accuracy: 0.4000, Valid ML Accuracy: 0.5000\n",
            "Epoch [59] Train Totol Loss: 0.0163, Train MPP Accuracy: 1.0000, Train ML Accuracy: 0.9938, Valid Total Loss: 0.3234, Valid MPP Accuracy: 0.5000, Valid ML Accuracy: 0.5000\n",
            "Epoch [60] Train Totol Loss: 0.0219, Train MPP Accuracy: 1.0000, Train ML Accuracy: 0.9875, Valid Total Loss: 0.4187, Valid MPP Accuracy: 0.5000, Valid ML Accuracy: 0.5000\n",
            "Epoch [61] Train Totol Loss: 0.0311, Train MPP Accuracy: 0.9938, Train ML Accuracy: 0.9938, Valid Total Loss: 0.5285, Valid MPP Accuracy: 0.4500, Valid ML Accuracy: 0.4500\n",
            "Epoch [62] Train Totol Loss: 0.0296, Train MPP Accuracy: 1.0000, Train ML Accuracy: 0.9812, Valid Total Loss: 0.4738, Valid MPP Accuracy: 0.5000, Valid ML Accuracy: 0.4500\n",
            "Epoch [63] Train Totol Loss: 0.0128, Train MPP Accuracy: 1.0000, Train ML Accuracy: 0.9938, Valid Total Loss: 0.4353, Valid MPP Accuracy: 0.4500, Valid ML Accuracy: 0.5500\n",
            "Epoch [64] Train Totol Loss: 0.0072, Train MPP Accuracy: 1.0000, Train ML Accuracy: 0.9938, Valid Total Loss: 0.4168, Valid MPP Accuracy: 0.4500, Valid ML Accuracy: 0.4500\n",
            "Epoch [65] Train Totol Loss: 0.0055, Train MPP Accuracy: 1.0000, Train ML Accuracy: 0.9938, Valid Total Loss: 0.4247, Valid MPP Accuracy: 0.4500, Valid ML Accuracy: 0.4500\n",
            "Epoch [66] Train Totol Loss: 0.0056, Train MPP Accuracy: 1.0000, Train ML Accuracy: 0.9938, Valid Total Loss: 0.4095, Valid MPP Accuracy: 0.4500, Valid ML Accuracy: 0.4500\n",
            "Epoch [67] Train Totol Loss: 0.0067, Train MPP Accuracy: 1.0000, Train ML Accuracy: 0.9938, Valid Total Loss: 0.3819, Valid MPP Accuracy: 0.4500, Valid ML Accuracy: 0.4500\n",
            "Epoch [68] Train Totol Loss: 0.0101, Train MPP Accuracy: 1.0000, Train ML Accuracy: 0.9938, Valid Total Loss: 0.3469, Valid MPP Accuracy: 0.5500, Valid ML Accuracy: 0.4000\n",
            "Epoch [69] Train Totol Loss: 0.0203, Train MPP Accuracy: 0.9875, Train ML Accuracy: 0.9938, Valid Total Loss: 0.3611, Valid MPP Accuracy: 0.5000, Valid ML Accuracy: 0.5500\n",
            "Epoch [70] Train Totol Loss: 0.0240, Train MPP Accuracy: 1.0000, Train ML Accuracy: 0.9875, Valid Total Loss: 0.4007, Valid MPP Accuracy: 0.4500, Valid ML Accuracy: 0.5000\n",
            "Epoch [71] Train Totol Loss: 0.0321, Train MPP Accuracy: 0.9875, Train ML Accuracy: 0.9875, Valid Total Loss: 0.4782, Valid MPP Accuracy: 0.4500, Valid ML Accuracy: 0.4500\n",
            "Epoch [72] Train Totol Loss: 0.0151, Train MPP Accuracy: 0.9938, Train ML Accuracy: 0.9938, Valid Total Loss: 0.4072, Valid MPP Accuracy: 0.5500, Valid ML Accuracy: 0.4000\n",
            "Epoch [73] Train Totol Loss: 0.0093, Train MPP Accuracy: 1.0000, Train ML Accuracy: 0.9938, Valid Total Loss: 0.3765, Valid MPP Accuracy: 0.5500, Valid ML Accuracy: 0.4500\n",
            "Epoch [74] Train Totol Loss: 0.0096, Train MPP Accuracy: 1.0000, Train ML Accuracy: 0.9875, Valid Total Loss: 0.3803, Valid MPP Accuracy: 0.5000, Valid ML Accuracy: 0.4500\n",
            "Epoch [75] Train Totol Loss: 0.0054, Train MPP Accuracy: 1.0000, Train ML Accuracy: 0.9938, Valid Total Loss: 0.3917, Valid MPP Accuracy: 0.5000, Valid ML Accuracy: 0.4500\n",
            "Epoch [76] Train Totol Loss: 0.0051, Train MPP Accuracy: 1.0000, Train ML Accuracy: 0.9938, Valid Total Loss: 0.3926, Valid MPP Accuracy: 0.5000, Valid ML Accuracy: 0.4500\n",
            "Epoch [77] Train Totol Loss: 0.0057, Train MPP Accuracy: 1.0000, Train ML Accuracy: 0.9938, Valid Total Loss: 0.3857, Valid MPP Accuracy: 0.5500, Valid ML Accuracy: 0.4500\n",
            "Epoch [78] Train Totol Loss: 0.0077, Train MPP Accuracy: 1.0000, Train ML Accuracy: 0.9938, Valid Total Loss: 0.3664, Valid MPP Accuracy: 0.5500, Valid ML Accuracy: 0.4500\n",
            "Epoch [79] Train Totol Loss: 0.0150, Train MPP Accuracy: 1.0000, Train ML Accuracy: 0.9938, Valid Total Loss: 0.3366, Valid MPP Accuracy: 0.5000, Valid ML Accuracy: 0.5000\n",
            "Epoch [80] Train Totol Loss: 0.0228, Train MPP Accuracy: 1.0000, Train ML Accuracy: 0.9938, Valid Total Loss: 0.3754, Valid MPP Accuracy: 0.4000, Valid ML Accuracy: 0.5000\n",
            "Epoch [81] Train Totol Loss: 0.0227, Train MPP Accuracy: 1.0000, Train ML Accuracy: 0.9812, Valid Total Loss: 0.3678, Valid MPP Accuracy: 0.5000, Valid ML Accuracy: 0.5500\n",
            "Epoch [82] Train Totol Loss: 0.0186, Train MPP Accuracy: 1.0000, Train ML Accuracy: 0.9938, Valid Total Loss: 0.3723, Valid MPP Accuracy: 0.5000, Valid ML Accuracy: 0.4500\n",
            "Epoch [83] Train Totol Loss: 0.0055, Train MPP Accuracy: 1.0000, Train ML Accuracy: 0.9938, Valid Total Loss: 0.4586, Valid MPP Accuracy: 0.4000, Valid ML Accuracy: 0.4500\n",
            "Epoch [84] Train Totol Loss: 0.0050, Train MPP Accuracy: 1.0000, Train ML Accuracy: 0.9938, Valid Total Loss: 0.4491, Valid MPP Accuracy: 0.4000, Valid ML Accuracy: 0.4500\n",
            "Epoch [85] Train Totol Loss: 0.0041, Train MPP Accuracy: 1.0000, Train ML Accuracy: 0.9938, Valid Total Loss: 0.4493, Valid MPP Accuracy: 0.4000, Valid ML Accuracy: 0.4500\n",
            "Epoch [86] Train Totol Loss: 0.0037, Train MPP Accuracy: 1.0000, Train ML Accuracy: 0.9938, Valid Total Loss: 0.4428, Valid MPP Accuracy: 0.4000, Valid ML Accuracy: 0.4500\n",
            "Epoch [87] Train Totol Loss: 0.0037, Train MPP Accuracy: 1.0000, Train ML Accuracy: 0.9938, Valid Total Loss: 0.4365, Valid MPP Accuracy: 0.4000, Valid ML Accuracy: 0.4500\n",
            "Epoch [88] Train Totol Loss: 0.0043, Train MPP Accuracy: 1.0000, Train ML Accuracy: 0.9938, Valid Total Loss: 0.4461, Valid MPP Accuracy: 0.3500, Valid ML Accuracy: 0.4500\n",
            "Epoch [89] Train Totol Loss: 0.0067, Train MPP Accuracy: 1.0000, Train ML Accuracy: 0.9938, Valid Total Loss: 0.4357, Valid MPP Accuracy: 0.4000, Valid ML Accuracy: 0.5000\n",
            "Epoch [90] Train Totol Loss: 0.0053, Train MPP Accuracy: 1.0000, Train ML Accuracy: 0.9938, Valid Total Loss: 0.4294, Valid MPP Accuracy: 0.3500, Valid ML Accuracy: 0.5000\n",
            "Epoch [91] Train Totol Loss: 0.0101, Train MPP Accuracy: 1.0000, Train ML Accuracy: 0.9938, Valid Total Loss: 0.3824, Valid MPP Accuracy: 0.4500, Valid ML Accuracy: 0.5000\n",
            "Epoch [92] Train Totol Loss: 0.0065, Train MPP Accuracy: 1.0000, Train ML Accuracy: 0.9938, Valid Total Loss: 0.4523, Valid MPP Accuracy: 0.4000, Valid ML Accuracy: 0.4500\n",
            "Epoch [93] Train Totol Loss: 0.0066, Train MPP Accuracy: 1.0000, Train ML Accuracy: 0.9938, Valid Total Loss: 0.4748, Valid MPP Accuracy: 0.4500, Valid ML Accuracy: 0.5000\n",
            "Epoch [94] Train Totol Loss: 0.0109, Train MPP Accuracy: 1.0000, Train ML Accuracy: 0.9938, Valid Total Loss: 0.3251, Valid MPP Accuracy: 0.7000, Valid ML Accuracy: 0.5000\n",
            "Epoch [95] Train Totol Loss: 0.0243, Train MPP Accuracy: 0.9812, Train ML Accuracy: 0.9750, Valid Total Loss: 0.4594, Valid MPP Accuracy: 0.3500, Valid ML Accuracy: 0.4000\n",
            "Epoch [96] Train Totol Loss: 0.0059, Train MPP Accuracy: 1.0000, Train ML Accuracy: 0.9938, Valid Total Loss: 0.5648, Valid MPP Accuracy: 0.3500, Valid ML Accuracy: 0.3500\n",
            "Epoch [97] Train Totol Loss: 0.0036, Train MPP Accuracy: 1.0000, Train ML Accuracy: 0.9938, Valid Total Loss: 0.5534, Valid MPP Accuracy: 0.3500, Valid ML Accuracy: 0.3000\n",
            "Epoch [98] Train Totol Loss: 0.0031, Train MPP Accuracy: 1.0000, Train ML Accuracy: 0.9938, Valid Total Loss: 0.5542, Valid MPP Accuracy: 0.3500, Valid ML Accuracy: 0.3000\n",
            "Epoch [99] Train Totol Loss: 0.0032, Train MPP Accuracy: 1.0000, Train ML Accuracy: 0.9938, Valid Total Loss: 0.5551, Valid MPP Accuracy: 0.3500, Valid ML Accuracy: 0.3500\n",
            "Epoch [100] Train Totol Loss: 0.0033, Train MPP Accuracy: 1.0000, Train ML Accuracy: 0.9938, Valid Total Loss: 0.5613, Valid MPP Accuracy: 0.3500, Valid ML Accuracy: 0.4000\n"
          ]
        }
      ]
    },
    {
      "cell_type": "code",
      "source": [
        "def test_prediction(model, \n",
        "  test_dataloader, \n",
        "  loss_fn, \n",
        "  optimizer,\n",
        "  device\n",
        "  ):\n",
        "  \n",
        "  test_mpp_predictions = []\n",
        "  test_ml_predictions = []\n",
        "  real_test_mpp = []\n",
        "  real_test_ml= []\n",
        "\n",
        "  \n",
        "\n",
        "  model.eval()\n",
        "  with torch.no_grad():\n",
        "    for data in test_dataloader:\n",
        "    \n",
        "        input_ids = data[0].to(device)\n",
        "        attention_mask = data[1].to(device)\n",
        "        token_type_ids = data[2].to(device)\n",
        "      \n",
        "        mpp_targets = data[3].to(device)\n",
        "        ml_targets = data[4].to(device)\n",
        "        first_targets = data[5].to(device)\n",
        "        second_targets = data[6].to(device)\n",
        "        first_sen_len = data[7].to(device)\n",
        "        second_sen_len = data[8].to(device)\n",
        "      \n",
        "\n",
        "        outputs = model(\n",
        "          input_ids=input_ids,\n",
        "          attention_mask=attention_mask,\n",
        "          token_type_ids = token_type_ids,\n",
        "          max_len = max_len,\n",
        "          length1 = first_sen_len,\n",
        "          length2 = second_sen_len\n",
        "   \n",
        "        )\n",
        "        # loss1 = loss_fn(outputs[0],torch.tensor([mpp_targets,ml_targets],dtype = torch.float).to(device))\n",
        "        \n",
        "        # loss2 = loss_fn(outputs[1],first_targets.view(-1))\n",
        "        \n",
        "        # loss3 = loss_fn(outputs[2],second_targets.view(-1))\n",
        "        \n",
        "        # loss = loss1+loss2+loss3\n",
        " \n",
        "      \n",
        "      \n",
        "\n",
        "        \n",
        "      \n",
        "        if outputs[0][0]>0.5:\n",
        "          test_mpp_predictions.append(1)\n",
        "        else:\n",
        "          test_mpp_predictions.append(0)\n",
        "        if outputs[0][1]>0.5:\n",
        "          test_ml_predictions.append(1)\n",
        "        else:\n",
        "          test_ml_predictions.append(0)\n",
        "        # validation_ml_predictions += torch.sum(preds == ml_targets)\n",
        "\n",
        "        real_test_mpp.append(mpp_targets.cpu().item())\n",
        "        real_test_ml.append(ml_targets.cpu().item())\n",
        "\n",
        "        test_mpp_accuracy = accuracy_score(real_test_mpp, test_mpp_predictions)\n",
        "        test_ml_accuracy = accuracy_score(real_test_ml, test_ml_predictions)\n",
        "\n",
        "  \n",
        "\n",
        "  print('Test MMP ACCURACY_SCORE: {:.4f},Test ML ACCURACY_SCORE: {:.4f}'.format(test_mpp_accuracy,test_ml_accuracy))"
      ],
      "metadata": {
        "id": "hrlzlp9eIKW0"
      },
      "execution_count": null,
      "outputs": []
    },
    {
      "cell_type": "code",
      "source": [
        "test_prediction(model, \n",
        "  test_dataloader, \n",
        "  loss_fn, \n",
        "  optimizer,\n",
        "  device,\n",
        "  \n",
        "  )"
      ],
      "metadata": {
        "colab": {
          "base_uri": "https://localhost:8080/"
        },
        "id": "ogh98U0aLIkH",
        "outputId": "db1cd32b-da61-4b72-aabe-e755262b86e4"
      },
      "execution_count": null,
      "outputs": [
        {
          "output_type": "stream",
          "name": "stdout",
          "text": [
            "Test MMP ACCURACY_SCORE: 0.6250,Test ML ACCURACY_SCORE: 0.4375\n"
          ]
        }
      ]
    },
    {
      "cell_type": "code",
      "source": [
        "model.load_state_dict(torch.load('fincom_ml_bert_state.bin', map_location=torch.device(\"cuda:0\")))"
      ],
      "metadata": {
        "id": "T-okvJ0O_K4N",
        "colab": {
          "base_uri": "https://localhost:8080/"
        },
        "outputId": "f14523e4-f7c1-4600-cc65-3f1ede01218d"
      },
      "execution_count": null,
      "outputs": [
        {
          "output_type": "execute_result",
          "data": {
            "text/plain": [
              "<All keys matched successfully>"
            ]
          },
          "metadata": {},
          "execution_count": 85
        }
      ]
    },
    {
      "cell_type": "code",
      "source": [
        "Test MMP ACCURACY_SCORE: 0.6875,Test ML ACCURACY_SCORE: 0.6250"
      ],
      "metadata": {
        "id": "2yqLpFTu2VzB"
      },
      "execution_count": null,
      "outputs": []
    },
    {
      "cell_type": "code",
      "source": [
        "Test MMP ACCURACY_SCORE: 0.6250,Test ML ACCURACY_SCORE: 0.4375  "
      ],
      "metadata": {
        "id": "AiohoviYU89W"
      },
      "execution_count": null,
      "outputs": []
    }
  ],
  "metadata": {
    "accelerator": "GPU",
    "colab": {
      "machine_shape": "hm",
      "name": "eeServic.ipynb",
      "provenance": [],
      "collapsed_sections": []
    },
    "gpuClass": "standard",
    "kernelspec": {
      "display_name": "Python 3",
      "name": "python3"
    },
    "language_info": {
      "name": "python"
    },
    "widgets": {
      "application/vnd.jupyter.widget-state+json": {
        "945e87d8486743e78d07519f3a3f9c62": {
          "model_module": "@jupyter-widgets/controls",
          "model_name": "HBoxModel",
          "model_module_version": "1.5.0",
          "state": {
            "_dom_classes": [],
            "_model_module": "@jupyter-widgets/controls",
            "_model_module_version": "1.5.0",
            "_model_name": "HBoxModel",
            "_view_count": null,
            "_view_module": "@jupyter-widgets/controls",
            "_view_module_version": "1.5.0",
            "_view_name": "HBoxView",
            "box_style": "",
            "children": [
              "IPY_MODEL_0a302943aa224d499769f1cb3fa71273",
              "IPY_MODEL_ee8b9d6af9ca4fb4a4c237f7d176c5c8",
              "IPY_MODEL_1a2d67d97a164e7c97248044714a0556"
            ],
            "layout": "IPY_MODEL_1edff0915a5347f3b655ee19d74dc5b8"
          }
        },
        "0a302943aa224d499769f1cb3fa71273": {
          "model_module": "@jupyter-widgets/controls",
          "model_name": "HTMLModel",
          "model_module_version": "1.5.0",
          "state": {
            "_dom_classes": [],
            "_model_module": "@jupyter-widgets/controls",
            "_model_module_version": "1.5.0",
            "_model_name": "HTMLModel",
            "_view_count": null,
            "_view_module": "@jupyter-widgets/controls",
            "_view_module_version": "1.5.0",
            "_view_name": "HTMLView",
            "description": "",
            "description_tooltip": null,
            "layout": "IPY_MODEL_bef3e06edbb94affa44b74d7f7186131",
            "placeholder": "​",
            "style": "IPY_MODEL_1e38b029832049dfbf49de6cd0994476",
            "value": "Downloading config.json: 100%"
          }
        },
        "ee8b9d6af9ca4fb4a4c237f7d176c5c8": {
          "model_module": "@jupyter-widgets/controls",
          "model_name": "FloatProgressModel",
          "model_module_version": "1.5.0",
          "state": {
            "_dom_classes": [],
            "_model_module": "@jupyter-widgets/controls",
            "_model_module_version": "1.5.0",
            "_model_name": "FloatProgressModel",
            "_view_count": null,
            "_view_module": "@jupyter-widgets/controls",
            "_view_module_version": "1.5.0",
            "_view_name": "ProgressView",
            "bar_style": "success",
            "description": "",
            "description_tooltip": null,
            "layout": "IPY_MODEL_6024611b64714fd1aafd02899246f7e7",
            "max": 533,
            "min": 0,
            "orientation": "horizontal",
            "style": "IPY_MODEL_ce5484a3438f4b3fb1cd62d4b7c82997",
            "value": 533
          }
        },
        "1a2d67d97a164e7c97248044714a0556": {
          "model_module": "@jupyter-widgets/controls",
          "model_name": "HTMLModel",
          "model_module_version": "1.5.0",
          "state": {
            "_dom_classes": [],
            "_model_module": "@jupyter-widgets/controls",
            "_model_module_version": "1.5.0",
            "_model_name": "HTMLModel",
            "_view_count": null,
            "_view_module": "@jupyter-widgets/controls",
            "_view_module_version": "1.5.0",
            "_view_name": "HTMLView",
            "description": "",
            "description_tooltip": null,
            "layout": "IPY_MODEL_8e5a23130e024ce484a9451d25de1c99",
            "placeholder": "​",
            "style": "IPY_MODEL_8d1b02b6c7b04ec3b7709dd942e34bf3",
            "value": " 533/533 [00:00&lt;00:00, 19.0kB/s]"
          }
        },
        "1edff0915a5347f3b655ee19d74dc5b8": {
          "model_module": "@jupyter-widgets/base",
          "model_name": "LayoutModel",
          "model_module_version": "1.2.0",
          "state": {
            "_model_module": "@jupyter-widgets/base",
            "_model_module_version": "1.2.0",
            "_model_name": "LayoutModel",
            "_view_count": null,
            "_view_module": "@jupyter-widgets/base",
            "_view_module_version": "1.2.0",
            "_view_name": "LayoutView",
            "align_content": null,
            "align_items": null,
            "align_self": null,
            "border": null,
            "bottom": null,
            "display": null,
            "flex": null,
            "flex_flow": null,
            "grid_area": null,
            "grid_auto_columns": null,
            "grid_auto_flow": null,
            "grid_auto_rows": null,
            "grid_column": null,
            "grid_gap": null,
            "grid_row": null,
            "grid_template_areas": null,
            "grid_template_columns": null,
            "grid_template_rows": null,
            "height": null,
            "justify_content": null,
            "justify_items": null,
            "left": null,
            "margin": null,
            "max_height": null,
            "max_width": null,
            "min_height": null,
            "min_width": null,
            "object_fit": null,
            "object_position": null,
            "order": null,
            "overflow": null,
            "overflow_x": null,
            "overflow_y": null,
            "padding": null,
            "right": null,
            "top": null,
            "visibility": null,
            "width": null
          }
        },
        "bef3e06edbb94affa44b74d7f7186131": {
          "model_module": "@jupyter-widgets/base",
          "model_name": "LayoutModel",
          "model_module_version": "1.2.0",
          "state": {
            "_model_module": "@jupyter-widgets/base",
            "_model_module_version": "1.2.0",
            "_model_name": "LayoutModel",
            "_view_count": null,
            "_view_module": "@jupyter-widgets/base",
            "_view_module_version": "1.2.0",
            "_view_name": "LayoutView",
            "align_content": null,
            "align_items": null,
            "align_self": null,
            "border": null,
            "bottom": null,
            "display": null,
            "flex": null,
            "flex_flow": null,
            "grid_area": null,
            "grid_auto_columns": null,
            "grid_auto_flow": null,
            "grid_auto_rows": null,
            "grid_column": null,
            "grid_gap": null,
            "grid_row": null,
            "grid_template_areas": null,
            "grid_template_columns": null,
            "grid_template_rows": null,
            "height": null,
            "justify_content": null,
            "justify_items": null,
            "left": null,
            "margin": null,
            "max_height": null,
            "max_width": null,
            "min_height": null,
            "min_width": null,
            "object_fit": null,
            "object_position": null,
            "order": null,
            "overflow": null,
            "overflow_x": null,
            "overflow_y": null,
            "padding": null,
            "right": null,
            "top": null,
            "visibility": null,
            "width": null
          }
        },
        "1e38b029832049dfbf49de6cd0994476": {
          "model_module": "@jupyter-widgets/controls",
          "model_name": "DescriptionStyleModel",
          "model_module_version": "1.5.0",
          "state": {
            "_model_module": "@jupyter-widgets/controls",
            "_model_module_version": "1.5.0",
            "_model_name": "DescriptionStyleModel",
            "_view_count": null,
            "_view_module": "@jupyter-widgets/base",
            "_view_module_version": "1.2.0",
            "_view_name": "StyleView",
            "description_width": ""
          }
        },
        "6024611b64714fd1aafd02899246f7e7": {
          "model_module": "@jupyter-widgets/base",
          "model_name": "LayoutModel",
          "model_module_version": "1.2.0",
          "state": {
            "_model_module": "@jupyter-widgets/base",
            "_model_module_version": "1.2.0",
            "_model_name": "LayoutModel",
            "_view_count": null,
            "_view_module": "@jupyter-widgets/base",
            "_view_module_version": "1.2.0",
            "_view_name": "LayoutView",
            "align_content": null,
            "align_items": null,
            "align_self": null,
            "border": null,
            "bottom": null,
            "display": null,
            "flex": null,
            "flex_flow": null,
            "grid_area": null,
            "grid_auto_columns": null,
            "grid_auto_flow": null,
            "grid_auto_rows": null,
            "grid_column": null,
            "grid_gap": null,
            "grid_row": null,
            "grid_template_areas": null,
            "grid_template_columns": null,
            "grid_template_rows": null,
            "height": null,
            "justify_content": null,
            "justify_items": null,
            "left": null,
            "margin": null,
            "max_height": null,
            "max_width": null,
            "min_height": null,
            "min_width": null,
            "object_fit": null,
            "object_position": null,
            "order": null,
            "overflow": null,
            "overflow_x": null,
            "overflow_y": null,
            "padding": null,
            "right": null,
            "top": null,
            "visibility": null,
            "width": null
          }
        },
        "ce5484a3438f4b3fb1cd62d4b7c82997": {
          "model_module": "@jupyter-widgets/controls",
          "model_name": "ProgressStyleModel",
          "model_module_version": "1.5.0",
          "state": {
            "_model_module": "@jupyter-widgets/controls",
            "_model_module_version": "1.5.0",
            "_model_name": "ProgressStyleModel",
            "_view_count": null,
            "_view_module": "@jupyter-widgets/base",
            "_view_module_version": "1.2.0",
            "_view_name": "StyleView",
            "bar_color": null,
            "description_width": ""
          }
        },
        "8e5a23130e024ce484a9451d25de1c99": {
          "model_module": "@jupyter-widgets/base",
          "model_name": "LayoutModel",
          "model_module_version": "1.2.0",
          "state": {
            "_model_module": "@jupyter-widgets/base",
            "_model_module_version": "1.2.0",
            "_model_name": "LayoutModel",
            "_view_count": null,
            "_view_module": "@jupyter-widgets/base",
            "_view_module_version": "1.2.0",
            "_view_name": "LayoutView",
            "align_content": null,
            "align_items": null,
            "align_self": null,
            "border": null,
            "bottom": null,
            "display": null,
            "flex": null,
            "flex_flow": null,
            "grid_area": null,
            "grid_auto_columns": null,
            "grid_auto_flow": null,
            "grid_auto_rows": null,
            "grid_column": null,
            "grid_gap": null,
            "grid_row": null,
            "grid_template_areas": null,
            "grid_template_columns": null,
            "grid_template_rows": null,
            "height": null,
            "justify_content": null,
            "justify_items": null,
            "left": null,
            "margin": null,
            "max_height": null,
            "max_width": null,
            "min_height": null,
            "min_width": null,
            "object_fit": null,
            "object_position": null,
            "order": null,
            "overflow": null,
            "overflow_x": null,
            "overflow_y": null,
            "padding": null,
            "right": null,
            "top": null,
            "visibility": null,
            "width": null
          }
        },
        "8d1b02b6c7b04ec3b7709dd942e34bf3": {
          "model_module": "@jupyter-widgets/controls",
          "model_name": "DescriptionStyleModel",
          "model_module_version": "1.5.0",
          "state": {
            "_model_module": "@jupyter-widgets/controls",
            "_model_module_version": "1.5.0",
            "_model_name": "DescriptionStyleModel",
            "_view_count": null,
            "_view_module": "@jupyter-widgets/base",
            "_view_module_version": "1.2.0",
            "_view_name": "StyleView",
            "description_width": ""
          }
        },
        "2764944f755f4f66ada3da2fe2106a0c": {
          "model_module": "@jupyter-widgets/controls",
          "model_name": "HBoxModel",
          "model_module_version": "1.5.0",
          "state": {
            "_dom_classes": [],
            "_model_module": "@jupyter-widgets/controls",
            "_model_module_version": "1.5.0",
            "_model_name": "HBoxModel",
            "_view_count": null,
            "_view_module": "@jupyter-widgets/controls",
            "_view_module_version": "1.5.0",
            "_view_name": "HBoxView",
            "box_style": "",
            "children": [
              "IPY_MODEL_f69e17946c1e42d1b921bd73574ed86c",
              "IPY_MODEL_055de01eaa4f4df58a6b802a9016e455",
              "IPY_MODEL_8b3ab134a00341579b6fe513a4bcb564"
            ],
            "layout": "IPY_MODEL_5e654c28f0064e359ef097d2b096f907"
          }
        },
        "f69e17946c1e42d1b921bd73574ed86c": {
          "model_module": "@jupyter-widgets/controls",
          "model_name": "HTMLModel",
          "model_module_version": "1.5.0",
          "state": {
            "_dom_classes": [],
            "_model_module": "@jupyter-widgets/controls",
            "_model_module_version": "1.5.0",
            "_model_name": "HTMLModel",
            "_view_count": null,
            "_view_module": "@jupyter-widgets/controls",
            "_view_module_version": "1.5.0",
            "_view_name": "HTMLView",
            "description": "",
            "description_tooltip": null,
            "layout": "IPY_MODEL_f63562062bc64c7a886bccd6181db63d",
            "placeholder": "​",
            "style": "IPY_MODEL_68b23808063d4cf1bb52236ec6239962",
            "value": "Downloading vocab.txt: 100%"
          }
        },
        "055de01eaa4f4df58a6b802a9016e455": {
          "model_module": "@jupyter-widgets/controls",
          "model_name": "FloatProgressModel",
          "model_module_version": "1.5.0",
          "state": {
            "_dom_classes": [],
            "_model_module": "@jupyter-widgets/controls",
            "_model_module_version": "1.5.0",
            "_model_name": "FloatProgressModel",
            "_view_count": null,
            "_view_module": "@jupyter-widgets/controls",
            "_view_module_version": "1.5.0",
            "_view_name": "ProgressView",
            "bar_style": "success",
            "description": "",
            "description_tooltip": null,
            "layout": "IPY_MODEL_23882e3d5b0149c7ad6a6aff8bc865be",
            "max": 226122,
            "min": 0,
            "orientation": "horizontal",
            "style": "IPY_MODEL_528900d6b4ba40889e9210346b7c53ec",
            "value": 226122
          }
        },
        "8b3ab134a00341579b6fe513a4bcb564": {
          "model_module": "@jupyter-widgets/controls",
          "model_name": "HTMLModel",
          "model_module_version": "1.5.0",
          "state": {
            "_dom_classes": [],
            "_model_module": "@jupyter-widgets/controls",
            "_model_module_version": "1.5.0",
            "_model_name": "HTMLModel",
            "_view_count": null,
            "_view_module": "@jupyter-widgets/controls",
            "_view_module_version": "1.5.0",
            "_view_name": "HTMLView",
            "description": "",
            "description_tooltip": null,
            "layout": "IPY_MODEL_22084f2e45834a02bac5925800e784d2",
            "placeholder": "​",
            "style": "IPY_MODEL_b67aeac5f4cb46a49146bcb2765d6d10",
            "value": " 221k/221k [00:00&lt;00:00, 906kB/s]"
          }
        },
        "5e654c28f0064e359ef097d2b096f907": {
          "model_module": "@jupyter-widgets/base",
          "model_name": "LayoutModel",
          "model_module_version": "1.2.0",
          "state": {
            "_model_module": "@jupyter-widgets/base",
            "_model_module_version": "1.2.0",
            "_model_name": "LayoutModel",
            "_view_count": null,
            "_view_module": "@jupyter-widgets/base",
            "_view_module_version": "1.2.0",
            "_view_name": "LayoutView",
            "align_content": null,
            "align_items": null,
            "align_self": null,
            "border": null,
            "bottom": null,
            "display": null,
            "flex": null,
            "flex_flow": null,
            "grid_area": null,
            "grid_auto_columns": null,
            "grid_auto_flow": null,
            "grid_auto_rows": null,
            "grid_column": null,
            "grid_gap": null,
            "grid_row": null,
            "grid_template_areas": null,
            "grid_template_columns": null,
            "grid_template_rows": null,
            "height": null,
            "justify_content": null,
            "justify_items": null,
            "left": null,
            "margin": null,
            "max_height": null,
            "max_width": null,
            "min_height": null,
            "min_width": null,
            "object_fit": null,
            "object_position": null,
            "order": null,
            "overflow": null,
            "overflow_x": null,
            "overflow_y": null,
            "padding": null,
            "right": null,
            "top": null,
            "visibility": null,
            "width": null
          }
        },
        "f63562062bc64c7a886bccd6181db63d": {
          "model_module": "@jupyter-widgets/base",
          "model_name": "LayoutModel",
          "model_module_version": "1.2.0",
          "state": {
            "_model_module": "@jupyter-widgets/base",
            "_model_module_version": "1.2.0",
            "_model_name": "LayoutModel",
            "_view_count": null,
            "_view_module": "@jupyter-widgets/base",
            "_view_module_version": "1.2.0",
            "_view_name": "LayoutView",
            "align_content": null,
            "align_items": null,
            "align_self": null,
            "border": null,
            "bottom": null,
            "display": null,
            "flex": null,
            "flex_flow": null,
            "grid_area": null,
            "grid_auto_columns": null,
            "grid_auto_flow": null,
            "grid_auto_rows": null,
            "grid_column": null,
            "grid_gap": null,
            "grid_row": null,
            "grid_template_areas": null,
            "grid_template_columns": null,
            "grid_template_rows": null,
            "height": null,
            "justify_content": null,
            "justify_items": null,
            "left": null,
            "margin": null,
            "max_height": null,
            "max_width": null,
            "min_height": null,
            "min_width": null,
            "object_fit": null,
            "object_position": null,
            "order": null,
            "overflow": null,
            "overflow_x": null,
            "overflow_y": null,
            "padding": null,
            "right": null,
            "top": null,
            "visibility": null,
            "width": null
          }
        },
        "68b23808063d4cf1bb52236ec6239962": {
          "model_module": "@jupyter-widgets/controls",
          "model_name": "DescriptionStyleModel",
          "model_module_version": "1.5.0",
          "state": {
            "_model_module": "@jupyter-widgets/controls",
            "_model_module_version": "1.5.0",
            "_model_name": "DescriptionStyleModel",
            "_view_count": null,
            "_view_module": "@jupyter-widgets/base",
            "_view_module_version": "1.2.0",
            "_view_name": "StyleView",
            "description_width": ""
          }
        },
        "23882e3d5b0149c7ad6a6aff8bc865be": {
          "model_module": "@jupyter-widgets/base",
          "model_name": "LayoutModel",
          "model_module_version": "1.2.0",
          "state": {
            "_model_module": "@jupyter-widgets/base",
            "_model_module_version": "1.2.0",
            "_model_name": "LayoutModel",
            "_view_count": null,
            "_view_module": "@jupyter-widgets/base",
            "_view_module_version": "1.2.0",
            "_view_name": "LayoutView",
            "align_content": null,
            "align_items": null,
            "align_self": null,
            "border": null,
            "bottom": null,
            "display": null,
            "flex": null,
            "flex_flow": null,
            "grid_area": null,
            "grid_auto_columns": null,
            "grid_auto_flow": null,
            "grid_auto_rows": null,
            "grid_column": null,
            "grid_gap": null,
            "grid_row": null,
            "grid_template_areas": null,
            "grid_template_columns": null,
            "grid_template_rows": null,
            "height": null,
            "justify_content": null,
            "justify_items": null,
            "left": null,
            "margin": null,
            "max_height": null,
            "max_width": null,
            "min_height": null,
            "min_width": null,
            "object_fit": null,
            "object_position": null,
            "order": null,
            "overflow": null,
            "overflow_x": null,
            "overflow_y": null,
            "padding": null,
            "right": null,
            "top": null,
            "visibility": null,
            "width": null
          }
        },
        "528900d6b4ba40889e9210346b7c53ec": {
          "model_module": "@jupyter-widgets/controls",
          "model_name": "ProgressStyleModel",
          "model_module_version": "1.5.0",
          "state": {
            "_model_module": "@jupyter-widgets/controls",
            "_model_module_version": "1.5.0",
            "_model_name": "ProgressStyleModel",
            "_view_count": null,
            "_view_module": "@jupyter-widgets/base",
            "_view_module_version": "1.2.0",
            "_view_name": "StyleView",
            "bar_color": null,
            "description_width": ""
          }
        },
        "22084f2e45834a02bac5925800e784d2": {
          "model_module": "@jupyter-widgets/base",
          "model_name": "LayoutModel",
          "model_module_version": "1.2.0",
          "state": {
            "_model_module": "@jupyter-widgets/base",
            "_model_module_version": "1.2.0",
            "_model_name": "LayoutModel",
            "_view_count": null,
            "_view_module": "@jupyter-widgets/base",
            "_view_module_version": "1.2.0",
            "_view_name": "LayoutView",
            "align_content": null,
            "align_items": null,
            "align_self": null,
            "border": null,
            "bottom": null,
            "display": null,
            "flex": null,
            "flex_flow": null,
            "grid_area": null,
            "grid_auto_columns": null,
            "grid_auto_flow": null,
            "grid_auto_rows": null,
            "grid_column": null,
            "grid_gap": null,
            "grid_row": null,
            "grid_template_areas": null,
            "grid_template_columns": null,
            "grid_template_rows": null,
            "height": null,
            "justify_content": null,
            "justify_items": null,
            "left": null,
            "margin": null,
            "max_height": null,
            "max_width": null,
            "min_height": null,
            "min_width": null,
            "object_fit": null,
            "object_position": null,
            "order": null,
            "overflow": null,
            "overflow_x": null,
            "overflow_y": null,
            "padding": null,
            "right": null,
            "top": null,
            "visibility": null,
            "width": null
          }
        },
        "b67aeac5f4cb46a49146bcb2765d6d10": {
          "model_module": "@jupyter-widgets/controls",
          "model_name": "DescriptionStyleModel",
          "model_module_version": "1.5.0",
          "state": {
            "_model_module": "@jupyter-widgets/controls",
            "_model_module_version": "1.5.0",
            "_model_name": "DescriptionStyleModel",
            "_view_count": null,
            "_view_module": "@jupyter-widgets/base",
            "_view_module_version": "1.2.0",
            "_view_name": "StyleView",
            "description_width": ""
          }
        },
        "892b0a87e3e949b985723efa26757b28": {
          "model_module": "@jupyter-widgets/controls",
          "model_name": "HBoxModel",
          "model_module_version": "1.5.0",
          "state": {
            "_dom_classes": [],
            "_model_module": "@jupyter-widgets/controls",
            "_model_module_version": "1.5.0",
            "_model_name": "HBoxModel",
            "_view_count": null,
            "_view_module": "@jupyter-widgets/controls",
            "_view_module_version": "1.5.0",
            "_view_name": "HBoxView",
            "box_style": "",
            "children": [
              "IPY_MODEL_b97450b62d844f05a81f26c33f854b76",
              "IPY_MODEL_6b68a4052442422f9aae0b9dc1599609",
              "IPY_MODEL_cc2c301f89724fbca5690f4d66e16fde"
            ],
            "layout": "IPY_MODEL_eb327b70a7ac4020a7711c21400469e7"
          }
        },
        "b97450b62d844f05a81f26c33f854b76": {
          "model_module": "@jupyter-widgets/controls",
          "model_name": "HTMLModel",
          "model_module_version": "1.5.0",
          "state": {
            "_dom_classes": [],
            "_model_module": "@jupyter-widgets/controls",
            "_model_module_version": "1.5.0",
            "_model_name": "HTMLModel",
            "_view_count": null,
            "_view_module": "@jupyter-widgets/controls",
            "_view_module_version": "1.5.0",
            "_view_name": "HTMLView",
            "description": "",
            "description_tooltip": null,
            "layout": "IPY_MODEL_24d3e2276fad463997eda3463ba1c96e",
            "placeholder": "​",
            "style": "IPY_MODEL_be58f1cd0ad146afbf12704808642959",
            "value": "Downloading pytorch_model.bin: 100%"
          }
        },
        "6b68a4052442422f9aae0b9dc1599609": {
          "model_module": "@jupyter-widgets/controls",
          "model_name": "FloatProgressModel",
          "model_module_version": "1.5.0",
          "state": {
            "_dom_classes": [],
            "_model_module": "@jupyter-widgets/controls",
            "_model_module_version": "1.5.0",
            "_model_name": "FloatProgressModel",
            "_view_count": null,
            "_view_module": "@jupyter-widgets/controls",
            "_view_module_version": "1.5.0",
            "_view_name": "ProgressView",
            "bar_style": "success",
            "description": "",
            "description_tooltip": null,
            "layout": "IPY_MODEL_e71bdcf1514643c496809fc0c92055ed",
            "max": 439101405,
            "min": 0,
            "orientation": "horizontal",
            "style": "IPY_MODEL_9a387a940c2e47b98669f282b2c7c279",
            "value": 439101405
          }
        },
        "cc2c301f89724fbca5690f4d66e16fde": {
          "model_module": "@jupyter-widgets/controls",
          "model_name": "HTMLModel",
          "model_module_version": "1.5.0",
          "state": {
            "_dom_classes": [],
            "_model_module": "@jupyter-widgets/controls",
            "_model_module_version": "1.5.0",
            "_model_name": "HTMLModel",
            "_view_count": null,
            "_view_module": "@jupyter-widgets/controls",
            "_view_module_version": "1.5.0",
            "_view_name": "HTMLView",
            "description": "",
            "description_tooltip": null,
            "layout": "IPY_MODEL_526a4dd00d9e41a9a27b7b2fdf522a3e",
            "placeholder": "​",
            "style": "IPY_MODEL_d2678f65bbc040939fb85f447c416743",
            "value": " 419M/419M [00:07&lt;00:00, 64.1MB/s]"
          }
        },
        "eb327b70a7ac4020a7711c21400469e7": {
          "model_module": "@jupyter-widgets/base",
          "model_name": "LayoutModel",
          "model_module_version": "1.2.0",
          "state": {
            "_model_module": "@jupyter-widgets/base",
            "_model_module_version": "1.2.0",
            "_model_name": "LayoutModel",
            "_view_count": null,
            "_view_module": "@jupyter-widgets/base",
            "_view_module_version": "1.2.0",
            "_view_name": "LayoutView",
            "align_content": null,
            "align_items": null,
            "align_self": null,
            "border": null,
            "bottom": null,
            "display": null,
            "flex": null,
            "flex_flow": null,
            "grid_area": null,
            "grid_auto_columns": null,
            "grid_auto_flow": null,
            "grid_auto_rows": null,
            "grid_column": null,
            "grid_gap": null,
            "grid_row": null,
            "grid_template_areas": null,
            "grid_template_columns": null,
            "grid_template_rows": null,
            "height": null,
            "justify_content": null,
            "justify_items": null,
            "left": null,
            "margin": null,
            "max_height": null,
            "max_width": null,
            "min_height": null,
            "min_width": null,
            "object_fit": null,
            "object_position": null,
            "order": null,
            "overflow": null,
            "overflow_x": null,
            "overflow_y": null,
            "padding": null,
            "right": null,
            "top": null,
            "visibility": null,
            "width": null
          }
        },
        "24d3e2276fad463997eda3463ba1c96e": {
          "model_module": "@jupyter-widgets/base",
          "model_name": "LayoutModel",
          "model_module_version": "1.2.0",
          "state": {
            "_model_module": "@jupyter-widgets/base",
            "_model_module_version": "1.2.0",
            "_model_name": "LayoutModel",
            "_view_count": null,
            "_view_module": "@jupyter-widgets/base",
            "_view_module_version": "1.2.0",
            "_view_name": "LayoutView",
            "align_content": null,
            "align_items": null,
            "align_self": null,
            "border": null,
            "bottom": null,
            "display": null,
            "flex": null,
            "flex_flow": null,
            "grid_area": null,
            "grid_auto_columns": null,
            "grid_auto_flow": null,
            "grid_auto_rows": null,
            "grid_column": null,
            "grid_gap": null,
            "grid_row": null,
            "grid_template_areas": null,
            "grid_template_columns": null,
            "grid_template_rows": null,
            "height": null,
            "justify_content": null,
            "justify_items": null,
            "left": null,
            "margin": null,
            "max_height": null,
            "max_width": null,
            "min_height": null,
            "min_width": null,
            "object_fit": null,
            "object_position": null,
            "order": null,
            "overflow": null,
            "overflow_x": null,
            "overflow_y": null,
            "padding": null,
            "right": null,
            "top": null,
            "visibility": null,
            "width": null
          }
        },
        "be58f1cd0ad146afbf12704808642959": {
          "model_module": "@jupyter-widgets/controls",
          "model_name": "DescriptionStyleModel",
          "model_module_version": "1.5.0",
          "state": {
            "_model_module": "@jupyter-widgets/controls",
            "_model_module_version": "1.5.0",
            "_model_name": "DescriptionStyleModel",
            "_view_count": null,
            "_view_module": "@jupyter-widgets/base",
            "_view_module_version": "1.2.0",
            "_view_name": "StyleView",
            "description_width": ""
          }
        },
        "e71bdcf1514643c496809fc0c92055ed": {
          "model_module": "@jupyter-widgets/base",
          "model_name": "LayoutModel",
          "model_module_version": "1.2.0",
          "state": {
            "_model_module": "@jupyter-widgets/base",
            "_model_module_version": "1.2.0",
            "_model_name": "LayoutModel",
            "_view_count": null,
            "_view_module": "@jupyter-widgets/base",
            "_view_module_version": "1.2.0",
            "_view_name": "LayoutView",
            "align_content": null,
            "align_items": null,
            "align_self": null,
            "border": null,
            "bottom": null,
            "display": null,
            "flex": null,
            "flex_flow": null,
            "grid_area": null,
            "grid_auto_columns": null,
            "grid_auto_flow": null,
            "grid_auto_rows": null,
            "grid_column": null,
            "grid_gap": null,
            "grid_row": null,
            "grid_template_areas": null,
            "grid_template_columns": null,
            "grid_template_rows": null,
            "height": null,
            "justify_content": null,
            "justify_items": null,
            "left": null,
            "margin": null,
            "max_height": null,
            "max_width": null,
            "min_height": null,
            "min_width": null,
            "object_fit": null,
            "object_position": null,
            "order": null,
            "overflow": null,
            "overflow_x": null,
            "overflow_y": null,
            "padding": null,
            "right": null,
            "top": null,
            "visibility": null,
            "width": null
          }
        },
        "9a387a940c2e47b98669f282b2c7c279": {
          "model_module": "@jupyter-widgets/controls",
          "model_name": "ProgressStyleModel",
          "model_module_version": "1.5.0",
          "state": {
            "_model_module": "@jupyter-widgets/controls",
            "_model_module_version": "1.5.0",
            "_model_name": "ProgressStyleModel",
            "_view_count": null,
            "_view_module": "@jupyter-widgets/base",
            "_view_module_version": "1.2.0",
            "_view_name": "StyleView",
            "bar_color": null,
            "description_width": ""
          }
        },
        "526a4dd00d9e41a9a27b7b2fdf522a3e": {
          "model_module": "@jupyter-widgets/base",
          "model_name": "LayoutModel",
          "model_module_version": "1.2.0",
          "state": {
            "_model_module": "@jupyter-widgets/base",
            "_model_module_version": "1.2.0",
            "_model_name": "LayoutModel",
            "_view_count": null,
            "_view_module": "@jupyter-widgets/base",
            "_view_module_version": "1.2.0",
            "_view_name": "LayoutView",
            "align_content": null,
            "align_items": null,
            "align_self": null,
            "border": null,
            "bottom": null,
            "display": null,
            "flex": null,
            "flex_flow": null,
            "grid_area": null,
            "grid_auto_columns": null,
            "grid_auto_flow": null,
            "grid_auto_rows": null,
            "grid_column": null,
            "grid_gap": null,
            "grid_row": null,
            "grid_template_areas": null,
            "grid_template_columns": null,
            "grid_template_rows": null,
            "height": null,
            "justify_content": null,
            "justify_items": null,
            "left": null,
            "margin": null,
            "max_height": null,
            "max_width": null,
            "min_height": null,
            "min_width": null,
            "object_fit": null,
            "object_position": null,
            "order": null,
            "overflow": null,
            "overflow_x": null,
            "overflow_y": null,
            "padding": null,
            "right": null,
            "top": null,
            "visibility": null,
            "width": null
          }
        },
        "d2678f65bbc040939fb85f447c416743": {
          "model_module": "@jupyter-widgets/controls",
          "model_name": "DescriptionStyleModel",
          "model_module_version": "1.5.0",
          "state": {
            "_model_module": "@jupyter-widgets/controls",
            "_model_module_version": "1.5.0",
            "_model_name": "DescriptionStyleModel",
            "_view_count": null,
            "_view_module": "@jupyter-widgets/base",
            "_view_module_version": "1.2.0",
            "_view_name": "StyleView",
            "description_width": ""
          }
        }
      }
    }
  },
  "nbformat": 4,
  "nbformat_minor": 0
}